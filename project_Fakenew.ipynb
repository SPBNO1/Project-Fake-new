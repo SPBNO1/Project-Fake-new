{
  "nbformat": 4,
  "nbformat_minor": 0,
  "metadata": {
    "colab": {
      "provenance": [],
      "authorship_tag": "ABX9TyO5weHeG1bgCD8i8TDxVKAD",
      "include_colab_link": true
    },
    "kernelspec": {
      "name": "python3",
      "display_name": "Python 3"
    },
    "language_info": {
      "name": "python"
    },
    "widgets": {
      "application/vnd.jupyter.widget-state+json": {
        "1f45fc7ff24148839cc7ba6d5fc5b94b": {
          "model_module": "@jupyter-widgets/controls",
          "model_name": "HBoxModel",
          "model_module_version": "1.5.0",
          "state": {
            "_dom_classes": [],
            "_model_module": "@jupyter-widgets/controls",
            "_model_module_version": "1.5.0",
            "_model_name": "HBoxModel",
            "_view_count": null,
            "_view_module": "@jupyter-widgets/controls",
            "_view_module_version": "1.5.0",
            "_view_name": "HBoxView",
            "box_style": "",
            "children": [
              "IPY_MODEL_0a1ead109f014ceea9c2526480bd2771",
              "IPY_MODEL_e9158fe3b082407faaaefef29ed48d6f",
              "IPY_MODEL_192f69f52ce64dd68602d2cfd0479c51"
            ],
            "layout": "IPY_MODEL_fa4c344998904eb29797847d4e59d08a"
          }
        },
        "0a1ead109f014ceea9c2526480bd2771": {
          "model_module": "@jupyter-widgets/controls",
          "model_name": "HTMLModel",
          "model_module_version": "1.5.0",
          "state": {
            "_dom_classes": [],
            "_model_module": "@jupyter-widgets/controls",
            "_model_module_version": "1.5.0",
            "_model_name": "HTMLModel",
            "_view_count": null,
            "_view_module": "@jupyter-widgets/controls",
            "_view_module_version": "1.5.0",
            "_view_name": "HTMLView",
            "description": "",
            "description_tooltip": null,
            "layout": "IPY_MODEL_2d08bc8e31284a9480a7beba73d17ec6",
            "placeholder": "​",
            "style": "IPY_MODEL_75c4f20eaa024f11abc202a9c87f5ec4",
            "value": "100%"
          }
        },
        "e9158fe3b082407faaaefef29ed48d6f": {
          "model_module": "@jupyter-widgets/controls",
          "model_name": "FloatProgressModel",
          "model_module_version": "1.5.0",
          "state": {
            "_dom_classes": [],
            "_model_module": "@jupyter-widgets/controls",
            "_model_module_version": "1.5.0",
            "_model_name": "FloatProgressModel",
            "_view_count": null,
            "_view_module": "@jupyter-widgets/controls",
            "_view_module_version": "1.5.0",
            "_view_name": "ProgressView",
            "bar_style": "success",
            "description": "",
            "description_tooltip": null,
            "layout": "IPY_MODEL_3fe92beaf16744c0986c49187ebbfe60",
            "max": 1050919089,
            "min": 0,
            "orientation": "horizontal",
            "style": "IPY_MODEL_9e9343184d5442bba1f799b90bfb7cd0",
            "value": 1050919089
          }
        },
        "192f69f52ce64dd68602d2cfd0479c51": {
          "model_module": "@jupyter-widgets/controls",
          "model_name": "HTMLModel",
          "model_module_version": "1.5.0",
          "state": {
            "_dom_classes": [],
            "_model_module": "@jupyter-widgets/controls",
            "_model_module_version": "1.5.0",
            "_model_name": "HTMLModel",
            "_view_count": null,
            "_view_module": "@jupyter-widgets/controls",
            "_view_module_version": "1.5.0",
            "_view_name": "HTMLView",
            "description": "",
            "description_tooltip": null,
            "layout": "IPY_MODEL_63ecea59b43e4f629e9e5d6e4bed7153",
            "placeholder": "​",
            "style": "IPY_MODEL_0529e4061d5a449ea6fd7690628401fc",
            "value": " 1050919089/1050919089 [00:12&lt;00:00, 151292597.44it/s]"
          }
        },
        "fa4c344998904eb29797847d4e59d08a": {
          "model_module": "@jupyter-widgets/base",
          "model_name": "LayoutModel",
          "model_module_version": "1.2.0",
          "state": {
            "_model_module": "@jupyter-widgets/base",
            "_model_module_version": "1.2.0",
            "_model_name": "LayoutModel",
            "_view_count": null,
            "_view_module": "@jupyter-widgets/base",
            "_view_module_version": "1.2.0",
            "_view_name": "LayoutView",
            "align_content": null,
            "align_items": null,
            "align_self": null,
            "border": null,
            "bottom": null,
            "display": null,
            "flex": null,
            "flex_flow": null,
            "grid_area": null,
            "grid_auto_columns": null,
            "grid_auto_flow": null,
            "grid_auto_rows": null,
            "grid_column": null,
            "grid_gap": null,
            "grid_row": null,
            "grid_template_areas": null,
            "grid_template_columns": null,
            "grid_template_rows": null,
            "height": null,
            "justify_content": null,
            "justify_items": null,
            "left": null,
            "margin": null,
            "max_height": null,
            "max_width": null,
            "min_height": null,
            "min_width": null,
            "object_fit": null,
            "object_position": null,
            "order": null,
            "overflow": null,
            "overflow_x": null,
            "overflow_y": null,
            "padding": null,
            "right": null,
            "top": null,
            "visibility": null,
            "width": null
          }
        },
        "2d08bc8e31284a9480a7beba73d17ec6": {
          "model_module": "@jupyter-widgets/base",
          "model_name": "LayoutModel",
          "model_module_version": "1.2.0",
          "state": {
            "_model_module": "@jupyter-widgets/base",
            "_model_module_version": "1.2.0",
            "_model_name": "LayoutModel",
            "_view_count": null,
            "_view_module": "@jupyter-widgets/base",
            "_view_module_version": "1.2.0",
            "_view_name": "LayoutView",
            "align_content": null,
            "align_items": null,
            "align_self": null,
            "border": null,
            "bottom": null,
            "display": null,
            "flex": null,
            "flex_flow": null,
            "grid_area": null,
            "grid_auto_columns": null,
            "grid_auto_flow": null,
            "grid_auto_rows": null,
            "grid_column": null,
            "grid_gap": null,
            "grid_row": null,
            "grid_template_areas": null,
            "grid_template_columns": null,
            "grid_template_rows": null,
            "height": null,
            "justify_content": null,
            "justify_items": null,
            "left": null,
            "margin": null,
            "max_height": null,
            "max_width": null,
            "min_height": null,
            "min_width": null,
            "object_fit": null,
            "object_position": null,
            "order": null,
            "overflow": null,
            "overflow_x": null,
            "overflow_y": null,
            "padding": null,
            "right": null,
            "top": null,
            "visibility": null,
            "width": null
          }
        },
        "75c4f20eaa024f11abc202a9c87f5ec4": {
          "model_module": "@jupyter-widgets/controls",
          "model_name": "DescriptionStyleModel",
          "model_module_version": "1.5.0",
          "state": {
            "_model_module": "@jupyter-widgets/controls",
            "_model_module_version": "1.5.0",
            "_model_name": "DescriptionStyleModel",
            "_view_count": null,
            "_view_module": "@jupyter-widgets/base",
            "_view_module_version": "1.2.0",
            "_view_name": "StyleView",
            "description_width": ""
          }
        },
        "3fe92beaf16744c0986c49187ebbfe60": {
          "model_module": "@jupyter-widgets/base",
          "model_name": "LayoutModel",
          "model_module_version": "1.2.0",
          "state": {
            "_model_module": "@jupyter-widgets/base",
            "_model_module_version": "1.2.0",
            "_model_name": "LayoutModel",
            "_view_count": null,
            "_view_module": "@jupyter-widgets/base",
            "_view_module_version": "1.2.0",
            "_view_name": "LayoutView",
            "align_content": null,
            "align_items": null,
            "align_self": null,
            "border": null,
            "bottom": null,
            "display": null,
            "flex": null,
            "flex_flow": null,
            "grid_area": null,
            "grid_auto_columns": null,
            "grid_auto_flow": null,
            "grid_auto_rows": null,
            "grid_column": null,
            "grid_gap": null,
            "grid_row": null,
            "grid_template_areas": null,
            "grid_template_columns": null,
            "grid_template_rows": null,
            "height": null,
            "justify_content": null,
            "justify_items": null,
            "left": null,
            "margin": null,
            "max_height": null,
            "max_width": null,
            "min_height": null,
            "min_width": null,
            "object_fit": null,
            "object_position": null,
            "order": null,
            "overflow": null,
            "overflow_x": null,
            "overflow_y": null,
            "padding": null,
            "right": null,
            "top": null,
            "visibility": null,
            "width": null
          }
        },
        "9e9343184d5442bba1f799b90bfb7cd0": {
          "model_module": "@jupyter-widgets/controls",
          "model_name": "ProgressStyleModel",
          "model_module_version": "1.5.0",
          "state": {
            "_model_module": "@jupyter-widgets/controls",
            "_model_module_version": "1.5.0",
            "_model_name": "ProgressStyleModel",
            "_view_count": null,
            "_view_module": "@jupyter-widgets/base",
            "_view_module_version": "1.2.0",
            "_view_name": "StyleView",
            "bar_color": null,
            "description_width": ""
          }
        },
        "63ecea59b43e4f629e9e5d6e4bed7153": {
          "model_module": "@jupyter-widgets/base",
          "model_name": "LayoutModel",
          "model_module_version": "1.2.0",
          "state": {
            "_model_module": "@jupyter-widgets/base",
            "_model_module_version": "1.2.0",
            "_model_name": "LayoutModel",
            "_view_count": null,
            "_view_module": "@jupyter-widgets/base",
            "_view_module_version": "1.2.0",
            "_view_name": "LayoutView",
            "align_content": null,
            "align_items": null,
            "align_self": null,
            "border": null,
            "bottom": null,
            "display": null,
            "flex": null,
            "flex_flow": null,
            "grid_area": null,
            "grid_auto_columns": null,
            "grid_auto_flow": null,
            "grid_auto_rows": null,
            "grid_column": null,
            "grid_gap": null,
            "grid_row": null,
            "grid_template_areas": null,
            "grid_template_columns": null,
            "grid_template_rows": null,
            "height": null,
            "justify_content": null,
            "justify_items": null,
            "left": null,
            "margin": null,
            "max_height": null,
            "max_width": null,
            "min_height": null,
            "min_width": null,
            "object_fit": null,
            "object_position": null,
            "order": null,
            "overflow": null,
            "overflow_x": null,
            "overflow_y": null,
            "padding": null,
            "right": null,
            "top": null,
            "visibility": null,
            "width": null
          }
        },
        "0529e4061d5a449ea6fd7690628401fc": {
          "model_module": "@jupyter-widgets/controls",
          "model_name": "DescriptionStyleModel",
          "model_module_version": "1.5.0",
          "state": {
            "_model_module": "@jupyter-widgets/controls",
            "_model_module_version": "1.5.0",
            "_model_name": "DescriptionStyleModel",
            "_view_count": null,
            "_view_module": "@jupyter-widgets/base",
            "_view_module_version": "1.2.0",
            "_view_name": "StyleView",
            "description_width": ""
          }
        },
        "abd2361ba3d1471a92ea1c6d73bf653d": {
          "model_module": "@jupyter-widgets/controls",
          "model_name": "HBoxModel",
          "model_module_version": "1.5.0",
          "state": {
            "_dom_classes": [],
            "_model_module": "@jupyter-widgets/controls",
            "_model_module_version": "1.5.0",
            "_model_name": "HBoxModel",
            "_view_count": null,
            "_view_module": "@jupyter-widgets/controls",
            "_view_module_version": "1.5.0",
            "_view_name": "HBoxView",
            "box_style": "",
            "children": [
              "IPY_MODEL_7a16a500f9774b09a52e84c304dda164",
              "IPY_MODEL_7393e88629854fa5ba372cd0df6cada3",
              "IPY_MODEL_3e184255964041baaea78e37f6cdebbc"
            ],
            "layout": "IPY_MODEL_f1aacd25854f49819aad7983283d36d9"
          }
        },
        "7a16a500f9774b09a52e84c304dda164": {
          "model_module": "@jupyter-widgets/controls",
          "model_name": "HTMLModel",
          "model_module_version": "1.5.0",
          "state": {
            "_dom_classes": [],
            "_model_module": "@jupyter-widgets/controls",
            "_model_module_version": "1.5.0",
            "_model_name": "HTMLModel",
            "_view_count": null,
            "_view_module": "@jupyter-widgets/controls",
            "_view_module_version": "1.5.0",
            "_view_name": "HTMLView",
            "description": "",
            "description_tooltip": null,
            "layout": "IPY_MODEL_7db715f457e344d99f937d4c79fff550",
            "placeholder": "​",
            "style": "IPY_MODEL_f0f39b4f0c1544d88cd69d74abce6a20",
            "value": "100%"
          }
        },
        "7393e88629854fa5ba372cd0df6cada3": {
          "model_module": "@jupyter-widgets/controls",
          "model_name": "FloatProgressModel",
          "model_module_version": "1.5.0",
          "state": {
            "_dom_classes": [],
            "_model_module": "@jupyter-widgets/controls",
            "_model_module_version": "1.5.0",
            "_model_name": "FloatProgressModel",
            "_view_count": null,
            "_view_module": "@jupyter-widgets/controls",
            "_view_module_version": "1.5.0",
            "_view_name": "ProgressView",
            "bar_style": "success",
            "description": "",
            "description_tooltip": null,
            "layout": "IPY_MODEL_e1352721f9154cbc9958f0d330c8d4ec",
            "max": 1530484,
            "min": 0,
            "orientation": "horizontal",
            "style": "IPY_MODEL_9c8060405bc04e23968ccd48dbd1cc30",
            "value": 1530484
          }
        },
        "3e184255964041baaea78e37f6cdebbc": {
          "model_module": "@jupyter-widgets/controls",
          "model_name": "HTMLModel",
          "model_module_version": "1.5.0",
          "state": {
            "_dom_classes": [],
            "_model_module": "@jupyter-widgets/controls",
            "_model_module_version": "1.5.0",
            "_model_name": "HTMLModel",
            "_view_count": null,
            "_view_module": "@jupyter-widgets/controls",
            "_view_module_version": "1.5.0",
            "_view_name": "HTMLView",
            "description": "",
            "description_tooltip": null,
            "layout": "IPY_MODEL_4073d66cbf3b48eeaef2c615d4908564",
            "placeholder": "​",
            "style": "IPY_MODEL_6c942f387757456a95755103c8963084",
            "value": " 1530484/1530484 [00:00&lt;00:00, 26789339.72it/s]"
          }
        },
        "f1aacd25854f49819aad7983283d36d9": {
          "model_module": "@jupyter-widgets/base",
          "model_name": "LayoutModel",
          "model_module_version": "1.2.0",
          "state": {
            "_model_module": "@jupyter-widgets/base",
            "_model_module_version": "1.2.0",
            "_model_name": "LayoutModel",
            "_view_count": null,
            "_view_module": "@jupyter-widgets/base",
            "_view_module_version": "1.2.0",
            "_view_name": "LayoutView",
            "align_content": null,
            "align_items": null,
            "align_self": null,
            "border": null,
            "bottom": null,
            "display": null,
            "flex": null,
            "flex_flow": null,
            "grid_area": null,
            "grid_auto_columns": null,
            "grid_auto_flow": null,
            "grid_auto_rows": null,
            "grid_column": null,
            "grid_gap": null,
            "grid_row": null,
            "grid_template_areas": null,
            "grid_template_columns": null,
            "grid_template_rows": null,
            "height": null,
            "justify_content": null,
            "justify_items": null,
            "left": null,
            "margin": null,
            "max_height": null,
            "max_width": null,
            "min_height": null,
            "min_width": null,
            "object_fit": null,
            "object_position": null,
            "order": null,
            "overflow": null,
            "overflow_x": null,
            "overflow_y": null,
            "padding": null,
            "right": null,
            "top": null,
            "visibility": null,
            "width": null
          }
        },
        "7db715f457e344d99f937d4c79fff550": {
          "model_module": "@jupyter-widgets/base",
          "model_name": "LayoutModel",
          "model_module_version": "1.2.0",
          "state": {
            "_model_module": "@jupyter-widgets/base",
            "_model_module_version": "1.2.0",
            "_model_name": "LayoutModel",
            "_view_count": null,
            "_view_module": "@jupyter-widgets/base",
            "_view_module_version": "1.2.0",
            "_view_name": "LayoutView",
            "align_content": null,
            "align_items": null,
            "align_self": null,
            "border": null,
            "bottom": null,
            "display": null,
            "flex": null,
            "flex_flow": null,
            "grid_area": null,
            "grid_auto_columns": null,
            "grid_auto_flow": null,
            "grid_auto_rows": null,
            "grid_column": null,
            "grid_gap": null,
            "grid_row": null,
            "grid_template_areas": null,
            "grid_template_columns": null,
            "grid_template_rows": null,
            "height": null,
            "justify_content": null,
            "justify_items": null,
            "left": null,
            "margin": null,
            "max_height": null,
            "max_width": null,
            "min_height": null,
            "min_width": null,
            "object_fit": null,
            "object_position": null,
            "order": null,
            "overflow": null,
            "overflow_x": null,
            "overflow_y": null,
            "padding": null,
            "right": null,
            "top": null,
            "visibility": null,
            "width": null
          }
        },
        "f0f39b4f0c1544d88cd69d74abce6a20": {
          "model_module": "@jupyter-widgets/controls",
          "model_name": "DescriptionStyleModel",
          "model_module_version": "1.5.0",
          "state": {
            "_model_module": "@jupyter-widgets/controls",
            "_model_module_version": "1.5.0",
            "_model_name": "DescriptionStyleModel",
            "_view_count": null,
            "_view_module": "@jupyter-widgets/base",
            "_view_module_version": "1.2.0",
            "_view_name": "StyleView",
            "description_width": ""
          }
        },
        "e1352721f9154cbc9958f0d330c8d4ec": {
          "model_module": "@jupyter-widgets/base",
          "model_name": "LayoutModel",
          "model_module_version": "1.2.0",
          "state": {
            "_model_module": "@jupyter-widgets/base",
            "_model_module_version": "1.2.0",
            "_model_name": "LayoutModel",
            "_view_count": null,
            "_view_module": "@jupyter-widgets/base",
            "_view_module_version": "1.2.0",
            "_view_name": "LayoutView",
            "align_content": null,
            "align_items": null,
            "align_self": null,
            "border": null,
            "bottom": null,
            "display": null,
            "flex": null,
            "flex_flow": null,
            "grid_area": null,
            "grid_auto_columns": null,
            "grid_auto_flow": null,
            "grid_auto_rows": null,
            "grid_column": null,
            "grid_gap": null,
            "grid_row": null,
            "grid_template_areas": null,
            "grid_template_columns": null,
            "grid_template_rows": null,
            "height": null,
            "justify_content": null,
            "justify_items": null,
            "left": null,
            "margin": null,
            "max_height": null,
            "max_width": null,
            "min_height": null,
            "min_width": null,
            "object_fit": null,
            "object_position": null,
            "order": null,
            "overflow": null,
            "overflow_x": null,
            "overflow_y": null,
            "padding": null,
            "right": null,
            "top": null,
            "visibility": null,
            "width": null
          }
        },
        "9c8060405bc04e23968ccd48dbd1cc30": {
          "model_module": "@jupyter-widgets/controls",
          "model_name": "ProgressStyleModel",
          "model_module_version": "1.5.0",
          "state": {
            "_model_module": "@jupyter-widgets/controls",
            "_model_module_version": "1.5.0",
            "_model_name": "ProgressStyleModel",
            "_view_count": null,
            "_view_module": "@jupyter-widgets/base",
            "_view_module_version": "1.2.0",
            "_view_name": "StyleView",
            "bar_color": null,
            "description_width": ""
          }
        },
        "4073d66cbf3b48eeaef2c615d4908564": {
          "model_module": "@jupyter-widgets/base",
          "model_name": "LayoutModel",
          "model_module_version": "1.2.0",
          "state": {
            "_model_module": "@jupyter-widgets/base",
            "_model_module_version": "1.2.0",
            "_model_name": "LayoutModel",
            "_view_count": null,
            "_view_module": "@jupyter-widgets/base",
            "_view_module_version": "1.2.0",
            "_view_name": "LayoutView",
            "align_content": null,
            "align_items": null,
            "align_self": null,
            "border": null,
            "bottom": null,
            "display": null,
            "flex": null,
            "flex_flow": null,
            "grid_area": null,
            "grid_auto_columns": null,
            "grid_auto_flow": null,
            "grid_auto_rows": null,
            "grid_column": null,
            "grid_gap": null,
            "grid_row": null,
            "grid_template_areas": null,
            "grid_template_columns": null,
            "grid_template_rows": null,
            "height": null,
            "justify_content": null,
            "justify_items": null,
            "left": null,
            "margin": null,
            "max_height": null,
            "max_width": null,
            "min_height": null,
            "min_width": null,
            "object_fit": null,
            "object_position": null,
            "order": null,
            "overflow": null,
            "overflow_x": null,
            "overflow_y": null,
            "padding": null,
            "right": null,
            "top": null,
            "visibility": null,
            "width": null
          }
        },
        "6c942f387757456a95755103c8963084": {
          "model_module": "@jupyter-widgets/controls",
          "model_name": "DescriptionStyleModel",
          "model_module_version": "1.5.0",
          "state": {
            "_model_module": "@jupyter-widgets/controls",
            "_model_module_version": "1.5.0",
            "_model_name": "DescriptionStyleModel",
            "_view_count": null,
            "_view_module": "@jupyter-widgets/base",
            "_view_module_version": "1.2.0",
            "_view_name": "StyleView",
            "description_width": ""
          }
        }
      }
    }
  },
  "cells": [
    {
      "cell_type": "markdown",
      "metadata": {
        "id": "view-in-github",
        "colab_type": "text"
      },
      "source": [
        "<a href=\"https://colab.research.google.com/github/SPBNO1/Project-Fake-new/blob/main/project_Fakenew.ipynb\" target=\"_parent\"><img src=\"https://colab.research.google.com/assets/colab-badge.svg\" alt=\"Open In Colab\"/></a>"
      ]
    },
    {
      "cell_type": "code",
      "execution_count": 1,
      "metadata": {
        "colab": {
          "base_uri": "https://localhost:8080/"
        },
        "id": "1xTZHSgfpRCP",
        "outputId": "caf466ed-d5cb-4ff1-d13c-26efcea2843b"
      },
      "outputs": [
        {
          "output_type": "stream",
          "name": "stdout",
          "text": [
            "Collecting attacut\n",
            "  Downloading attacut-1.0.6-py3-none-any.whl (1.3 MB)\n",
            "\u001b[2K     \u001b[90m━━━━━━━━━━━━━━━━━━━━━━━━━━━━━━━━━━━━━━━━\u001b[0m \u001b[32m1.3/1.3 MB\u001b[0m \u001b[31m17.2 MB/s\u001b[0m eta \u001b[36m0:00:00\u001b[0m\n",
            "\u001b[?25hCollecting docopt>=0.6.2 (from attacut)\n",
            "  Downloading docopt-0.6.2.tar.gz (25 kB)\n",
            "  Preparing metadata (setup.py) ... \u001b[?25l\u001b[?25hdone\n",
            "Collecting fire>=0.1.3 (from attacut)\n",
            "  Downloading fire-0.6.0.tar.gz (88 kB)\n",
            "\u001b[2K     \u001b[90m━━━━━━━━━━━━━━━━━━━━━━━━━━━━━━━━━━━━━━━━\u001b[0m \u001b[32m88.4/88.4 kB\u001b[0m \u001b[31m11.0 MB/s\u001b[0m eta \u001b[36m0:00:00\u001b[0m\n",
            "\u001b[?25h  Preparing metadata (setup.py) ... \u001b[?25l\u001b[?25hdone\n",
            "Collecting nptyping>=0.2.0 (from attacut)\n",
            "  Downloading nptyping-2.5.0-py3-none-any.whl (37 kB)\n",
            "Requirement already satisfied: numpy>=1.17.0 in /usr/local/lib/python3.10/dist-packages (from attacut) (1.25.2)\n",
            "Requirement already satisfied: pyyaml>=5.1.2 in /usr/local/lib/python3.10/dist-packages (from attacut) (6.0.1)\n",
            "Requirement already satisfied: six>=1.12.0 in /usr/local/lib/python3.10/dist-packages (from attacut) (1.16.0)\n",
            "Collecting ssg>=0.0.4 (from attacut)\n",
            "  Downloading ssg-0.0.8-py3-none-any.whl (473 kB)\n",
            "\u001b[2K     \u001b[90m━━━━━━━━━━━━━━━━━━━━━━━━━━━━━━━━━━━━━━━━\u001b[0m \u001b[32m473.8/473.8 kB\u001b[0m \u001b[31m26.4 MB/s\u001b[0m eta \u001b[36m0:00:00\u001b[0m\n",
            "\u001b[?25hRequirement already satisfied: torch>=1.2.0 in /usr/local/lib/python3.10/dist-packages (from attacut) (2.2.1+cu121)\n",
            "Requirement already satisfied: termcolor in /usr/local/lib/python3.10/dist-packages (from fire>=0.1.3->attacut) (2.4.0)\n",
            "Collecting python-crfsuite>=0.9.6 (from ssg>=0.0.4->attacut)\n",
            "  Downloading python_crfsuite-0.9.10-cp310-cp310-manylinux_2_17_x86_64.manylinux2014_x86_64.whl (1.1 MB)\n",
            "\u001b[2K     \u001b[90m━━━━━━━━━━━━━━━━━━━━━━━━━━━━━━━━━━━━━━━━\u001b[0m \u001b[32m1.1/1.1 MB\u001b[0m \u001b[31m41.1 MB/s\u001b[0m eta \u001b[36m0:00:00\u001b[0m\n",
            "\u001b[?25hRequirement already satisfied: tqdm>=4.32.2 in /usr/local/lib/python3.10/dist-packages (from ssg>=0.0.4->attacut) (4.66.4)\n",
            "Requirement already satisfied: filelock in /usr/local/lib/python3.10/dist-packages (from torch>=1.2.0->attacut) (3.14.0)\n",
            "Requirement already satisfied: typing-extensions>=4.8.0 in /usr/local/lib/python3.10/dist-packages (from torch>=1.2.0->attacut) (4.11.0)\n",
            "Requirement already satisfied: sympy in /usr/local/lib/python3.10/dist-packages (from torch>=1.2.0->attacut) (1.12)\n",
            "Requirement already satisfied: networkx in /usr/local/lib/python3.10/dist-packages (from torch>=1.2.0->attacut) (3.3)\n",
            "Requirement already satisfied: jinja2 in /usr/local/lib/python3.10/dist-packages (from torch>=1.2.0->attacut) (3.1.3)\n",
            "Requirement already satisfied: fsspec in /usr/local/lib/python3.10/dist-packages (from torch>=1.2.0->attacut) (2023.6.0)\n",
            "Collecting nvidia-cuda-nvrtc-cu12==12.1.105 (from torch>=1.2.0->attacut)\n",
            "  Using cached nvidia_cuda_nvrtc_cu12-12.1.105-py3-none-manylinux1_x86_64.whl (23.7 MB)\n",
            "Collecting nvidia-cuda-runtime-cu12==12.1.105 (from torch>=1.2.0->attacut)\n",
            "  Using cached nvidia_cuda_runtime_cu12-12.1.105-py3-none-manylinux1_x86_64.whl (823 kB)\n",
            "Collecting nvidia-cuda-cupti-cu12==12.1.105 (from torch>=1.2.0->attacut)\n",
            "  Using cached nvidia_cuda_cupti_cu12-12.1.105-py3-none-manylinux1_x86_64.whl (14.1 MB)\n",
            "Collecting nvidia-cudnn-cu12==8.9.2.26 (from torch>=1.2.0->attacut)\n",
            "  Using cached nvidia_cudnn_cu12-8.9.2.26-py3-none-manylinux1_x86_64.whl (731.7 MB)\n",
            "Collecting nvidia-cublas-cu12==12.1.3.1 (from torch>=1.2.0->attacut)\n",
            "  Using cached nvidia_cublas_cu12-12.1.3.1-py3-none-manylinux1_x86_64.whl (410.6 MB)\n",
            "Collecting nvidia-cufft-cu12==11.0.2.54 (from torch>=1.2.0->attacut)\n",
            "  Using cached nvidia_cufft_cu12-11.0.2.54-py3-none-manylinux1_x86_64.whl (121.6 MB)\n",
            "Collecting nvidia-curand-cu12==10.3.2.106 (from torch>=1.2.0->attacut)\n",
            "  Using cached nvidia_curand_cu12-10.3.2.106-py3-none-manylinux1_x86_64.whl (56.5 MB)\n",
            "Collecting nvidia-cusolver-cu12==11.4.5.107 (from torch>=1.2.0->attacut)\n",
            "  Using cached nvidia_cusolver_cu12-11.4.5.107-py3-none-manylinux1_x86_64.whl (124.2 MB)\n",
            "Collecting nvidia-cusparse-cu12==12.1.0.106 (from torch>=1.2.0->attacut)\n",
            "  Using cached nvidia_cusparse_cu12-12.1.0.106-py3-none-manylinux1_x86_64.whl (196.0 MB)\n",
            "Collecting nvidia-nccl-cu12==2.19.3 (from torch>=1.2.0->attacut)\n",
            "  Using cached nvidia_nccl_cu12-2.19.3-py3-none-manylinux1_x86_64.whl (166.0 MB)\n",
            "Collecting nvidia-nvtx-cu12==12.1.105 (from torch>=1.2.0->attacut)\n",
            "  Using cached nvidia_nvtx_cu12-12.1.105-py3-none-manylinux1_x86_64.whl (99 kB)\n",
            "Requirement already satisfied: triton==2.2.0 in /usr/local/lib/python3.10/dist-packages (from torch>=1.2.0->attacut) (2.2.0)\n",
            "Collecting nvidia-nvjitlink-cu12 (from nvidia-cusolver-cu12==11.4.5.107->torch>=1.2.0->attacut)\n",
            "  Using cached nvidia_nvjitlink_cu12-12.4.127-py3-none-manylinux2014_x86_64.whl (21.1 MB)\n",
            "Requirement already satisfied: MarkupSafe>=2.0 in /usr/local/lib/python3.10/dist-packages (from jinja2->torch>=1.2.0->attacut) (2.1.5)\n",
            "Requirement already satisfied: mpmath>=0.19 in /usr/local/lib/python3.10/dist-packages (from sympy->torch>=1.2.0->attacut) (1.3.0)\n",
            "Building wheels for collected packages: docopt, fire\n",
            "  Building wheel for docopt (setup.py) ... \u001b[?25l\u001b[?25hdone\n",
            "  Created wheel for docopt: filename=docopt-0.6.2-py2.py3-none-any.whl size=13706 sha256=9556d2bf9590a820d90b520700b201ba640a1a288110399aaa30b5a3ff6c1907\n",
            "  Stored in directory: /root/.cache/pip/wheels/fc/ab/d4/5da2067ac95b36618c629a5f93f809425700506f72c9732fac\n",
            "  Building wheel for fire (setup.py) ... \u001b[?25l\u001b[?25hdone\n",
            "  Created wheel for fire: filename=fire-0.6.0-py2.py3-none-any.whl size=117029 sha256=3558000ef6d4b7fe77ef5b856cd2f22e08e1fd3c27c8c5f4a96a2c8a439abb0f\n",
            "  Stored in directory: /root/.cache/pip/wheels/d6/6d/5d/5b73fa0f46d01a793713f8859201361e9e581ced8c75e5c6a3\n",
            "Successfully built docopt fire\n",
            "Installing collected packages: python-crfsuite, docopt, nvidia-nvtx-cu12, nvidia-nvjitlink-cu12, nvidia-nccl-cu12, nvidia-curand-cu12, nvidia-cufft-cu12, nvidia-cuda-runtime-cu12, nvidia-cuda-nvrtc-cu12, nvidia-cuda-cupti-cu12, nvidia-cublas-cu12, nptyping, fire, ssg, nvidia-cusparse-cu12, nvidia-cudnn-cu12, nvidia-cusolver-cu12, attacut\n",
            "Successfully installed attacut-1.0.6 docopt-0.6.2 fire-0.6.0 nptyping-2.5.0 nvidia-cublas-cu12-12.1.3.1 nvidia-cuda-cupti-cu12-12.1.105 nvidia-cuda-nvrtc-cu12-12.1.105 nvidia-cuda-runtime-cu12-12.1.105 nvidia-cudnn-cu12-8.9.2.26 nvidia-cufft-cu12-11.0.2.54 nvidia-curand-cu12-10.3.2.106 nvidia-cusolver-cu12-11.4.5.107 nvidia-cusparse-cu12-12.1.0.106 nvidia-nccl-cu12-2.19.3 nvidia-nvjitlink-cu12-12.4.127 nvidia-nvtx-cu12-12.1.105 python-crfsuite-0.9.10 ssg-0.0.8\n"
          ]
        }
      ],
      "source": [
        "!pip install attacut"
      ]
    },
    {
      "cell_type": "code",
      "source": [
        "import pandas as pd\n",
        "import numpy as np\n",
        "import seaborn as sns\n",
        "import matplotlib.pyplot as plt\n",
        "from sklearn.model_selection import train_test_split\n",
        "from sklearn.metrics import accuracy_score\n",
        "from sklearn.metrics import classification_report\n",
        "\n",
        "import re\n",
        "import string\n",
        "!pip install pythainlp\n",
        "import pythainlp\n",
        "from pythainlp import word_tokenize\n",
        "from pythainlp.corpus import thai_stopwords\n",
        "from pythainlp import Tokenizer\n",
        "\n",
        "!pip install deepcut\n",
        "!pip install simpletransformers"
      ],
      "metadata": {
        "colab": {
          "base_uri": "https://localhost:8080/"
        },
        "id": "0hBRQo64pjAs",
        "outputId": "185d34be-0aed-480b-bf23-347973a035c1"
      },
      "execution_count": 24,
      "outputs": [
        {
          "output_type": "stream",
          "name": "stdout",
          "text": [
            "Collecting pythainlp\n",
            "  Downloading pythainlp-5.0.2-py3-none-any.whl (17.9 MB)\n",
            "\u001b[2K     \u001b[90m━━━━━━━━━━━━━━━━━━━━━━━━━━━━━━━━━━━━━━━━\u001b[0m \u001b[32m17.9/17.9 MB\u001b[0m \u001b[31m17.3 MB/s\u001b[0m eta \u001b[36m0:00:00\u001b[0m\n",
            "\u001b[?25hRequirement already satisfied: requests>=2.22.0 in /usr/local/lib/python3.10/dist-packages (from pythainlp) (2.31.0)\n",
            "Requirement already satisfied: charset-normalizer<4,>=2 in /usr/local/lib/python3.10/dist-packages (from requests>=2.22.0->pythainlp) (3.3.2)\n",
            "Requirement already satisfied: idna<4,>=2.5 in /usr/local/lib/python3.10/dist-packages (from requests>=2.22.0->pythainlp) (3.7)\n",
            "Requirement already satisfied: urllib3<3,>=1.21.1 in /usr/local/lib/python3.10/dist-packages (from requests>=2.22.0->pythainlp) (2.0.7)\n",
            "Requirement already satisfied: certifi>=2017.4.17 in /usr/local/lib/python3.10/dist-packages (from requests>=2.22.0->pythainlp) (2024.2.2)\n",
            "Installing collected packages: pythainlp\n",
            "Successfully installed pythainlp-5.0.2\n",
            "Collecting deepcut\n",
            "  Downloading deepcut-0.7.0.0-py3-none-any.whl (2.0 MB)\n",
            "\u001b[2K     \u001b[90m━━━━━━━━━━━━━━━━━━━━━━━━━━━━━━━━━━━━━━━━\u001b[0m \u001b[32m2.0/2.0 MB\u001b[0m \u001b[31m23.5 MB/s\u001b[0m eta \u001b[36m0:00:00\u001b[0m\n",
            "\u001b[?25hRequirement already satisfied: tensorflow>=2.0.0 in /usr/local/lib/python3.10/dist-packages (from deepcut) (2.15.0)\n",
            "Requirement already satisfied: pandas in /usr/local/lib/python3.10/dist-packages (from deepcut) (2.0.3)\n",
            "Requirement already satisfied: scipy in /usr/local/lib/python3.10/dist-packages (from deepcut) (1.11.4)\n",
            "Requirement already satisfied: numpy in /usr/local/lib/python3.10/dist-packages (from deepcut) (1.25.2)\n",
            "Requirement already satisfied: scikit-learn in /usr/local/lib/python3.10/dist-packages (from deepcut) (1.2.2)\n",
            "Requirement already satisfied: h5py in /usr/local/lib/python3.10/dist-packages (from deepcut) (3.9.0)\n",
            "Requirement already satisfied: absl-py>=1.0.0 in /usr/local/lib/python3.10/dist-packages (from tensorflow>=2.0.0->deepcut) (1.4.0)\n",
            "Requirement already satisfied: astunparse>=1.6.0 in /usr/local/lib/python3.10/dist-packages (from tensorflow>=2.0.0->deepcut) (1.6.3)\n",
            "Requirement already satisfied: flatbuffers>=23.5.26 in /usr/local/lib/python3.10/dist-packages (from tensorflow>=2.0.0->deepcut) (24.3.25)\n",
            "Requirement already satisfied: gast!=0.5.0,!=0.5.1,!=0.5.2,>=0.2.1 in /usr/local/lib/python3.10/dist-packages (from tensorflow>=2.0.0->deepcut) (0.5.4)\n",
            "Requirement already satisfied: google-pasta>=0.1.1 in /usr/local/lib/python3.10/dist-packages (from tensorflow>=2.0.0->deepcut) (0.2.0)\n",
            "Requirement already satisfied: libclang>=13.0.0 in /usr/local/lib/python3.10/dist-packages (from tensorflow>=2.0.0->deepcut) (18.1.1)\n",
            "Requirement already satisfied: ml-dtypes~=0.2.0 in /usr/local/lib/python3.10/dist-packages (from tensorflow>=2.0.0->deepcut) (0.2.0)\n",
            "Requirement already satisfied: opt-einsum>=2.3.2 in /usr/local/lib/python3.10/dist-packages (from tensorflow>=2.0.0->deepcut) (3.3.0)\n",
            "Requirement already satisfied: packaging in /usr/local/lib/python3.10/dist-packages (from tensorflow>=2.0.0->deepcut) (24.0)\n",
            "Requirement already satisfied: protobuf!=4.21.0,!=4.21.1,!=4.21.2,!=4.21.3,!=4.21.4,!=4.21.5,<5.0.0dev,>=3.20.3 in /usr/local/lib/python3.10/dist-packages (from tensorflow>=2.0.0->deepcut) (3.20.3)\n",
            "Requirement already satisfied: setuptools in /usr/local/lib/python3.10/dist-packages (from tensorflow>=2.0.0->deepcut) (67.7.2)\n",
            "Requirement already satisfied: six>=1.12.0 in /usr/local/lib/python3.10/dist-packages (from tensorflow>=2.0.0->deepcut) (1.16.0)\n",
            "Requirement already satisfied: termcolor>=1.1.0 in /usr/local/lib/python3.10/dist-packages (from tensorflow>=2.0.0->deepcut) (2.4.0)\n",
            "Requirement already satisfied: typing-extensions>=3.6.6 in /usr/local/lib/python3.10/dist-packages (from tensorflow>=2.0.0->deepcut) (4.11.0)\n",
            "Requirement already satisfied: wrapt<1.15,>=1.11.0 in /usr/local/lib/python3.10/dist-packages (from tensorflow>=2.0.0->deepcut) (1.14.1)\n",
            "Requirement already satisfied: tensorflow-io-gcs-filesystem>=0.23.1 in /usr/local/lib/python3.10/dist-packages (from tensorflow>=2.0.0->deepcut) (0.37.0)\n",
            "Requirement already satisfied: grpcio<2.0,>=1.24.3 in /usr/local/lib/python3.10/dist-packages (from tensorflow>=2.0.0->deepcut) (1.63.0)\n",
            "Requirement already satisfied: tensorboard<2.16,>=2.15 in /usr/local/lib/python3.10/dist-packages (from tensorflow>=2.0.0->deepcut) (2.15.2)\n",
            "Requirement already satisfied: tensorflow-estimator<2.16,>=2.15.0 in /usr/local/lib/python3.10/dist-packages (from tensorflow>=2.0.0->deepcut) (2.15.0)\n",
            "Requirement already satisfied: keras<2.16,>=2.15.0 in /usr/local/lib/python3.10/dist-packages (from tensorflow>=2.0.0->deepcut) (2.15.0)\n",
            "Requirement already satisfied: python-dateutil>=2.8.2 in /usr/local/lib/python3.10/dist-packages (from pandas->deepcut) (2.8.2)\n",
            "Requirement already satisfied: pytz>=2020.1 in /usr/local/lib/python3.10/dist-packages (from pandas->deepcut) (2023.4)\n",
            "Requirement already satisfied: tzdata>=2022.1 in /usr/local/lib/python3.10/dist-packages (from pandas->deepcut) (2024.1)\n",
            "Requirement already satisfied: joblib>=1.1.1 in /usr/local/lib/python3.10/dist-packages (from scikit-learn->deepcut) (1.4.2)\n",
            "Requirement already satisfied: threadpoolctl>=2.0.0 in /usr/local/lib/python3.10/dist-packages (from scikit-learn->deepcut) (3.5.0)\n",
            "Requirement already satisfied: wheel<1.0,>=0.23.0 in /usr/local/lib/python3.10/dist-packages (from astunparse>=1.6.0->tensorflow>=2.0.0->deepcut) (0.43.0)\n",
            "Requirement already satisfied: google-auth<3,>=1.6.3 in /usr/local/lib/python3.10/dist-packages (from tensorboard<2.16,>=2.15->tensorflow>=2.0.0->deepcut) (2.27.0)\n",
            "Requirement already satisfied: google-auth-oauthlib<2,>=0.5 in /usr/local/lib/python3.10/dist-packages (from tensorboard<2.16,>=2.15->tensorflow>=2.0.0->deepcut) (1.2.0)\n",
            "Requirement already satisfied: markdown>=2.6.8 in /usr/local/lib/python3.10/dist-packages (from tensorboard<2.16,>=2.15->tensorflow>=2.0.0->deepcut) (3.6)\n",
            "Requirement already satisfied: requests<3,>=2.21.0 in /usr/local/lib/python3.10/dist-packages (from tensorboard<2.16,>=2.15->tensorflow>=2.0.0->deepcut) (2.31.0)\n",
            "Requirement already satisfied: tensorboard-data-server<0.8.0,>=0.7.0 in /usr/local/lib/python3.10/dist-packages (from tensorboard<2.16,>=2.15->tensorflow>=2.0.0->deepcut) (0.7.2)\n",
            "Requirement already satisfied: werkzeug>=1.0.1 in /usr/local/lib/python3.10/dist-packages (from tensorboard<2.16,>=2.15->tensorflow>=2.0.0->deepcut) (3.0.2)\n",
            "Requirement already satisfied: cachetools<6.0,>=2.0.0 in /usr/local/lib/python3.10/dist-packages (from google-auth<3,>=1.6.3->tensorboard<2.16,>=2.15->tensorflow>=2.0.0->deepcut) (5.3.3)\n",
            "Requirement already satisfied: pyasn1-modules>=0.2.1 in /usr/local/lib/python3.10/dist-packages (from google-auth<3,>=1.6.3->tensorboard<2.16,>=2.15->tensorflow>=2.0.0->deepcut) (0.4.0)\n",
            "Requirement already satisfied: rsa<5,>=3.1.4 in /usr/local/lib/python3.10/dist-packages (from google-auth<3,>=1.6.3->tensorboard<2.16,>=2.15->tensorflow>=2.0.0->deepcut) (4.9)\n",
            "Requirement already satisfied: requests-oauthlib>=0.7.0 in /usr/local/lib/python3.10/dist-packages (from google-auth-oauthlib<2,>=0.5->tensorboard<2.16,>=2.15->tensorflow>=2.0.0->deepcut) (1.3.1)\n",
            "Requirement already satisfied: charset-normalizer<4,>=2 in /usr/local/lib/python3.10/dist-packages (from requests<3,>=2.21.0->tensorboard<2.16,>=2.15->tensorflow>=2.0.0->deepcut) (3.3.2)\n",
            "Requirement already satisfied: idna<4,>=2.5 in /usr/local/lib/python3.10/dist-packages (from requests<3,>=2.21.0->tensorboard<2.16,>=2.15->tensorflow>=2.0.0->deepcut) (3.7)\n",
            "Requirement already satisfied: urllib3<3,>=1.21.1 in /usr/local/lib/python3.10/dist-packages (from requests<3,>=2.21.0->tensorboard<2.16,>=2.15->tensorflow>=2.0.0->deepcut) (2.0.7)\n",
            "Requirement already satisfied: certifi>=2017.4.17 in /usr/local/lib/python3.10/dist-packages (from requests<3,>=2.21.0->tensorboard<2.16,>=2.15->tensorflow>=2.0.0->deepcut) (2024.2.2)\n",
            "Requirement already satisfied: MarkupSafe>=2.1.1 in /usr/local/lib/python3.10/dist-packages (from werkzeug>=1.0.1->tensorboard<2.16,>=2.15->tensorflow>=2.0.0->deepcut) (2.1.5)\n",
            "Requirement already satisfied: pyasn1<0.7.0,>=0.4.6 in /usr/local/lib/python3.10/dist-packages (from pyasn1-modules>=0.2.1->google-auth<3,>=1.6.3->tensorboard<2.16,>=2.15->tensorflow>=2.0.0->deepcut) (0.6.0)\n",
            "Requirement already satisfied: oauthlib>=3.0.0 in /usr/local/lib/python3.10/dist-packages (from requests-oauthlib>=0.7.0->google-auth-oauthlib<2,>=0.5->tensorboard<2.16,>=2.15->tensorflow>=2.0.0->deepcut) (3.2.2)\n",
            "Installing collected packages: deepcut\n",
            "Successfully installed deepcut-0.7.0.0\n",
            "Collecting simpletransformers\n",
            "  Downloading simpletransformers-0.70.0-py3-none-any.whl (315 kB)\n",
            "\u001b[2K     \u001b[90m━━━━━━━━━━━━━━━━━━━━━━━━━━━━━━━━━━━━━━━━\u001b[0m \u001b[32m315.5/315.5 kB\u001b[0m \u001b[31m7.2 MB/s\u001b[0m eta \u001b[36m0:00:00\u001b[0m\n",
            "\u001b[?25hRequirement already satisfied: numpy in /usr/local/lib/python3.10/dist-packages (from simpletransformers) (1.25.2)\n",
            "Requirement already satisfied: requests in /usr/local/lib/python3.10/dist-packages (from simpletransformers) (2.31.0)\n",
            "Requirement already satisfied: tqdm>=4.47.0 in /usr/local/lib/python3.10/dist-packages (from simpletransformers) (4.66.4)\n",
            "Requirement already satisfied: regex in /usr/local/lib/python3.10/dist-packages (from simpletransformers) (2023.12.25)\n",
            "Requirement already satisfied: transformers>=4.31.0 in /usr/local/lib/python3.10/dist-packages (from simpletransformers) (4.40.1)\n",
            "Collecting datasets (from simpletransformers)\n",
            "  Downloading datasets-2.19.1-py3-none-any.whl (542 kB)\n",
            "\u001b[2K     \u001b[90m━━━━━━━━━━━━━━━━━━━━━━━━━━━━━━━━━━━━━━━━\u001b[0m \u001b[32m542.0/542.0 kB\u001b[0m \u001b[31m45.4 MB/s\u001b[0m eta \u001b[36m0:00:00\u001b[0m\n",
            "\u001b[?25hRequirement already satisfied: scipy in /usr/local/lib/python3.10/dist-packages (from simpletransformers) (1.11.4)\n",
            "Requirement already satisfied: scikit-learn in /usr/local/lib/python3.10/dist-packages (from simpletransformers) (1.2.2)\n",
            "Collecting seqeval (from simpletransformers)\n",
            "  Downloading seqeval-1.2.2.tar.gz (43 kB)\n",
            "\u001b[2K     \u001b[90m━━━━━━━━━━━━━━━━━━━━━━━━━━━━━━━━━━━━━━━━\u001b[0m \u001b[32m43.6/43.6 kB\u001b[0m \u001b[31m5.4 MB/s\u001b[0m eta \u001b[36m0:00:00\u001b[0m\n",
            "\u001b[?25h  Preparing metadata (setup.py) ... \u001b[?25l\u001b[?25hdone\n",
            "Requirement already satisfied: tensorboard in /usr/local/lib/python3.10/dist-packages (from simpletransformers) (2.15.2)\n",
            "Collecting tensorboardx (from simpletransformers)\n",
            "  Downloading tensorboardX-2.6.2.2-py2.py3-none-any.whl (101 kB)\n",
            "\u001b[2K     \u001b[90m━━━━━━━━━━━━━━━━━━━━━━━━━━━━━━━━━━━━━━━━\u001b[0m \u001b[32m101.7/101.7 kB\u001b[0m \u001b[31m12.6 MB/s\u001b[0m eta \u001b[36m0:00:00\u001b[0m\n",
            "\u001b[?25hRequirement already satisfied: pandas in /usr/local/lib/python3.10/dist-packages (from simpletransformers) (2.0.3)\n",
            "Requirement already satisfied: tokenizers in /usr/local/lib/python3.10/dist-packages (from simpletransformers) (0.19.1)\n",
            "Collecting wandb>=0.10.32 (from simpletransformers)\n",
            "  Downloading wandb-0.17.0-py3-none-manylinux_2_5_x86_64.manylinux1_x86_64.manylinux_2_17_x86_64.manylinux2014_x86_64.whl (6.7 MB)\n",
            "\u001b[2K     \u001b[90m━━━━━━━━━━━━━━━━━━━━━━━━━━━━━━━━━━━━━━━━\u001b[0m \u001b[32m6.7/6.7 MB\u001b[0m \u001b[31m78.8 MB/s\u001b[0m eta \u001b[36m0:00:00\u001b[0m\n",
            "\u001b[?25hCollecting streamlit (from simpletransformers)\n",
            "  Downloading streamlit-1.34.0-py2.py3-none-any.whl (8.5 MB)\n",
            "\u001b[2K     \u001b[90m━━━━━━━━━━━━━━━━━━━━━━━━━━━━━━━━━━━━━━━━\u001b[0m \u001b[32m8.5/8.5 MB\u001b[0m \u001b[31m56.4 MB/s\u001b[0m eta \u001b[36m0:00:00\u001b[0m\n",
            "\u001b[?25hRequirement already satisfied: sentencepiece in /usr/local/lib/python3.10/dist-packages (from simpletransformers) (0.1.99)\n",
            "Requirement already satisfied: filelock in /usr/local/lib/python3.10/dist-packages (from transformers>=4.31.0->simpletransformers) (3.14.0)\n",
            "Requirement already satisfied: huggingface-hub<1.0,>=0.19.3 in /usr/local/lib/python3.10/dist-packages (from transformers>=4.31.0->simpletransformers) (0.20.3)\n",
            "Requirement already satisfied: packaging>=20.0 in /usr/local/lib/python3.10/dist-packages (from transformers>=4.31.0->simpletransformers) (24.0)\n",
            "Requirement already satisfied: pyyaml>=5.1 in /usr/local/lib/python3.10/dist-packages (from transformers>=4.31.0->simpletransformers) (6.0.1)\n",
            "Requirement already satisfied: safetensors>=0.4.1 in /usr/local/lib/python3.10/dist-packages (from transformers>=4.31.0->simpletransformers) (0.4.3)\n",
            "Requirement already satisfied: click!=8.0.0,>=7.1 in /usr/local/lib/python3.10/dist-packages (from wandb>=0.10.32->simpletransformers) (8.1.7)\n",
            "Collecting docker-pycreds>=0.4.0 (from wandb>=0.10.32->simpletransformers)\n",
            "  Downloading docker_pycreds-0.4.0-py2.py3-none-any.whl (9.0 kB)\n",
            "Collecting gitpython!=3.1.29,>=1.0.0 (from wandb>=0.10.32->simpletransformers)\n",
            "  Downloading GitPython-3.1.43-py3-none-any.whl (207 kB)\n",
            "\u001b[2K     \u001b[90m━━━━━━━━━━━━━━━━━━━━━━━━━━━━━━━━━━━━━━━━\u001b[0m \u001b[32m207.3/207.3 kB\u001b[0m \u001b[31m20.3 MB/s\u001b[0m eta \u001b[36m0:00:00\u001b[0m\n",
            "\u001b[?25hRequirement already satisfied: platformdirs in /usr/local/lib/python3.10/dist-packages (from wandb>=0.10.32->simpletransformers) (4.2.1)\n",
            "Requirement already satisfied: protobuf!=4.21.0,<5,>=3.19.0 in /usr/local/lib/python3.10/dist-packages (from wandb>=0.10.32->simpletransformers) (3.20.3)\n",
            "Requirement already satisfied: psutil>=5.0.0 in /usr/local/lib/python3.10/dist-packages (from wandb>=0.10.32->simpletransformers) (5.9.5)\n",
            "Collecting sentry-sdk>=1.0.0 (from wandb>=0.10.32->simpletransformers)\n",
            "  Downloading sentry_sdk-2.1.1-py2.py3-none-any.whl (277 kB)\n",
            "\u001b[2K     \u001b[90m━━━━━━━━━━━━━━━━━━━━━━━━━━━━━━━━━━━━━━━━\u001b[0m \u001b[32m277.3/277.3 kB\u001b[0m \u001b[31m23.2 MB/s\u001b[0m eta \u001b[36m0:00:00\u001b[0m\n",
            "\u001b[?25hCollecting setproctitle (from wandb>=0.10.32->simpletransformers)\n",
            "  Downloading setproctitle-1.3.3-cp310-cp310-manylinux_2_5_x86_64.manylinux1_x86_64.manylinux_2_17_x86_64.manylinux2014_x86_64.whl (30 kB)\n",
            "Requirement already satisfied: setuptools in /usr/local/lib/python3.10/dist-packages (from wandb>=0.10.32->simpletransformers) (67.7.2)\n",
            "Requirement already satisfied: charset-normalizer<4,>=2 in /usr/local/lib/python3.10/dist-packages (from requests->simpletransformers) (3.3.2)\n",
            "Requirement already satisfied: idna<4,>=2.5 in /usr/local/lib/python3.10/dist-packages (from requests->simpletransformers) (3.7)\n",
            "Requirement already satisfied: urllib3<3,>=1.21.1 in /usr/local/lib/python3.10/dist-packages (from requests->simpletransformers) (2.0.7)\n",
            "Requirement already satisfied: certifi>=2017.4.17 in /usr/local/lib/python3.10/dist-packages (from requests->simpletransformers) (2024.2.2)\n",
            "Requirement already satisfied: pyarrow>=12.0.0 in /usr/local/lib/python3.10/dist-packages (from datasets->simpletransformers) (14.0.2)\n",
            "Requirement already satisfied: pyarrow-hotfix in /usr/local/lib/python3.10/dist-packages (from datasets->simpletransformers) (0.6)\n",
            "Collecting dill<0.3.9,>=0.3.0 (from datasets->simpletransformers)\n",
            "  Downloading dill-0.3.8-py3-none-any.whl (116 kB)\n",
            "\u001b[2K     \u001b[90m━━━━━━━━━━━━━━━━━━━━━━━━━━━━━━━━━━━━━━━━\u001b[0m \u001b[32m116.3/116.3 kB\u001b[0m \u001b[31m12.7 MB/s\u001b[0m eta \u001b[36m0:00:00\u001b[0m\n",
            "\u001b[?25hCollecting xxhash (from datasets->simpletransformers)\n",
            "  Downloading xxhash-3.4.1-cp310-cp310-manylinux_2_17_x86_64.manylinux2014_x86_64.whl (194 kB)\n",
            "\u001b[2K     \u001b[90m━━━━━━━━━━━━━━━━━━━━━━━━━━━━━━━━━━━━━━━━\u001b[0m \u001b[32m194.1/194.1 kB\u001b[0m \u001b[31m18.7 MB/s\u001b[0m eta \u001b[36m0:00:00\u001b[0m\n",
            "\u001b[?25hCollecting multiprocess (from datasets->simpletransformers)\n",
            "  Downloading multiprocess-0.70.16-py310-none-any.whl (134 kB)\n",
            "\u001b[2K     \u001b[90m━━━━━━━━━━━━━━━━━━━━━━━━━━━━━━━━━━━━━━━━\u001b[0m \u001b[32m134.8/134.8 kB\u001b[0m \u001b[31m14.6 MB/s\u001b[0m eta \u001b[36m0:00:00\u001b[0m\n",
            "\u001b[?25hRequirement already satisfied: fsspec[http]<=2024.3.1,>=2023.1.0 in /usr/local/lib/python3.10/dist-packages (from datasets->simpletransformers) (2023.6.0)\n",
            "Requirement already satisfied: aiohttp in /usr/local/lib/python3.10/dist-packages (from datasets->simpletransformers) (3.9.5)\n",
            "Collecting huggingface-hub<1.0,>=0.19.3 (from transformers>=4.31.0->simpletransformers)\n",
            "  Downloading huggingface_hub-0.23.0-py3-none-any.whl (401 kB)\n",
            "\u001b[2K     \u001b[90m━━━━━━━━━━━━━━━━━━━━━━━━━━━━━━━━━━━━━━━━\u001b[0m \u001b[32m401.2/401.2 kB\u001b[0m \u001b[31m33.6 MB/s\u001b[0m eta \u001b[36m0:00:00\u001b[0m\n",
            "\u001b[?25hRequirement already satisfied: python-dateutil>=2.8.2 in /usr/local/lib/python3.10/dist-packages (from pandas->simpletransformers) (2.8.2)\n",
            "Requirement already satisfied: pytz>=2020.1 in /usr/local/lib/python3.10/dist-packages (from pandas->simpletransformers) (2023.4)\n",
            "Requirement already satisfied: tzdata>=2022.1 in /usr/local/lib/python3.10/dist-packages (from pandas->simpletransformers) (2024.1)\n",
            "Requirement already satisfied: joblib>=1.1.1 in /usr/local/lib/python3.10/dist-packages (from scikit-learn->simpletransformers) (1.4.2)\n",
            "Requirement already satisfied: threadpoolctl>=2.0.0 in /usr/local/lib/python3.10/dist-packages (from scikit-learn->simpletransformers) (3.5.0)\n",
            "Requirement already satisfied: altair<6,>=4.0 in /usr/local/lib/python3.10/dist-packages (from streamlit->simpletransformers) (4.2.2)\n",
            "Requirement already satisfied: blinker<2,>=1.0.0 in /usr/lib/python3/dist-packages (from streamlit->simpletransformers) (1.4)\n",
            "Requirement already satisfied: cachetools<6,>=4.0 in /usr/local/lib/python3.10/dist-packages (from streamlit->simpletransformers) (5.3.3)\n",
            "Requirement already satisfied: pillow<11,>=7.1.0 in /usr/local/lib/python3.10/dist-packages (from streamlit->simpletransformers) (9.4.0)\n",
            "Requirement already satisfied: rich<14,>=10.14.0 in /usr/local/lib/python3.10/dist-packages (from streamlit->simpletransformers) (13.7.1)\n",
            "Requirement already satisfied: tenacity<9,>=8.1.0 in /usr/local/lib/python3.10/dist-packages (from streamlit->simpletransformers) (8.2.3)\n",
            "Requirement already satisfied: toml<2,>=0.10.1 in /usr/local/lib/python3.10/dist-packages (from streamlit->simpletransformers) (0.10.2)\n",
            "Requirement already satisfied: typing-extensions<5,>=4.3.0 in /usr/local/lib/python3.10/dist-packages (from streamlit->simpletransformers) (4.11.0)\n",
            "Collecting pydeck<1,>=0.8.0b4 (from streamlit->simpletransformers)\n",
            "  Downloading pydeck-0.9.0-py2.py3-none-any.whl (6.9 MB)\n",
            "\u001b[2K     \u001b[90m━━━━━━━━━━━━━━━━━━━━━━━━━━━━━━━━━━━━━━━━\u001b[0m \u001b[32m6.9/6.9 MB\u001b[0m \u001b[31m56.6 MB/s\u001b[0m eta \u001b[36m0:00:00\u001b[0m\n",
            "\u001b[?25hRequirement already satisfied: tornado<7,>=6.0.3 in /usr/local/lib/python3.10/dist-packages (from streamlit->simpletransformers) (6.3.3)\n",
            "Collecting watchdog>=2.1.5 (from streamlit->simpletransformers)\n",
            "  Downloading watchdog-4.0.0-py3-none-manylinux2014_x86_64.whl (82 kB)\n",
            "\u001b[2K     \u001b[90m━━━━━━━━━━━━━━━━━━━━━━━━━━━━━━━━━━━━━━━━\u001b[0m \u001b[32m83.0/83.0 kB\u001b[0m \u001b[31m11.6 MB/s\u001b[0m eta \u001b[36m0:00:00\u001b[0m\n",
            "\u001b[?25hRequirement already satisfied: absl-py>=0.4 in /usr/local/lib/python3.10/dist-packages (from tensorboard->simpletransformers) (1.4.0)\n",
            "Requirement already satisfied: grpcio>=1.48.2 in /usr/local/lib/python3.10/dist-packages (from tensorboard->simpletransformers) (1.63.0)\n",
            "Requirement already satisfied: google-auth<3,>=1.6.3 in /usr/local/lib/python3.10/dist-packages (from tensorboard->simpletransformers) (2.27.0)\n",
            "Requirement already satisfied: google-auth-oauthlib<2,>=0.5 in /usr/local/lib/python3.10/dist-packages (from tensorboard->simpletransformers) (1.2.0)\n",
            "Requirement already satisfied: markdown>=2.6.8 in /usr/local/lib/python3.10/dist-packages (from tensorboard->simpletransformers) (3.6)\n",
            "Requirement already satisfied: six>1.9 in /usr/local/lib/python3.10/dist-packages (from tensorboard->simpletransformers) (1.16.0)\n",
            "Requirement already satisfied: tensorboard-data-server<0.8.0,>=0.7.0 in /usr/local/lib/python3.10/dist-packages (from tensorboard->simpletransformers) (0.7.2)\n",
            "Requirement already satisfied: werkzeug>=1.0.1 in /usr/local/lib/python3.10/dist-packages (from tensorboard->simpletransformers) (3.0.2)\n",
            "Requirement already satisfied: entrypoints in /usr/local/lib/python3.10/dist-packages (from altair<6,>=4.0->streamlit->simpletransformers) (0.4)\n",
            "Requirement already satisfied: jinja2 in /usr/local/lib/python3.10/dist-packages (from altair<6,>=4.0->streamlit->simpletransformers) (3.1.3)\n",
            "Requirement already satisfied: jsonschema>=3.0 in /usr/local/lib/python3.10/dist-packages (from altair<6,>=4.0->streamlit->simpletransformers) (4.19.2)\n",
            "Requirement already satisfied: toolz in /usr/local/lib/python3.10/dist-packages (from altair<6,>=4.0->streamlit->simpletransformers) (0.12.1)\n",
            "Requirement already satisfied: aiosignal>=1.1.2 in /usr/local/lib/python3.10/dist-packages (from aiohttp->datasets->simpletransformers) (1.3.1)\n",
            "Requirement already satisfied: attrs>=17.3.0 in /usr/local/lib/python3.10/dist-packages (from aiohttp->datasets->simpletransformers) (23.2.0)\n",
            "Requirement already satisfied: frozenlist>=1.1.1 in /usr/local/lib/python3.10/dist-packages (from aiohttp->datasets->simpletransformers) (1.4.1)\n",
            "Requirement already satisfied: multidict<7.0,>=4.5 in /usr/local/lib/python3.10/dist-packages (from aiohttp->datasets->simpletransformers) (6.0.5)\n",
            "Requirement already satisfied: yarl<2.0,>=1.0 in /usr/local/lib/python3.10/dist-packages (from aiohttp->datasets->simpletransformers) (1.9.4)\n",
            "Requirement already satisfied: async-timeout<5.0,>=4.0 in /usr/local/lib/python3.10/dist-packages (from aiohttp->datasets->simpletransformers) (4.0.3)\n",
            "Collecting gitdb<5,>=4.0.1 (from gitpython!=3.1.29,>=1.0.0->wandb>=0.10.32->simpletransformers)\n",
            "  Downloading gitdb-4.0.11-py3-none-any.whl (62 kB)\n",
            "\u001b[2K     \u001b[90m━━━━━━━━━━━━━━━━━━━━━━━━━━━━━━━━━━━━━━━━\u001b[0m \u001b[32m62.7/62.7 kB\u001b[0m \u001b[31m8.0 MB/s\u001b[0m eta \u001b[36m0:00:00\u001b[0m\n",
            "\u001b[?25hRequirement already satisfied: pyasn1-modules>=0.2.1 in /usr/local/lib/python3.10/dist-packages (from google-auth<3,>=1.6.3->tensorboard->simpletransformers) (0.4.0)\n",
            "Requirement already satisfied: rsa<5,>=3.1.4 in /usr/local/lib/python3.10/dist-packages (from google-auth<3,>=1.6.3->tensorboard->simpletransformers) (4.9)\n",
            "Requirement already satisfied: requests-oauthlib>=0.7.0 in /usr/local/lib/python3.10/dist-packages (from google-auth-oauthlib<2,>=0.5->tensorboard->simpletransformers) (1.3.1)\n",
            "Requirement already satisfied: markdown-it-py>=2.2.0 in /usr/local/lib/python3.10/dist-packages (from rich<14,>=10.14.0->streamlit->simpletransformers) (3.0.0)\n",
            "Requirement already satisfied: pygments<3.0.0,>=2.13.0 in /usr/local/lib/python3.10/dist-packages (from rich<14,>=10.14.0->streamlit->simpletransformers) (2.16.1)\n",
            "Requirement already satisfied: MarkupSafe>=2.1.1 in /usr/local/lib/python3.10/dist-packages (from werkzeug>=1.0.1->tensorboard->simpletransformers) (2.1.5)\n",
            "Collecting smmap<6,>=3.0.1 (from gitdb<5,>=4.0.1->gitpython!=3.1.29,>=1.0.0->wandb>=0.10.32->simpletransformers)\n",
            "  Downloading smmap-5.0.1-py3-none-any.whl (24 kB)\n",
            "Requirement already satisfied: jsonschema-specifications>=2023.03.6 in /usr/local/lib/python3.10/dist-packages (from jsonschema>=3.0->altair<6,>=4.0->streamlit->simpletransformers) (2023.12.1)\n",
            "Requirement already satisfied: referencing>=0.28.4 in /usr/local/lib/python3.10/dist-packages (from jsonschema>=3.0->altair<6,>=4.0->streamlit->simpletransformers) (0.35.1)\n",
            "Requirement already satisfied: rpds-py>=0.7.1 in /usr/local/lib/python3.10/dist-packages (from jsonschema>=3.0->altair<6,>=4.0->streamlit->simpletransformers) (0.18.0)\n",
            "Requirement already satisfied: mdurl~=0.1 in /usr/local/lib/python3.10/dist-packages (from markdown-it-py>=2.2.0->rich<14,>=10.14.0->streamlit->simpletransformers) (0.1.2)\n",
            "Requirement already satisfied: pyasn1<0.7.0,>=0.4.6 in /usr/local/lib/python3.10/dist-packages (from pyasn1-modules>=0.2.1->google-auth<3,>=1.6.3->tensorboard->simpletransformers) (0.6.0)\n",
            "Requirement already satisfied: oauthlib>=3.0.0 in /usr/local/lib/python3.10/dist-packages (from requests-oauthlib>=0.7.0->google-auth-oauthlib<2,>=0.5->tensorboard->simpletransformers) (3.2.2)\n",
            "Building wheels for collected packages: seqeval\n",
            "  Building wheel for seqeval (setup.py) ... \u001b[?25l\u001b[?25hdone\n",
            "  Created wheel for seqeval: filename=seqeval-1.2.2-py3-none-any.whl size=16161 sha256=3f8f3aa856a1f1896eb162aa645a6bc6bf598d62395cc79ef08f25efcafa0434\n",
            "  Stored in directory: /root/.cache/pip/wheels/1a/67/4a/ad4082dd7dfc30f2abfe4d80a2ed5926a506eb8a972b4767fa\n",
            "Successfully built seqeval\n",
            "Installing collected packages: xxhash, watchdog, tensorboardx, smmap, setproctitle, sentry-sdk, docker-pycreds, dill, pydeck, multiprocess, huggingface-hub, gitdb, seqeval, gitpython, wandb, datasets, streamlit, simpletransformers\n",
            "  Attempting uninstall: huggingface-hub\n",
            "    Found existing installation: huggingface-hub 0.20.3\n",
            "    Uninstalling huggingface-hub-0.20.3:\n",
            "      Successfully uninstalled huggingface-hub-0.20.3\n",
            "Successfully installed datasets-2.19.1 dill-0.3.8 docker-pycreds-0.4.0 gitdb-4.0.11 gitpython-3.1.43 huggingface-hub-0.23.0 multiprocess-0.70.16 pydeck-0.9.0 sentry-sdk-2.1.1 seqeval-1.2.2 setproctitle-1.3.3 simpletransformers-0.70.0 smmap-5.0.1 streamlit-1.34.0 tensorboardx-2.6.2.2 wandb-0.17.0 watchdog-4.0.0 xxhash-3.4.1\n"
          ]
        }
      ]
    },
    {
      "cell_type": "code",
      "source": [
        "Xtrain = pd.read_csv(\"data/fake.csv\")\n",
        "Y_train = pd.read_csv(\"data/real.csv\")"
      ],
      "metadata": {
        "id": "qDOskAxkpnlk"
      },
      "execution_count": 29,
      "outputs": []
    },
    {
      "cell_type": "code",
      "source": [
        "Xtrain"
      ],
      "metadata": {
        "colab": {
          "base_uri": "https://localhost:8080/",
          "height": 589
        },
        "id": "siUjOJfkp5rJ",
        "outputId": "bef95877-8fdc-44c5-a4bb-0d2140c43bc3"
      },
      "execution_count": 30,
      "outputs": [
        {
          "output_type": "execute_result",
          "data": {
            "text/plain": [
              "                                                 title  \\\n",
              "0    ข่าวปลอม อย่าแชร์! เว็บไซต์ www.gsb-th-online....   \n",
              "1    ข่าวปลอม อย่าแชร์! ดร.เศรษฐพุฒิ สุทธิวาทนฤพุฒิ...   \n",
              "2     เอกสารแถลงการณ์ของสถานทูตเมียนมาร์ในประเทศไทย...   \n",
              "3    ‘กกต.’ แจงวุ่นเฟคนิวส์ หมายเลข ‘เพื่อไทย-ก้าวไ...   \n",
              "4    ข่าวปลอม! มีการลักลอบนำชาวมุสลิมต่างด้าวเข้าภู...   \n",
              "..                                                 ...   \n",
              "303  พายุไต้ฝุ่นเข้าไทย ฝนตกหนักที่สุดในรอบ 10 ปี น...   \n",
              "304                 ใช้ปัสสาวะหยอดจมูกรักษาโรคไซนัสได้   \n",
              "305                 ใช้ปัสสาวะหยอดจมูกรักษาโรคไซนัสได้   \n",
              "306           ไลน์ผู้บริหารของสำนัก ก.ล.ต. ชักชวนลงทุน   \n",
              "307                         3 จุดสังเกตสัญญาณไตมีปัญหา   \n",
              "\n",
              "                                                  body                  type  \\\n",
              "0    ตามที่มีผู้พบเห็นเว็บไซต์ www.gsb-th-online.co...               การเงิน   \n",
              "1    ตามที่มีคลิปวิดีโอได้เผยแพร่เนื้อหา เกี่ยวกับป...   ความสงบและความมันคง   \n",
              "2    ตามที่มีการเผยแพร่ข่าวสารในสื่อออนไลน์เรื่อง เ...  นโยบายรัฐบาล-ข่าวสาร   \n",
              "3    เมื่อวันที่ 27 เมษายน สำนักงานคณะกรรมการการเลื...  นโยบายรัฐบาล-ข่าวสาร   \n",
              "4    จากกรณีข่าวลือที่ระบุว่าผู้ว่าจังหวัดภูเก็ตเหม...  นโยบายรัฐบาล-ข่าวสาร   \n",
              "..                                                 ...                   ...   \n",
              "303  ตามที่มีการเผยแพร่ข้อมูลเรื่องพายุไต้ฝุ่นเข้าไ...             ภัยพิบัติ   \n",
              "304  ตามที่มีการโพสต์และแชร์ข้อความในสื่อต่าง ๆ ถึง...       ผลิตภัณฑ์สุขภาพ   \n",
              "305  ตามที่มีการโพสต์และแชร์ข้อความในสื่อต่าง ๆ ถึง...       ผลิตภัณฑ์สุขภาพ   \n",
              "306  ตามที่มีข่าวสารในประเด็นเรื่องไลน์ผู้บริหารของ...          การเงิน-หุ้น   \n",
              "307  ตามที่มีการเผยแพร่ข้อมูลในสื่อออนไลน์เรื่อง 3 ...       ผลิตภัณฑ์สุขภาพ   \n",
              "\n",
              "        W/D/Y                                                url  \n",
              "0    11/04/67                                           GSB Loan  \n",
              "1    22/11/64  https://www.bot.or.th/Thai/PressandSpeeches/Sp...  \n",
              "2    22/11/64  https://www.antifakenewscenter.com/%e0%b8%84%e...  \n",
              "3    27/04/66   https://www.matichon.co.th/politics/news_3946572  \n",
              "4    31/01/65  https://mgronline.com/uptodate/detail/96500000...  \n",
              "..        ...                                                ...  \n",
              "303  10/08/66  https://www.antifakenewscenter.com/%e0%b8%a0%e...  \n",
              "304  09/08/66  https://www.antifakenewscenter.com/%e0%b8%9c%e...  \n",
              "305  09/08/66  https://www.antifakenewscenter.com/%e0%b8%9c%e...  \n",
              "306  09/08/66  https://www.antifakenewscenter.com/%e0%b8%81%e...  \n",
              "307  09/08/66  https://www.antifakenewscenter.com/%e0%b8%9c%e...  \n",
              "\n",
              "[308 rows x 5 columns]"
            ],
            "text/html": [
              "\n",
              "  <div id=\"df-a8d29bf8-dc16-4776-82c9-7c06f8289484\" class=\"colab-df-container\">\n",
              "    <div>\n",
              "<style scoped>\n",
              "    .dataframe tbody tr th:only-of-type {\n",
              "        vertical-align: middle;\n",
              "    }\n",
              "\n",
              "    .dataframe tbody tr th {\n",
              "        vertical-align: top;\n",
              "    }\n",
              "\n",
              "    .dataframe thead th {\n",
              "        text-align: right;\n",
              "    }\n",
              "</style>\n",
              "<table border=\"1\" class=\"dataframe\">\n",
              "  <thead>\n",
              "    <tr style=\"text-align: right;\">\n",
              "      <th></th>\n",
              "      <th>title</th>\n",
              "      <th>body</th>\n",
              "      <th>type</th>\n",
              "      <th>W/D/Y</th>\n",
              "      <th>url</th>\n",
              "    </tr>\n",
              "  </thead>\n",
              "  <tbody>\n",
              "    <tr>\n",
              "      <th>0</th>\n",
              "      <td>ข่าวปลอม อย่าแชร์! เว็บไซต์ www.gsb-th-online....</td>\n",
              "      <td>ตามที่มีผู้พบเห็นเว็บไซต์ www.gsb-th-online.co...</td>\n",
              "      <td>การเงิน</td>\n",
              "      <td>11/04/67</td>\n",
              "      <td>GSB Loan</td>\n",
              "    </tr>\n",
              "    <tr>\n",
              "      <th>1</th>\n",
              "      <td>ข่าวปลอม อย่าแชร์! ดร.เศรษฐพุฒิ สุทธิวาทนฤพุฒิ...</td>\n",
              "      <td>ตามที่มีคลิปวิดีโอได้เผยแพร่เนื้อหา เกี่ยวกับป...</td>\n",
              "      <td>ความสงบและความมันคง</td>\n",
              "      <td>22/11/64</td>\n",
              "      <td>https://www.bot.or.th/Thai/PressandSpeeches/Sp...</td>\n",
              "    </tr>\n",
              "    <tr>\n",
              "      <th>2</th>\n",
              "      <td>เอกสารแถลงการณ์ของสถานทูตเมียนมาร์ในประเทศไทย...</td>\n",
              "      <td>ตามที่มีการเผยแพร่ข่าวสารในสื่อออนไลน์เรื่อง เ...</td>\n",
              "      <td>นโยบายรัฐบาล-ข่าวสาร</td>\n",
              "      <td>22/11/64</td>\n",
              "      <td>https://www.antifakenewscenter.com/%e0%b8%84%e...</td>\n",
              "    </tr>\n",
              "    <tr>\n",
              "      <th>3</th>\n",
              "      <td>‘กกต.’ แจงวุ่นเฟคนิวส์ หมายเลข ‘เพื่อไทย-ก้าวไ...</td>\n",
              "      <td>เมื่อวันที่ 27 เมษายน สำนักงานคณะกรรมการการเลื...</td>\n",
              "      <td>นโยบายรัฐบาล-ข่าวสาร</td>\n",
              "      <td>27/04/66</td>\n",
              "      <td>https://www.matichon.co.th/politics/news_3946572</td>\n",
              "    </tr>\n",
              "    <tr>\n",
              "      <th>4</th>\n",
              "      <td>ข่าวปลอม! มีการลักลอบนำชาวมุสลิมต่างด้าวเข้าภู...</td>\n",
              "      <td>จากกรณีข่าวลือที่ระบุว่าผู้ว่าจังหวัดภูเก็ตเหม...</td>\n",
              "      <td>นโยบายรัฐบาล-ข่าวสาร</td>\n",
              "      <td>31/01/65</td>\n",
              "      <td>https://mgronline.com/uptodate/detail/96500000...</td>\n",
              "    </tr>\n",
              "    <tr>\n",
              "      <th>...</th>\n",
              "      <td>...</td>\n",
              "      <td>...</td>\n",
              "      <td>...</td>\n",
              "      <td>...</td>\n",
              "      <td>...</td>\n",
              "    </tr>\n",
              "    <tr>\n",
              "      <th>303</th>\n",
              "      <td>พายุไต้ฝุ่นเข้าไทย ฝนตกหนักที่สุดในรอบ 10 ปี น...</td>\n",
              "      <td>ตามที่มีการเผยแพร่ข้อมูลเรื่องพายุไต้ฝุ่นเข้าไ...</td>\n",
              "      <td>ภัยพิบัติ</td>\n",
              "      <td>10/08/66</td>\n",
              "      <td>https://www.antifakenewscenter.com/%e0%b8%a0%e...</td>\n",
              "    </tr>\n",
              "    <tr>\n",
              "      <th>304</th>\n",
              "      <td>ใช้ปัสสาวะหยอดจมูกรักษาโรคไซนัสได้</td>\n",
              "      <td>ตามที่มีการโพสต์และแชร์ข้อความในสื่อต่าง ๆ ถึง...</td>\n",
              "      <td>ผลิตภัณฑ์สุขภาพ</td>\n",
              "      <td>09/08/66</td>\n",
              "      <td>https://www.antifakenewscenter.com/%e0%b8%9c%e...</td>\n",
              "    </tr>\n",
              "    <tr>\n",
              "      <th>305</th>\n",
              "      <td>ใช้ปัสสาวะหยอดจมูกรักษาโรคไซนัสได้</td>\n",
              "      <td>ตามที่มีการโพสต์และแชร์ข้อความในสื่อต่าง ๆ ถึง...</td>\n",
              "      <td>ผลิตภัณฑ์สุขภาพ</td>\n",
              "      <td>09/08/66</td>\n",
              "      <td>https://www.antifakenewscenter.com/%e0%b8%9c%e...</td>\n",
              "    </tr>\n",
              "    <tr>\n",
              "      <th>306</th>\n",
              "      <td>ไลน์ผู้บริหารของสำนัก ก.ล.ต. ชักชวนลงทุน</td>\n",
              "      <td>ตามที่มีข่าวสารในประเด็นเรื่องไลน์ผู้บริหารของ...</td>\n",
              "      <td>การเงิน-หุ้น</td>\n",
              "      <td>09/08/66</td>\n",
              "      <td>https://www.antifakenewscenter.com/%e0%b8%81%e...</td>\n",
              "    </tr>\n",
              "    <tr>\n",
              "      <th>307</th>\n",
              "      <td>3 จุดสังเกตสัญญาณไตมีปัญหา</td>\n",
              "      <td>ตามที่มีการเผยแพร่ข้อมูลในสื่อออนไลน์เรื่อง 3 ...</td>\n",
              "      <td>ผลิตภัณฑ์สุขภาพ</td>\n",
              "      <td>09/08/66</td>\n",
              "      <td>https://www.antifakenewscenter.com/%e0%b8%9c%e...</td>\n",
              "    </tr>\n",
              "  </tbody>\n",
              "</table>\n",
              "<p>308 rows × 5 columns</p>\n",
              "</div>\n",
              "    <div class=\"colab-df-buttons\">\n",
              "\n",
              "  <div class=\"colab-df-container\">\n",
              "    <button class=\"colab-df-convert\" onclick=\"convertToInteractive('df-a8d29bf8-dc16-4776-82c9-7c06f8289484')\"\n",
              "            title=\"Convert this dataframe to an interactive table.\"\n",
              "            style=\"display:none;\">\n",
              "\n",
              "  <svg xmlns=\"http://www.w3.org/2000/svg\" height=\"24px\" viewBox=\"0 -960 960 960\">\n",
              "    <path d=\"M120-120v-720h720v720H120Zm60-500h600v-160H180v160Zm220 220h160v-160H400v160Zm0 220h160v-160H400v160ZM180-400h160v-160H180v160Zm440 0h160v-160H620v160ZM180-180h160v-160H180v160Zm440 0h160v-160H620v160Z\"/>\n",
              "  </svg>\n",
              "    </button>\n",
              "\n",
              "  <style>\n",
              "    .colab-df-container {\n",
              "      display:flex;\n",
              "      gap: 12px;\n",
              "    }\n",
              "\n",
              "    .colab-df-convert {\n",
              "      background-color: #E8F0FE;\n",
              "      border: none;\n",
              "      border-radius: 50%;\n",
              "      cursor: pointer;\n",
              "      display: none;\n",
              "      fill: #1967D2;\n",
              "      height: 32px;\n",
              "      padding: 0 0 0 0;\n",
              "      width: 32px;\n",
              "    }\n",
              "\n",
              "    .colab-df-convert:hover {\n",
              "      background-color: #E2EBFA;\n",
              "      box-shadow: 0px 1px 2px rgba(60, 64, 67, 0.3), 0px 1px 3px 1px rgba(60, 64, 67, 0.15);\n",
              "      fill: #174EA6;\n",
              "    }\n",
              "\n",
              "    .colab-df-buttons div {\n",
              "      margin-bottom: 4px;\n",
              "    }\n",
              "\n",
              "    [theme=dark] .colab-df-convert {\n",
              "      background-color: #3B4455;\n",
              "      fill: #D2E3FC;\n",
              "    }\n",
              "\n",
              "    [theme=dark] .colab-df-convert:hover {\n",
              "      background-color: #434B5C;\n",
              "      box-shadow: 0px 1px 3px 1px rgba(0, 0, 0, 0.15);\n",
              "      filter: drop-shadow(0px 1px 2px rgba(0, 0, 0, 0.3));\n",
              "      fill: #FFFFFF;\n",
              "    }\n",
              "  </style>\n",
              "\n",
              "    <script>\n",
              "      const buttonEl =\n",
              "        document.querySelector('#df-a8d29bf8-dc16-4776-82c9-7c06f8289484 button.colab-df-convert');\n",
              "      buttonEl.style.display =\n",
              "        google.colab.kernel.accessAllowed ? 'block' : 'none';\n",
              "\n",
              "      async function convertToInteractive(key) {\n",
              "        const element = document.querySelector('#df-a8d29bf8-dc16-4776-82c9-7c06f8289484');\n",
              "        const dataTable =\n",
              "          await google.colab.kernel.invokeFunction('convertToInteractive',\n",
              "                                                    [key], {});\n",
              "        if (!dataTable) return;\n",
              "\n",
              "        const docLinkHtml = 'Like what you see? Visit the ' +\n",
              "          '<a target=\"_blank\" href=https://colab.research.google.com/notebooks/data_table.ipynb>data table notebook</a>'\n",
              "          + ' to learn more about interactive tables.';\n",
              "        element.innerHTML = '';\n",
              "        dataTable['output_type'] = 'display_data';\n",
              "        await google.colab.output.renderOutput(dataTable, element);\n",
              "        const docLink = document.createElement('div');\n",
              "        docLink.innerHTML = docLinkHtml;\n",
              "        element.appendChild(docLink);\n",
              "      }\n",
              "    </script>\n",
              "  </div>\n",
              "\n",
              "\n",
              "<div id=\"df-896f137f-863a-4e2d-b0fb-7643b0c779d6\">\n",
              "  <button class=\"colab-df-quickchart\" onclick=\"quickchart('df-896f137f-863a-4e2d-b0fb-7643b0c779d6')\"\n",
              "            title=\"Suggest charts\"\n",
              "            style=\"display:none;\">\n",
              "\n",
              "<svg xmlns=\"http://www.w3.org/2000/svg\" height=\"24px\"viewBox=\"0 0 24 24\"\n",
              "     width=\"24px\">\n",
              "    <g>\n",
              "        <path d=\"M19 3H5c-1.1 0-2 .9-2 2v14c0 1.1.9 2 2 2h14c1.1 0 2-.9 2-2V5c0-1.1-.9-2-2-2zM9 17H7v-7h2v7zm4 0h-2V7h2v10zm4 0h-2v-4h2v4z\"/>\n",
              "    </g>\n",
              "</svg>\n",
              "  </button>\n",
              "\n",
              "<style>\n",
              "  .colab-df-quickchart {\n",
              "      --bg-color: #E8F0FE;\n",
              "      --fill-color: #1967D2;\n",
              "      --hover-bg-color: #E2EBFA;\n",
              "      --hover-fill-color: #174EA6;\n",
              "      --disabled-fill-color: #AAA;\n",
              "      --disabled-bg-color: #DDD;\n",
              "  }\n",
              "\n",
              "  [theme=dark] .colab-df-quickchart {\n",
              "      --bg-color: #3B4455;\n",
              "      --fill-color: #D2E3FC;\n",
              "      --hover-bg-color: #434B5C;\n",
              "      --hover-fill-color: #FFFFFF;\n",
              "      --disabled-bg-color: #3B4455;\n",
              "      --disabled-fill-color: #666;\n",
              "  }\n",
              "\n",
              "  .colab-df-quickchart {\n",
              "    background-color: var(--bg-color);\n",
              "    border: none;\n",
              "    border-radius: 50%;\n",
              "    cursor: pointer;\n",
              "    display: none;\n",
              "    fill: var(--fill-color);\n",
              "    height: 32px;\n",
              "    padding: 0;\n",
              "    width: 32px;\n",
              "  }\n",
              "\n",
              "  .colab-df-quickchart:hover {\n",
              "    background-color: var(--hover-bg-color);\n",
              "    box-shadow: 0 1px 2px rgba(60, 64, 67, 0.3), 0 1px 3px 1px rgba(60, 64, 67, 0.15);\n",
              "    fill: var(--button-hover-fill-color);\n",
              "  }\n",
              "\n",
              "  .colab-df-quickchart-complete:disabled,\n",
              "  .colab-df-quickchart-complete:disabled:hover {\n",
              "    background-color: var(--disabled-bg-color);\n",
              "    fill: var(--disabled-fill-color);\n",
              "    box-shadow: none;\n",
              "  }\n",
              "\n",
              "  .colab-df-spinner {\n",
              "    border: 2px solid var(--fill-color);\n",
              "    border-color: transparent;\n",
              "    border-bottom-color: var(--fill-color);\n",
              "    animation:\n",
              "      spin 1s steps(1) infinite;\n",
              "  }\n",
              "\n",
              "  @keyframes spin {\n",
              "    0% {\n",
              "      border-color: transparent;\n",
              "      border-bottom-color: var(--fill-color);\n",
              "      border-left-color: var(--fill-color);\n",
              "    }\n",
              "    20% {\n",
              "      border-color: transparent;\n",
              "      border-left-color: var(--fill-color);\n",
              "      border-top-color: var(--fill-color);\n",
              "    }\n",
              "    30% {\n",
              "      border-color: transparent;\n",
              "      border-left-color: var(--fill-color);\n",
              "      border-top-color: var(--fill-color);\n",
              "      border-right-color: var(--fill-color);\n",
              "    }\n",
              "    40% {\n",
              "      border-color: transparent;\n",
              "      border-right-color: var(--fill-color);\n",
              "      border-top-color: var(--fill-color);\n",
              "    }\n",
              "    60% {\n",
              "      border-color: transparent;\n",
              "      border-right-color: var(--fill-color);\n",
              "    }\n",
              "    80% {\n",
              "      border-color: transparent;\n",
              "      border-right-color: var(--fill-color);\n",
              "      border-bottom-color: var(--fill-color);\n",
              "    }\n",
              "    90% {\n",
              "      border-color: transparent;\n",
              "      border-bottom-color: var(--fill-color);\n",
              "    }\n",
              "  }\n",
              "</style>\n",
              "\n",
              "  <script>\n",
              "    async function quickchart(key) {\n",
              "      const quickchartButtonEl =\n",
              "        document.querySelector('#' + key + ' button');\n",
              "      quickchartButtonEl.disabled = true;  // To prevent multiple clicks.\n",
              "      quickchartButtonEl.classList.add('colab-df-spinner');\n",
              "      try {\n",
              "        const charts = await google.colab.kernel.invokeFunction(\n",
              "            'suggestCharts', [key], {});\n",
              "      } catch (error) {\n",
              "        console.error('Error during call to suggestCharts:', error);\n",
              "      }\n",
              "      quickchartButtonEl.classList.remove('colab-df-spinner');\n",
              "      quickchartButtonEl.classList.add('colab-df-quickchart-complete');\n",
              "    }\n",
              "    (() => {\n",
              "      let quickchartButtonEl =\n",
              "        document.querySelector('#df-896f137f-863a-4e2d-b0fb-7643b0c779d6 button');\n",
              "      quickchartButtonEl.style.display =\n",
              "        google.colab.kernel.accessAllowed ? 'block' : 'none';\n",
              "    })();\n",
              "  </script>\n",
              "</div>\n",
              "    </div>\n",
              "  </div>\n"
            ],
            "application/vnd.google.colaboratory.intrinsic+json": {
              "type": "dataframe",
              "variable_name": "Xtrain",
              "summary": "{\n  \"name\": \"Xtrain\",\n  \"rows\": 308,\n  \"fields\": [\n    {\n      \"column\": \"title\",\n      \"properties\": {\n        \"dtype\": \"string\",\n        \"num_unique_values\": 290,\n        \"samples\": [\n          \"\\u0e01\\u0e32\\u0e23\\u0e1a\\u0e34\\u0e19\\u0e44\\u0e17\\u0e22\\u0e23\\u0e31\\u0e1a\\u0e2a\\u0e21\\u0e31\\u0e04\\u0e23\\u0e1e\\u0e19\\u0e31\\u0e01\\u0e07\\u0e32\\u0e19\\u0e2b\\u0e25\\u0e32\\u0e22\\u0e2d\\u0e31\\u0e15\\u0e23\\u0e32 \\u0e23\\u0e32\\u0e22\\u0e44\\u0e14\\u0e49 26,000 \\u0e15\\u0e48\\u0e2d\\u0e40\\u0e14\\u0e37\\u0e2d\\u0e19 \\u0e2a\\u0e21\\u0e31\\u0e04\\u0e23\\u0e1f\\u0e23\\u0e35 \\u0e44\\u0e21\\u0e48\\u0e15\\u0e49\\u0e2d\\u0e07\\u0e2d\\u0e1a\\u0e23\\u0e1a \\u0e44\\u0e21\\u0e48\\u0e15\\u0e49\\u0e2d\\u0e07\\u0e40\\u0e14\\u0e34\\u0e19\\u0e17\\u0e32\\u0e07\",\n          \"\\u0e44\\u0e21\\u0e48\\u0e08\\u0e48\\u0e32\\u0e22\\u0e04\\u0e48\\u0e32\\u0e1b\\u0e23\\u0e31\\u0e1a\\u0e08\\u0e30\\u0e15\\u0e48\\u0e2d\\u0e17\\u0e30\\u0e40\\u0e1a\\u0e35\\u0e22\\u0e19\\u0e23\\u0e16\\u0e44\\u0e21\\u0e48\\u0e44\\u0e14\\u0e49\",\n          \"\\u0e02\\u0e48\\u0e32\\u0e27\\u0e1b\\u0e25\\u0e2d\\u0e21 \\u0e2d\\u0e22\\u0e48\\u0e32\\u0e41\\u0e0a\\u0e23\\u0e4c! \\u0e01\\u0e1f\\u0e19. \\u0e41\\u0e08\\u0e49\\u0e07\\u0e04\\u0e37\\u0e19\\u0e40\\u0e07\\u0e34\\u0e19\\u0e0a\\u0e33\\u0e23\\u0e30\\u0e04\\u0e48\\u0e32\\u0e44\\u0e1f \\u0e40\\u0e19\\u0e37\\u0e48\\u0e2d\\u0e07\\u0e08\\u0e32\\u0e01\\u0e23\\u0e30\\u0e1a\\u0e1a\\u0e1b\\u0e23\\u0e30\\u0e21\\u0e27\\u0e25\\u0e1c\\u0e25\\u0e1c\\u0e34\\u0e14\\u0e1e\\u0e25\\u0e32\\u0e14\"\n        ],\n        \"semantic_type\": \"\",\n        \"description\": \"\"\n      }\n    },\n    {\n      \"column\": \"body\",\n      \"properties\": {\n        \"dtype\": \"string\",\n        \"num_unique_values\": 302,\n        \"samples\": [\n          \"\\u0e08\\u0e32\\u0e01\\u0e01\\u0e23\\u0e13\\u0e35\\u0e17\\u0e35\\u0e48\\u0e21\\u0e35\\u0e1c\\u0e39\\u0e49\\u0e2a\\u0e48\\u0e07\\u0e15\\u0e48\\u0e2d\\u0e02\\u0e49\\u0e2d\\u0e04\\u0e27\\u0e32\\u0e21\\u0e17\\u0e35\\u0e48\\u0e23\\u0e30\\u0e1a\\u0e38\\u0e27\\u0e48\\u0e32 \\u0e22\\u0e32\\u0e2a\\u0e35\\u0e1f\\u0e31\\u0e19\\u0e01\\u0e39\\u0e4a\\u0e14\\u0e41\\u0e01\\u0e19\\u0e34\\u0e04 (\\u0e01\\u0e39\\u0e4a\\u0e14\\u0e14\\u0e41\\u0e01\\u0e18\\u0e4c\\u0e19\\u0e34\\u0e04 2) \\u0e23\\u0e31\\u0e01\\u0e29\\u0e32\\u0e41\\u0e1c\\u0e25\\u0e43\\u0e19\\u0e1b\\u0e32\\u0e01 \\u0e41\\u0e1c\\u0e25\\u0e23\\u0e49\\u0e2d\\u0e19\\u0e43\\u0e19 \\u0e44\\u0e21\\u0e48\\u0e01\\u0e25\\u0e31\\u0e1a\\u0e21\\u0e32\\u0e40\\u0e1b\\u0e47\\u0e19\\u0e0b\\u0e49\\u0e33 \\u0e17\\u0e32\\u0e07\\u0e2a\\u0e33\\u0e19\\u0e31\\u0e01\\u0e07\\u0e32\\u0e19\\u0e04\\u0e13\\u0e30\\u0e01\\u0e23\\u0e23\\u0e21\\u0e01\\u0e32\\u0e23\\u0e2d\\u0e32\\u0e2b\\u0e32\\u0e23\\u0e41\\u0e25\\u0e30\\u0e22\\u0e32 \\u0e01\\u0e23\\u0e30\\u0e17\\u0e23\\u0e27\\u0e07\\u0e2a\\u0e32\\u0e18\\u0e32\\u0e23\\u0e13\\u0e2a\\u0e38\\u0e02 \\u0e44\\u0e14\\u0e49\\u0e15\\u0e23\\u0e27\\u0e08\\u0e2a\\u0e2d\\u0e1a\\u0e02\\u0e49\\u0e2d\\u0e21\\u0e39\\u0e25\\u0e41\\u0e25\\u0e30\\u0e0a\\u0e35\\u0e49\\u0e41\\u0e08\\u0e07\\u0e27\\u0e48\\u0e32 \\u0e02\\u0e49\\u0e2d\\u0e21\\u0e39\\u0e25\\u0e01\\u0e32\\u0e23\\u0e08\\u0e14\\u0e41\\u0e08\\u0e49\\u0e07\\u0e40\\u0e04\\u0e23\\u0e37\\u0e48\\u0e2d\\u0e07\\u0e2a\\u0e33\\u0e2d\\u0e32\\u0e07\\u0e15\\u0e48\\u0e2d\\u0e2a\\u0e33\\u0e19\\u0e31\\u0e01\\u0e07\\u0e32\\u0e19\\u0e04\\u0e13\\u0e30\\u0e01\\u0e23\\u0e23\\u0e21\\u0e01\\u0e32\\u0e23\\u0e2d\\u0e32\\u0e2b\\u0e32\\u0e23\\u0e41\\u0e25\\u0e30\\u0e22\\u0e32 (\\u0e2d\\u0e22.) \\u0e14\\u0e31\\u0e07\\u0e21\\u0e35\\u0e23\\u0e32\\u0e22\\u0e25\\u0e30\\u0e40\\u0e2d\\u0e35\\u0e22\\u0e14\\u0e14\\u0e31\\u0e07\\u0e19\\u0e35\\u0e49\\u0e22\\u0e32\\u0e2a\\u0e35\\u0e1f\\u0e31\\u0e19\\u0e08\\u0e31\\u0e14\\u0e40\\u0e1b\\u0e47\\u0e19\\u0e40\\u0e04\\u0e23\\u0e37\\u0e48\\u0e2d\\u0e07\\u0e2a\\u0e33\\u0e2d\\u0e32\\u0e07\\u0e17\\u0e35\\u0e48\\u0e43\\u0e0a\\u0e49\\u0e40\\u0e1e\\u0e37\\u0e48\\u0e2d\\u0e17\\u0e33\\u0e04\\u0e27\\u0e32\\u0e21\\u0e2a\\u0e30\\u0e2d\\u0e32\\u0e14\\u0e1f\\u0e31\\u0e19\\u0e41\\u0e25\\u0e30\\u0e0a\\u0e48\\u0e2d\\u0e07\\u0e1b\\u0e32\\u0e01\\u0e43\\u0e19\\u0e0a\\u0e35\\u0e27\\u0e34\\u0e15\\u0e1b\\u0e23\\u0e30\\u0e08\\u0e33\\u0e27\\u0e31\\u0e19 \\u0e44\\u0e21\\u0e48\\u0e2a\\u0e32\\u0e21\\u0e32\\u0e23\\u0e16\\u0e23\\u0e31\\u0e01\\u0e29\\u0e32\\u0e41\\u0e1c\\u0e25\\u0e43\\u0e19\\u0e1b\\u0e32\\u0e01 \\u0e41\\u0e1c\\u0e25\\u0e23\\u0e49\\u0e2d\\u0e19\\u0e43\\u0e19 \\u0e44\\u0e21\\u0e48\\u0e01\\u0e25\\u0e31\\u0e1a\\u0e21\\u0e32\\u0e40\\u0e1b\\u0e47\\u0e19\\u0e0b\\u0e49\\u0e33\\u0e44\\u0e14\\u0e49 \\u0e08\\u0e36\\u0e07\\u0e40\\u0e1b\\u0e47\\u0e19\\u0e02\\u0e49\\u0e2d\\u0e04\\u0e27\\u0e32\\u0e21\\u0e17\\u0e35\\u0e48\\u0e40\\u0e1b\\u0e47\\u0e19\\u0e40\\u0e17\\u0e47\\u0e08 \\u0e42\\u0e2d\\u0e49\\u0e2d\\u0e27\\u0e14\\u0e40\\u0e01\\u0e34\\u0e19\\u0e08\\u0e23\\u0e34\\u0e07\\u0e41\\u0e25\\u0e30\\u0e17\\u0e33\\u0e43\\u0e2b\\u0e49\\u0e40\\u0e02\\u0e49\\u0e32\\u0e43\\u0e08\\u0e1c\\u0e34\\u0e14\\u0e43\\u0e19\\u0e2a\\u0e32\\u0e23\\u0e30\\u0e2a\\u0e33\\u0e04\\u0e31\\u0e0d\\u0e40\\u0e01\\u0e35\\u0e48\\u0e22\\u0e27\\u0e01\\u0e31\\u0e1a\\u0e40\\u0e04\\u0e23\\u0e37\\u0e48\\u0e2d\\u0e07\\u0e2a\\u0e33\\u0e2d\\u0e32\\u0e07\",\n          \"\\u0e43\\u0e19\\u0e01\\u0e23\\u0e13\\u0e35\\u0e17\\u0e35\\u0e48\\u0e21\\u0e35\\u0e40\\u0e1e\\u0e08\\u0e40\\u0e1f\\u0e0b\\u0e1a\\u0e38\\u0e4a\\u0e01\\u0e0a\\u0e37\\u0e48\\u0e2d\\u0e2a\\u0e33\\u0e19\\u0e31\\u0e01\\u0e07\\u0e32\\u0e19\\u0e04\\u0e13\\u0e30\\u0e01\\u0e23\\u0e23\\u0e21\\u0e01\\u0e32\\u0e23\\u0e1b\\u0e49\\u0e2d\\u0e07\\u0e01\\u0e31\\u0e19\\u0e41\\u0e25\\u0e30\\u0e1b\\u0e23\\u0e32\\u0e1a\\u0e1b\\u0e23\\u0e32\\u0e21\\u0e01\\u0e32\\u0e23\\u0e17\\u0e38\\u0e08\\u0e23\\u0e34\\u0e15\\u0e43\\u0e19\\u0e20\\u0e32\\u0e04\\u0e23\\u0e31\\u0e10 \\u0e23\\u0e30\\u0e1a\\u0e38\\u0e40\\u0e1b\\u0e47\\u0e19\\u0e02\\u0e2d\\u0e07\\u0e2a\\u0e33\\u0e19\\u0e31\\u0e01\\u0e07\\u0e32\\u0e19 \\u0e1b.\\u0e1b.\\u0e17. \\u0e19\\u0e31\\u0e49\\u0e19 \\u0e17\\u0e32\\u0e07\\u0e2a\\u0e33\\u0e19\\u0e31\\u0e01\\u0e07\\u0e32\\u0e19\\u0e04\\u0e13\\u0e30\\u0e01\\u0e23\\u0e23\\u0e21\\u0e01\\u0e32\\u0e23\\u0e1b\\u0e49\\u0e2d\\u0e07\\u0e01\\u0e31\\u0e19\\u0e41\\u0e25\\u0e30\\u0e1b\\u0e23\\u0e32\\u0e1a\\u0e1b\\u0e23\\u0e32\\u0e21\\u0e01\\u0e32\\u0e23\\u0e17\\u0e38\\u0e08\\u0e23\\u0e34\\u0e15\\u0e43\\u0e19\\u0e20\\u0e32\\u0e04\\u0e23\\u0e31\\u0e10 (\\u0e1b.\\u0e1b.\\u0e17.) \\u0e44\\u0e14\\u0e49\\u0e15\\u0e23\\u0e27\\u0e08\\u0e2a\\u0e2d\\u0e1a\\u0e02\\u0e49\\u0e2d\\u0e21\\u0e39\\u0e25\\u0e41\\u0e25\\u0e30\\u0e0a\\u0e35\\u0e49\\u0e41\\u0e08\\u0e07\\u0e27\\u0e48\\u0e32 \\u0e40\\u0e1e\\u0e08\\u0e40\\u0e1f\\u0e0b\\u0e1a\\u0e38\\u0e4a\\u0e01\\u0e17\\u0e35\\u0e48\\u0e43\\u0e0a\\u0e49\\u0e0a\\u0e37\\u0e48\\u0e2d\\u0e27\\u0e48\\u0e32 \\u0e2a\\u0e33\\u0e19\\u0e31\\u0e01\\u0e07\\u0e32\\u0e19\\u0e04\\u0e13\\u0e30\\u0e01\\u0e23\\u0e23\\u0e21\\u0e01\\u0e32\\u0e23\\u0e1b\\u0e49\\u0e2d\\u0e07\\u0e01\\u0e31\\u0e19\\u0e41\\u0e25\\u0e30\\u0e1b\\u0e23\\u0e32\\u0e1a\\u0e1b\\u0e23\\u0e32\\u0e21\\u0e01\\u0e32\\u0e23\\u0e17\\u0e38\\u0e08\\u0e23\\u0e34\\u0e15\\u0e43\\u0e19\\u0e20\\u0e32\\u0e04\\u0e23\\u0e31\\u0e10 ( URL : https://www.facebook.com/profile.php?id=61558185562477 ) \\u0e40\\u0e1b\\u0e47\\u0e19\\u0e40\\u0e1e\\u0e08\\u0e1b\\u0e25\\u0e2d\\u0e21 \\u0e21\\u0e35\\u0e01\\u0e32\\u0e23\\u0e41\\u0e2d\\u0e1a\\u0e2d\\u0e49\\u0e32\\u0e07\\u0e43\\u0e0a\\u0e49\\u0e0a\\u0e37\\u0e48\\u0e2d\\u0e41\\u0e25\\u0e30 \\u0e15\\u0e23\\u0e32\\u0e2a\\u0e31\\u0e0d\\u0e25\\u0e31\\u0e01\\u0e29\\u0e13\\u0e4c\\u0e02\\u0e2d\\u0e07\\u0e2a\\u0e33\\u0e19\\u0e31\\u0e01\\u0e07\\u0e32\\u0e19 \\u0e1b.\\u0e1b.\\u0e17. \\u0e40\\u0e1b\\u0e47\\u0e19\\u0e20\\u0e32\\u0e1e\\u0e42\\u0e1b\\u0e23\\u0e44\\u0e1f\\u0e25\\u0e4c\\u0e40\\u0e0a\\u0e34\\u0e0d\\u0e0a\\u0e27\\u0e19\\u0e43\\u0e2b\\u0e49\\u0e1b\\u0e23\\u0e30\\u0e0a\\u0e32\\u0e0a\\u0e19\\u0e41\\u0e08\\u0e49\\u0e07\\u0e40\\u0e23\\u0e37\\u0e48\\u0e2d\\u0e07\\u0e23\\u0e49\\u0e2d\\u0e07\\u0e40\\u0e23\\u0e35\\u0e22\\u0e19\\u0e2b\\u0e23\\u0e37\\u0e2d\\u0e41\\u0e08\\u0e49\\u0e07\\u0e40\\u0e1a\\u0e32\\u0e30\\u0e41\\u0e2a\\u0e1c\\u0e48\\u0e32\\u0e19\\u0e0a\\u0e48\\u0e2d\\u0e07\\u0e17\\u0e32\\u0e07\\u0e40\\u0e1e\\u0e08\\u0e2d\\u0e2d\\u0e19\\u0e44\\u0e25\\u0e19\\u0e4c \\u0e1e\\u0e23\\u0e49\\u0e2d\\u0e21\\u0e17\\u0e31\\u0e49\\u0e07\\u0e42\\u0e1e\\u0e2a\\u0e15\\u0e4c\\u0e20\\u0e32\\u0e1e\\u0e41\\u0e25\\u0e30\\u0e02\\u0e49\\u0e2d\\u0e04\\u0e27\\u0e32\\u0e21\\u0e02\\u0e48\\u0e32\\u0e27\\u0e01\\u0e32\\u0e23\\u0e17\\u0e33\\u0e07\\u0e32\\u0e19\\u0e02\\u0e2d\\u0e07\\u0e2b\\u0e19\\u0e48\\u0e27\\u0e22\\u0e07\\u0e32\\u0e19\\u0e43\\u0e19\\u0e2a\\u0e31\\u0e07\\u0e01\\u0e31\\u0e14\\u0e2a\\u0e33\\u0e19\\u0e31\\u0e01\\u0e07\\u0e32\\u0e19 \\u0e1b.\\u0e1b.\\u0e17. \\u0e23\\u0e27\\u0e21\\u0e17\\u0e31\\u0e49\\u0e07\\u0e43\\u0e0a\\u0e49\\u0e20\\u0e32\\u0e1e\\u0e16\\u0e48\\u0e32\\u0e22\\u0e02\\u0e2d\\u0e07\\u0e40\\u0e08\\u0e49\\u0e32\\u0e2b\\u0e19\\u0e49\\u0e32\\u0e17\\u0e35\\u0e48 \\u0e1b.\\u0e1b.\\u0e17. \\u0e41\\u0e25\\u0e30 \\u0e40\\u0e04\\u0e23\\u0e37\\u0e2d\\u0e02\\u0e48\\u0e32\\u0e22\\u0e20\\u0e32\\u0e04\\u0e1b\\u0e23\\u0e30\\u0e0a\\u0e32\\u0e2a\\u0e31\\u0e07\\u0e04\\u0e21 \\u0e1b.\\u0e1b.\\u0e17. \\u0e40\\u0e02\\u0e15 5 \\u0e15\\u0e31\\u0e49\\u0e07\\u0e40\\u0e1b\\u0e47\\u0e19\\u0e20\\u0e32\\u0e1e\\u0e2b\\u0e19\\u0e49\\u0e32\\u0e1b\\u0e01 \\u0e40\\u0e1e\\u0e37\\u0e48\\u0e2d\\u0e40\\u0e1e\\u0e34\\u0e48\\u0e21\\u0e04\\u0e27\\u0e32\\u0e21\\u0e19\\u0e48\\u0e32\\u0e40\\u0e0a\\u0e37\\u0e48\\u0e2d\\u0e16\\u0e37\\u0e2d \\u0e17\\u0e31\\u0e49\\u0e07\\u0e19\\u0e35\\u0e49 \\u0e40\\u0e1e\\u0e08\\u0e40\\u0e1f\\u0e0b\\u0e1a\\u0e38\\u0e4a\\u0e01\\u0e14\\u0e31\\u0e07\\u0e01\\u0e25\\u0e48\\u0e32\\u0e27\\u0e44\\u0e21\\u0e48\\u0e44\\u0e14\\u0e49\\u0e2d\\u0e22\\u0e39\\u0e48\\u0e43\\u0e19\\u0e04\\u0e27\\u0e32\\u0e21\\u0e14\\u0e39\\u0e41\\u0e25\\u0e23\\u0e31\\u0e1a\\u0e1c\\u0e34\\u0e14\\u0e0a\\u0e2d\\u0e1a\\u0e02\\u0e2d\\u0e07\\u0e40\\u0e04\\u0e23\\u0e37\\u0e2d\\u0e02\\u0e48\\u0e32\\u0e22\\u0e41\\u0e25\\u0e30\\u0e2b\\u0e19\\u0e48\\u0e27\\u0e22\\u0e07\\u0e32\\u0e19\\u0e43\\u0e19\\u0e2a\\u0e31\\u0e07\\u0e01\\u0e31\\u0e14\\u0e2a\\u0e33\\u0e19\\u0e31\\u0e01\\u0e07\\u0e32\\u0e19 \\u0e1b.\\u0e1b.\\u0e17.\",\n          \"\\u0e19\\u0e32\\u0e22\\u0e01\\u0e23\\u0e31\\u0e10\\u0e21\\u0e19\\u0e15\\u0e23\\u0e35 \\u0e40\\u0e15\\u0e23\\u0e35\\u0e22\\u0e21\\u0e41\\u0e1c\\u0e19\\u0e2d\\u0e19\\u0e38\\u0e21\\u0e31\\u0e15\\u0e34\\u0e1a\\u0e48\\u0e2d\\u0e19\\u0e01\\u0e32\\u0e2a\\u0e34\\u0e42\\u0e19\\u0e40\\u0e27\\u0e47\\u0e1a\\u0e1e\\u0e19\\u0e31\\u0e19\\u0e16\\u0e39\\u0e01\\u0e01\\u0e0e\\u0e2b\\u0e21\\u0e32\\u0e22 \\u0e40\\u0e2a\\u0e35\\u0e22\\u0e20\\u0e32\\u0e29\\u0e35\\u0e43\\u0e2b\\u0e49\\u0e23\\u0e31\\u0e10\\u0e1a\\u0e32\\u0e25 30% \\u0e40\\u0e1e\\u0e37\\u0e48\\u0e2d\\u0e2a\\u0e23\\u0e49\\u0e32\\u0e07\\u0e2d\\u0e32\\u0e0a\\u0e35\\u0e1e \"\n        ],\n        \"semantic_type\": \"\",\n        \"description\": \"\"\n      }\n    },\n    {\n      \"column\": \"type\",\n      \"properties\": {\n        \"dtype\": \"category\",\n        \"num_unique_values\": 11,\n        \"samples\": [\n          \"\\u0e01\\u0e32\\u0e23\\u0e40\\u0e07\\u0e34\\u0e19-\\u0e2b\\u0e38\\u0e49\\u0e19\",\n          \"\\u0e01\\u0e32\\u0e23\\u0e40\\u0e07\\u0e34\\u0e19\",\n          \"\\u0e20\\u0e31\\u0e22\\u0e1e\\u0e34\\u0e1a\\u0e31\\u0e15\\u0e34\"\n        ],\n        \"semantic_type\": \"\",\n        \"description\": \"\"\n      }\n    },\n    {\n      \"column\": \"W/D/Y\",\n      \"properties\": {\n        \"dtype\": \"category\",\n        \"num_unique_values\": 112,\n        \"samples\": [\n          \"18/10/66\",\n          \"14/03/67\",\n          \"13/04/2567\"\n        ],\n        \"semantic_type\": \"\",\n        \"description\": \"\"\n      }\n    },\n    {\n      \"column\": \"url\",\n      \"properties\": {\n        \"dtype\": \"string\",\n        \"num_unique_values\": 301,\n        \"samples\": [\n          \"https://www.antifakenewscenter.com/%e0%b8%9c%e0%b8%a5%e0%b8%b4%e0%b8%95%e0%b8%a0%e0%b8%b1%e0%b8%93%e0%b8%91%e0%b9%8c%e0%b8%aa%e0%b8%b8%e0%b8%82%e0%b8%a0%e0%b8%b2%e0%b8%9e/%e0%b8%82%e0%b9%88%e0%b8%b2%e0%b8%a7%e0%b8%9b%e0%b8%a5%e0%b8%ad%e0%b8%a1-%e0%b8%ad%e0%b8%a2%e0%b9%88%e0%b8%b2%e0%b9%81%e0%b8%8a%e0%b8%a3%e0%b9%8c-%e0%b8%a2%e0%b8%b2%e0%b8%aa%e0%b8%b5%e0%b8%9f%e0%b8%b1/\",\n          \"\\u0e02\\u0e48\\u0e32\\u0e27\\u0e1b\\u0e25\\u0e2d\\u0e21 \\u0e2d\\u0e22\\u0e48\\u0e32\\u0e41\\u0e0a\\u0e23\\u0e4c! \\u0e2b\\u0e32\\u0e01\\u0e17\\u0e32\\u0e19\\u0e41\\u0e04\\u0e25\\u0e40\\u0e0b\\u0e35\\u0e22\\u0e21\\u0e08\\u0e30\\u0e40\\u0e2a\\u0e35\\u0e48\\u0e22\\u0e07\\u0e2b\\u0e25\\u0e2d\\u0e14\\u0e40\\u0e25\\u0e37\\u0e2d\\u0e14\\u0e2b\\u0e31\\u0e27\\u0e43\\u0e08 \\u0e2b\\u0e23\\u0e37\\u0e2d\\u0e2b\\u0e34\\u0e19\\u0e1b\\u0e39\\u0e19\\u0e40\\u0e01\\u0e32\\u0e30\\u0e2b\\u0e31\\u0e27\\u0e43\\u0e08 > \\u0e28\\u0e39\\u0e19\\u0e22\\u0e4c\\u0e15\\u0e48\\u0e2d\\u0e15\\u0e49\\u0e32\\u0e19\\u0e02\\u0e48\\u0e32\\u0e27\\u0e1b\\u0e25\\u0e2d\\u0e21 \\u0e1b\\u0e23\\u0e30\\u0e40\\u0e17\\u0e28\\u0e44\\u0e17\\u0e22 (antifakenewscenter.com)\",\n          \"https://www.antifakenewscenter.com/%e0%b8%9c%e0%b8%a5%e0%b8%b4%e0%b8%95%e0%b8%a0%e0%b8%b1%e0%b8%93%e0%b8%91%e0%b9%8c%e0%b8%aa%e0%b8%b8%e0%b8%82%e0%b8%a0%e0%b8%b2%e0%b8%9e/%e0%b8%82%e0%b9%88%e0%b8%b2%e0%b8%a7%e0%b8%9b%e0%b8%a5%e0%b8%ad%e0%b8%a1-%e0%b8%ad%e0%b8%a2%e0%b9%88%e0%b8%b2%e0%b9%81%e0%b8%8a%e0%b8%a3%e0%b9%8c-%e0%b9%80%e0%b8%9b%e0%b9%87%e0%b8%99%e0%b8%95%e0%b8%b0/\"\n        ],\n        \"semantic_type\": \"\",\n        \"description\": \"\"\n      }\n    }\n  ]\n}"
            }
          },
          "metadata": {},
          "execution_count": 30
        }
      ]
    },
    {
      "cell_type": "code",
      "source": [
        "import gdown\n",
        "import tensorflow as tf\n",
        "from tensorflow import keras\n",
        "import re"
      ],
      "metadata": {
        "id": "X7ohYFRBp8QC"
      },
      "execution_count": 10,
      "outputs": []
    },
    {
      "cell_type": "code",
      "source": [
        "gdown.download('https://drive.google.com/uc?id=0B0ZXk88koS2KV1FJN0xRX1FxaFE&export=download', 'th.zip', quiet=False)"
      ],
      "metadata": {
        "colab": {
          "base_uri": "https://localhost:8080/",
          "height": 140
        },
        "id": "_mx16AckqDfx",
        "outputId": "518bf8ef-be1c-4289-8f1f-7ddf53e330b2"
      },
      "execution_count": 7,
      "outputs": [
        {
          "output_type": "stream",
          "name": "stderr",
          "text": [
            "Downloading...\n",
            "From (original): https://drive.google.com/uc?id=0B0ZXk88koS2KV1FJN0xRX1FxaFE&export=download\n",
            "From (redirected): https://drive.google.com/uc?id=0B0ZXk88koS2KV1FJN0xRX1FxaFE&export=download&confirm=t&uuid=e4022b78-6693-43ac-b7e7-011197bc4f3f\n",
            "To: /content/th.zip\n",
            "100%|██████████| 122M/122M [00:02<00:00, 59.5MB/s]\n"
          ]
        },
        {
          "output_type": "execute_result",
          "data": {
            "text/plain": [
              "'th.zip'"
            ],
            "application/vnd.google.colaboratory.intrinsic+json": {
              "type": "string"
            }
          },
          "metadata": {},
          "execution_count": 7
        }
      ]
    },
    {
      "cell_type": "code",
      "source": [
        "!unzip th.zip"
      ],
      "metadata": {
        "colab": {
          "base_uri": "https://localhost:8080/"
        },
        "id": "6FfAuZ7kqhql",
        "outputId": "f92bc15d-99fb-437a-c7da-b1ac2508eb9e"
      },
      "execution_count": 8,
      "outputs": [
        {
          "output_type": "stream",
          "name": "stdout",
          "text": [
            "Archive:  th.zip\n",
            "  inflating: th.bin                  \n",
            "  inflating: th.tsv                  \n"
          ]
        }
      ]
    },
    {
      "cell_type": "code",
      "source": [
        "with open('th.tsv') as f:\n",
        "  vocab = []\n",
        "  W = None\n",
        "  vec = ''\n",
        "  for line in f.readlines():\n",
        "    temp = line.split('\\t')\n",
        "    if len(temp) == 3:\n",
        "      vocab.append(temp[1])\n",
        "      if int(temp[0]) % 1000 == 0:\n",
        "        print('\\r' + temp[0], end='')\n",
        "      wordvector = np.fromstring(re.sub('\\s+', ' ', vec)[1:-1], sep=' ', dtype=np.float32)\n",
        "      if len(wordvector) > 0:\n",
        "        if W is None:\n",
        "          W = wordvector.copy()\n",
        "        else:\n",
        "          W = np.vstack((W, wordvector))\n",
        "      vec = temp[-1]\n",
        "    elif len(temp) == 1:\n",
        "      vec += temp[-1]\n",
        "  W = np.vstack((W, wordvector))\n",
        "print('\\n')\n",
        "print(len(vocab))\n",
        "print(W.shape)"
      ],
      "metadata": {
        "colab": {
          "base_uri": "https://localhost:8080/"
        },
        "id": "eSRMLRVnqkto",
        "outputId": "ec768f43-394c-4975-8703-a0f38115cc63"
      },
      "execution_count": 11,
      "outputs": [
        {
          "output_type": "stream",
          "name": "stdout",
          "text": [
            "\r0"
          ]
        },
        {
          "output_type": "stream",
          "name": "stderr",
          "text": [
            "<ipython-input-11-dc2ff50a1690>:11: DeprecationWarning: string or file could not be read to its end due to unmatched data; this will raise a ValueError in the future.\n",
            "  wordvector = np.fromstring(re.sub('\\s+', ' ', vec)[1:-1], sep=' ', dtype=np.float32)\n"
          ]
        },
        {
          "output_type": "stream",
          "name": "stdout",
          "text": [
            "30000\n",
            "\n",
            "30225\n",
            "(30225, 300)\n"
          ]
        }
      ]
    },
    {
      "cell_type": "code",
      "source": [
        "def sent2idx(x):\n",
        "  xidx = []\n",
        "  for w in tokenize(x):\n",
        "    if w in vocab:\n",
        "      xidx.append(vocab.index(w))\n",
        "  return np.array(xidx)"
      ],
      "metadata": {
        "id": "Nw7U26iVqnhG"
      },
      "execution_count": 31,
      "outputs": []
    },
    {
      "cell_type": "code",
      "source": [
        "Xtrain[\"class\"] = 0\n",
        "Y_train[\"class\"] = 1"
      ],
      "metadata": {
        "id": "mmyjmiQ9rptY"
      },
      "execution_count": 32,
      "outputs": []
    },
    {
      "cell_type": "code",
      "source": [
        "Xtrain.shape, Y_train.shape"
      ],
      "metadata": {
        "colab": {
          "base_uri": "https://localhost:8080/"
        },
        "id": "WlfpbcO0snmV",
        "outputId": "2abd2d30-8d6e-41b1-d77e-9353a904eb86"
      },
      "execution_count": 22,
      "outputs": [
        {
          "output_type": "execute_result",
          "data": {
            "text/plain": [
              "((299, 6), (496, 7))"
            ]
          },
          "metadata": {},
          "execution_count": 22
        }
      ]
    },
    {
      "cell_type": "code",
      "source": [
        "df_fake_manual_testing = Xtrain.tail(10)\n",
        "for i in range(307,298,-1):\n",
        "    Xtrain.drop([i], axis = 0, inplace = True)\n",
        "\n",
        "\n",
        "df_true_manual_testing = Y_train.tail(10)\n",
        "for i in range(504,495,-1):\n",
        "    Y_train.drop([i], axis = 0, inplace = True)"
      ],
      "metadata": {
        "id": "3DaCAw2Bspx8"
      },
      "execution_count": 33,
      "outputs": []
    },
    {
      "cell_type": "code",
      "source": [
        "df_fake_manual_testing[\"class\"] = 0\n",
        "df_true_manual_testing[\"class\"] = 1"
      ],
      "metadata": {
        "colab": {
          "base_uri": "https://localhost:8080/"
        },
        "id": "wWL7Af5FtWb7",
        "outputId": "a0ea189c-472a-44a0-8864-144a39a56d65"
      },
      "execution_count": 34,
      "outputs": [
        {
          "output_type": "stream",
          "name": "stderr",
          "text": [
            "<ipython-input-34-3aaf8ec2aad1>:1: SettingWithCopyWarning: \n",
            "A value is trying to be set on a copy of a slice from a DataFrame.\n",
            "Try using .loc[row_indexer,col_indexer] = value instead\n",
            "\n",
            "See the caveats in the documentation: https://pandas.pydata.org/pandas-docs/stable/user_guide/indexing.html#returning-a-view-versus-a-copy\n",
            "  df_fake_manual_testing[\"class\"] = 0\n",
            "<ipython-input-34-3aaf8ec2aad1>:2: SettingWithCopyWarning: \n",
            "A value is trying to be set on a copy of a slice from a DataFrame.\n",
            "Try using .loc[row_indexer,col_indexer] = value instead\n",
            "\n",
            "See the caveats in the documentation: https://pandas.pydata.org/pandas-docs/stable/user_guide/indexing.html#returning-a-view-versus-a-copy\n",
            "  df_true_manual_testing[\"class\"] = 1\n"
          ]
        }
      ]
    },
    {
      "cell_type": "code",
      "source": [
        "# pd.concat(): ใช้เพื่อรวม DataFrame ข่าวปลอมและ DataFrame ข่าวจริงเข้าด้วยกัน โดยกำหนดพารามิเตอร์ axis=0 เพื่อรวมตามแนวแถว (แนวดิ่ง) เพื่อให้ข้อมูลข่าวปลอมและข่าวจริงเรียงต่อกันใน DataFrame เดียว\n",
        "df_manual_testing = pd.concat([df_fake_manual_testing,df_true_manual_testing], axis = 0)"
      ],
      "metadata": {
        "id": "-4Y7L7ywu456"
      },
      "execution_count": 35,
      "outputs": []
    },
    {
      "cell_type": "code",
      "source": [
        "df_merge = pd.concat([Xtrain, Y_train], axis =0 )"
      ],
      "metadata": {
        "id": "ssiw5xveu9Eh"
      },
      "execution_count": 37,
      "outputs": []
    },
    {
      "cell_type": "code",
      "source": [
        "df_merge.columns"
      ],
      "metadata": {
        "colab": {
          "base_uri": "https://localhost:8080/"
        },
        "id": "Eh_FNK9OvFvX",
        "outputId": "56b0e18e-bc91-43f7-f535-a43cf34fe9c9"
      },
      "execution_count": 38,
      "outputs": [
        {
          "output_type": "execute_result",
          "data": {
            "text/plain": [
              "Index(['title', 'body', 'type', 'W/D/Y', 'url', 'class', 'summary', 'year'], dtype='object')"
            ]
          },
          "metadata": {},
          "execution_count": 38
        }
      ]
    },
    {
      "cell_type": "code",
      "source": [
        "df_drop=df_merge.drop([\"title\", \"type\",\"W/D/Y\",\"url\",\"year\",\"summary\"], axis = 1)"
      ],
      "metadata": {
        "id": "bpnZWiQavMeH"
      },
      "execution_count": 39,
      "outputs": []
    },
    {
      "cell_type": "code",
      "source": [
        "df_drop.isnull().sum()"
      ],
      "metadata": {
        "colab": {
          "base_uri": "https://localhost:8080/"
        },
        "id": "FdiAkOm9vN3l",
        "outputId": "41659016-1e61-4353-f09d-485ba4704283"
      },
      "execution_count": 40,
      "outputs": [
        {
          "output_type": "execute_result",
          "data": {
            "text/plain": [
              "body     0\n",
              "class    0\n",
              "dtype: int64"
            ]
          },
          "metadata": {},
          "execution_count": 40
        }
      ]
    },
    {
      "cell_type": "code",
      "source": [
        "def wordopt(text):\n",
        "    text = text.lower()                                                               #แปลงข้อความทั้งหมดให้เป็นตัวอักษรพิมพ์เล็กทั้งหมด\n",
        "    text = re.sub('\\[.*?\\]', '', text)                                                #ลบข้อความที่อยู่ในวงเล็บเหลี่ยมทั้งหมดออก\n",
        "    text = re.sub(\"\\\\W\",\" \",text)                                                     #แทนทุกตัวอักษรที่ไม่ใช่ตัวอักษรหรือตัวเลขด้วยช่องว่าง\n",
        "    text = re.sub('https?://\\S+|www\\.\\S+', '', text)                                  #ลบ URL หรือลิงก์ออกจากข้อความ\n",
        "    text = re.sub('<.*?>+', '', text)                                                 #ลบ tag HTML ออกจากข้อความ\n",
        "    text = re.sub('[%s]' % re.escape(string.punctuation), '', text)                   #ลบเครื่องหมายวรรคตอนออกจากข้อความ\n",
        "    text = re.sub('\\n', '', text)                                                     #ลบเครื่องหมายขึ้นบรรทัดใหม่ออกจากข้อความ\n",
        "    text = re.sub('\\w*\\d\\w*', '', text)                                               #ลบคำที่มีตัวเลขอยู่ในข้อความออก\n",
        "    text = re.sub('a-zA-Zn-๙0-9', '', text)                                          #ลบตัวอักษร a-z, A-Z, ตัวเลข, และตัวอักษรไทยออกจากข้อความ\n",
        "    return text"
      ],
      "metadata": {
        "id": "uuqnRoftvPml"
      },
      "execution_count": 41,
      "outputs": []
    },
    {
      "cell_type": "code",
      "source": [
        "df_drop"
      ],
      "metadata": {
        "colab": {
          "base_uri": "https://localhost:8080/",
          "height": 419
        },
        "id": "qYXkbtpSvTfl",
        "outputId": "37f6aac7-a61f-4974-a928-6a214294473c"
      },
      "execution_count": 42,
      "outputs": [
        {
          "output_type": "execute_result",
          "data": {
            "text/plain": [
              "                                                  body  class\n",
              "0    ตามที่มีผู้พบเห็นเว็บไซต์ www.gsb-th-online.co...      0\n",
              "1    ตามที่มีคลิปวิดีโอได้เผยแพร่เนื้อหา เกี่ยวกับป...      0\n",
              "2    ตามที่มีการเผยแพร่ข่าวสารในสื่อออนไลน์เรื่อง เ...      0\n",
              "3    เมื่อวันที่ 27 เมษายน สำนักงานคณะกรรมการการเลื...      0\n",
              "4    จากกรณีข่าวลือที่ระบุว่าผู้ว่าจังหวัดภูเก็ตเหม...      0\n",
              "..                                                 ...    ...\n",
              "491  ปัจจุบันมีการใช้อาวุธปืนทำร้ายร่างกายผู้อื่นเพ...      1\n",
              "492  กรมอุทยานแห่งชาติ สัตว์ป่า และพันธุ์พืช รับแจ้...      1\n",
              "493  เมื่อสูบบุหรี่ไฟฟ้า นิโคตินเหลวในบุหรี่ไฟฟ้าจะ...      1\n",
              "494  คณะรัฐมนตรี มีมติเห็นชอบนโยบายกำกับการนำเข้าเศ...      1\n",
              "495  ภายหลังจากที่การรถไฟแห่งประเทศไทย ร่วมกับสถาบั...      1\n",
              "\n",
              "[795 rows x 2 columns]"
            ],
            "text/html": [
              "\n",
              "  <div id=\"df-361c6a30-f044-4437-a916-3b7c9400df75\" class=\"colab-df-container\">\n",
              "    <div>\n",
              "<style scoped>\n",
              "    .dataframe tbody tr th:only-of-type {\n",
              "        vertical-align: middle;\n",
              "    }\n",
              "\n",
              "    .dataframe tbody tr th {\n",
              "        vertical-align: top;\n",
              "    }\n",
              "\n",
              "    .dataframe thead th {\n",
              "        text-align: right;\n",
              "    }\n",
              "</style>\n",
              "<table border=\"1\" class=\"dataframe\">\n",
              "  <thead>\n",
              "    <tr style=\"text-align: right;\">\n",
              "      <th></th>\n",
              "      <th>body</th>\n",
              "      <th>class</th>\n",
              "    </tr>\n",
              "  </thead>\n",
              "  <tbody>\n",
              "    <tr>\n",
              "      <th>0</th>\n",
              "      <td>ตามที่มีผู้พบเห็นเว็บไซต์ www.gsb-th-online.co...</td>\n",
              "      <td>0</td>\n",
              "    </tr>\n",
              "    <tr>\n",
              "      <th>1</th>\n",
              "      <td>ตามที่มีคลิปวิดีโอได้เผยแพร่เนื้อหา เกี่ยวกับป...</td>\n",
              "      <td>0</td>\n",
              "    </tr>\n",
              "    <tr>\n",
              "      <th>2</th>\n",
              "      <td>ตามที่มีการเผยแพร่ข่าวสารในสื่อออนไลน์เรื่อง เ...</td>\n",
              "      <td>0</td>\n",
              "    </tr>\n",
              "    <tr>\n",
              "      <th>3</th>\n",
              "      <td>เมื่อวันที่ 27 เมษายน สำนักงานคณะกรรมการการเลื...</td>\n",
              "      <td>0</td>\n",
              "    </tr>\n",
              "    <tr>\n",
              "      <th>4</th>\n",
              "      <td>จากกรณีข่าวลือที่ระบุว่าผู้ว่าจังหวัดภูเก็ตเหม...</td>\n",
              "      <td>0</td>\n",
              "    </tr>\n",
              "    <tr>\n",
              "      <th>...</th>\n",
              "      <td>...</td>\n",
              "      <td>...</td>\n",
              "    </tr>\n",
              "    <tr>\n",
              "      <th>491</th>\n",
              "      <td>ปัจจุบันมีการใช้อาวุธปืนทำร้ายร่างกายผู้อื่นเพ...</td>\n",
              "      <td>1</td>\n",
              "    </tr>\n",
              "    <tr>\n",
              "      <th>492</th>\n",
              "      <td>กรมอุทยานแห่งชาติ สัตว์ป่า และพันธุ์พืช รับแจ้...</td>\n",
              "      <td>1</td>\n",
              "    </tr>\n",
              "    <tr>\n",
              "      <th>493</th>\n",
              "      <td>เมื่อสูบบุหรี่ไฟฟ้า นิโคตินเหลวในบุหรี่ไฟฟ้าจะ...</td>\n",
              "      <td>1</td>\n",
              "    </tr>\n",
              "    <tr>\n",
              "      <th>494</th>\n",
              "      <td>คณะรัฐมนตรี มีมติเห็นชอบนโยบายกำกับการนำเข้าเศ...</td>\n",
              "      <td>1</td>\n",
              "    </tr>\n",
              "    <tr>\n",
              "      <th>495</th>\n",
              "      <td>ภายหลังจากที่การรถไฟแห่งประเทศไทย ร่วมกับสถาบั...</td>\n",
              "      <td>1</td>\n",
              "    </tr>\n",
              "  </tbody>\n",
              "</table>\n",
              "<p>795 rows × 2 columns</p>\n",
              "</div>\n",
              "    <div class=\"colab-df-buttons\">\n",
              "\n",
              "  <div class=\"colab-df-container\">\n",
              "    <button class=\"colab-df-convert\" onclick=\"convertToInteractive('df-361c6a30-f044-4437-a916-3b7c9400df75')\"\n",
              "            title=\"Convert this dataframe to an interactive table.\"\n",
              "            style=\"display:none;\">\n",
              "\n",
              "  <svg xmlns=\"http://www.w3.org/2000/svg\" height=\"24px\" viewBox=\"0 -960 960 960\">\n",
              "    <path d=\"M120-120v-720h720v720H120Zm60-500h600v-160H180v160Zm220 220h160v-160H400v160Zm0 220h160v-160H400v160ZM180-400h160v-160H180v160Zm440 0h160v-160H620v160ZM180-180h160v-160H180v160Zm440 0h160v-160H620v160Z\"/>\n",
              "  </svg>\n",
              "    </button>\n",
              "\n",
              "  <style>\n",
              "    .colab-df-container {\n",
              "      display:flex;\n",
              "      gap: 12px;\n",
              "    }\n",
              "\n",
              "    .colab-df-convert {\n",
              "      background-color: #E8F0FE;\n",
              "      border: none;\n",
              "      border-radius: 50%;\n",
              "      cursor: pointer;\n",
              "      display: none;\n",
              "      fill: #1967D2;\n",
              "      height: 32px;\n",
              "      padding: 0 0 0 0;\n",
              "      width: 32px;\n",
              "    }\n",
              "\n",
              "    .colab-df-convert:hover {\n",
              "      background-color: #E2EBFA;\n",
              "      box-shadow: 0px 1px 2px rgba(60, 64, 67, 0.3), 0px 1px 3px 1px rgba(60, 64, 67, 0.15);\n",
              "      fill: #174EA6;\n",
              "    }\n",
              "\n",
              "    .colab-df-buttons div {\n",
              "      margin-bottom: 4px;\n",
              "    }\n",
              "\n",
              "    [theme=dark] .colab-df-convert {\n",
              "      background-color: #3B4455;\n",
              "      fill: #D2E3FC;\n",
              "    }\n",
              "\n",
              "    [theme=dark] .colab-df-convert:hover {\n",
              "      background-color: #434B5C;\n",
              "      box-shadow: 0px 1px 3px 1px rgba(0, 0, 0, 0.15);\n",
              "      filter: drop-shadow(0px 1px 2px rgba(0, 0, 0, 0.3));\n",
              "      fill: #FFFFFF;\n",
              "    }\n",
              "  </style>\n",
              "\n",
              "    <script>\n",
              "      const buttonEl =\n",
              "        document.querySelector('#df-361c6a30-f044-4437-a916-3b7c9400df75 button.colab-df-convert');\n",
              "      buttonEl.style.display =\n",
              "        google.colab.kernel.accessAllowed ? 'block' : 'none';\n",
              "\n",
              "      async function convertToInteractive(key) {\n",
              "        const element = document.querySelector('#df-361c6a30-f044-4437-a916-3b7c9400df75');\n",
              "        const dataTable =\n",
              "          await google.colab.kernel.invokeFunction('convertToInteractive',\n",
              "                                                    [key], {});\n",
              "        if (!dataTable) return;\n",
              "\n",
              "        const docLinkHtml = 'Like what you see? Visit the ' +\n",
              "          '<a target=\"_blank\" href=https://colab.research.google.com/notebooks/data_table.ipynb>data table notebook</a>'\n",
              "          + ' to learn more about interactive tables.';\n",
              "        element.innerHTML = '';\n",
              "        dataTable['output_type'] = 'display_data';\n",
              "        await google.colab.output.renderOutput(dataTable, element);\n",
              "        const docLink = document.createElement('div');\n",
              "        docLink.innerHTML = docLinkHtml;\n",
              "        element.appendChild(docLink);\n",
              "      }\n",
              "    </script>\n",
              "  </div>\n",
              "\n",
              "\n",
              "<div id=\"df-3de99783-8861-4496-93c6-01b958d4a23b\">\n",
              "  <button class=\"colab-df-quickchart\" onclick=\"quickchart('df-3de99783-8861-4496-93c6-01b958d4a23b')\"\n",
              "            title=\"Suggest charts\"\n",
              "            style=\"display:none;\">\n",
              "\n",
              "<svg xmlns=\"http://www.w3.org/2000/svg\" height=\"24px\"viewBox=\"0 0 24 24\"\n",
              "     width=\"24px\">\n",
              "    <g>\n",
              "        <path d=\"M19 3H5c-1.1 0-2 .9-2 2v14c0 1.1.9 2 2 2h14c1.1 0 2-.9 2-2V5c0-1.1-.9-2-2-2zM9 17H7v-7h2v7zm4 0h-2V7h2v10zm4 0h-2v-4h2v4z\"/>\n",
              "    </g>\n",
              "</svg>\n",
              "  </button>\n",
              "\n",
              "<style>\n",
              "  .colab-df-quickchart {\n",
              "      --bg-color: #E8F0FE;\n",
              "      --fill-color: #1967D2;\n",
              "      --hover-bg-color: #E2EBFA;\n",
              "      --hover-fill-color: #174EA6;\n",
              "      --disabled-fill-color: #AAA;\n",
              "      --disabled-bg-color: #DDD;\n",
              "  }\n",
              "\n",
              "  [theme=dark] .colab-df-quickchart {\n",
              "      --bg-color: #3B4455;\n",
              "      --fill-color: #D2E3FC;\n",
              "      --hover-bg-color: #434B5C;\n",
              "      --hover-fill-color: #FFFFFF;\n",
              "      --disabled-bg-color: #3B4455;\n",
              "      --disabled-fill-color: #666;\n",
              "  }\n",
              "\n",
              "  .colab-df-quickchart {\n",
              "    background-color: var(--bg-color);\n",
              "    border: none;\n",
              "    border-radius: 50%;\n",
              "    cursor: pointer;\n",
              "    display: none;\n",
              "    fill: var(--fill-color);\n",
              "    height: 32px;\n",
              "    padding: 0;\n",
              "    width: 32px;\n",
              "  }\n",
              "\n",
              "  .colab-df-quickchart:hover {\n",
              "    background-color: var(--hover-bg-color);\n",
              "    box-shadow: 0 1px 2px rgba(60, 64, 67, 0.3), 0 1px 3px 1px rgba(60, 64, 67, 0.15);\n",
              "    fill: var(--button-hover-fill-color);\n",
              "  }\n",
              "\n",
              "  .colab-df-quickchart-complete:disabled,\n",
              "  .colab-df-quickchart-complete:disabled:hover {\n",
              "    background-color: var(--disabled-bg-color);\n",
              "    fill: var(--disabled-fill-color);\n",
              "    box-shadow: none;\n",
              "  }\n",
              "\n",
              "  .colab-df-spinner {\n",
              "    border: 2px solid var(--fill-color);\n",
              "    border-color: transparent;\n",
              "    border-bottom-color: var(--fill-color);\n",
              "    animation:\n",
              "      spin 1s steps(1) infinite;\n",
              "  }\n",
              "\n",
              "  @keyframes spin {\n",
              "    0% {\n",
              "      border-color: transparent;\n",
              "      border-bottom-color: var(--fill-color);\n",
              "      border-left-color: var(--fill-color);\n",
              "    }\n",
              "    20% {\n",
              "      border-color: transparent;\n",
              "      border-left-color: var(--fill-color);\n",
              "      border-top-color: var(--fill-color);\n",
              "    }\n",
              "    30% {\n",
              "      border-color: transparent;\n",
              "      border-left-color: var(--fill-color);\n",
              "      border-top-color: var(--fill-color);\n",
              "      border-right-color: var(--fill-color);\n",
              "    }\n",
              "    40% {\n",
              "      border-color: transparent;\n",
              "      border-right-color: var(--fill-color);\n",
              "      border-top-color: var(--fill-color);\n",
              "    }\n",
              "    60% {\n",
              "      border-color: transparent;\n",
              "      border-right-color: var(--fill-color);\n",
              "    }\n",
              "    80% {\n",
              "      border-color: transparent;\n",
              "      border-right-color: var(--fill-color);\n",
              "      border-bottom-color: var(--fill-color);\n",
              "    }\n",
              "    90% {\n",
              "      border-color: transparent;\n",
              "      border-bottom-color: var(--fill-color);\n",
              "    }\n",
              "  }\n",
              "</style>\n",
              "\n",
              "  <script>\n",
              "    async function quickchart(key) {\n",
              "      const quickchartButtonEl =\n",
              "        document.querySelector('#' + key + ' button');\n",
              "      quickchartButtonEl.disabled = true;  // To prevent multiple clicks.\n",
              "      quickchartButtonEl.classList.add('colab-df-spinner');\n",
              "      try {\n",
              "        const charts = await google.colab.kernel.invokeFunction(\n",
              "            'suggestCharts', [key], {});\n",
              "      } catch (error) {\n",
              "        console.error('Error during call to suggestCharts:', error);\n",
              "      }\n",
              "      quickchartButtonEl.classList.remove('colab-df-spinner');\n",
              "      quickchartButtonEl.classList.add('colab-df-quickchart-complete');\n",
              "    }\n",
              "    (() => {\n",
              "      let quickchartButtonEl =\n",
              "        document.querySelector('#df-3de99783-8861-4496-93c6-01b958d4a23b button');\n",
              "      quickchartButtonEl.style.display =\n",
              "        google.colab.kernel.accessAllowed ? 'block' : 'none';\n",
              "    })();\n",
              "  </script>\n",
              "</div>\n",
              "    </div>\n",
              "  </div>\n"
            ],
            "application/vnd.google.colaboratory.intrinsic+json": {
              "type": "dataframe",
              "variable_name": "df_drop",
              "summary": "{\n  \"name\": \"df_drop\",\n  \"rows\": 795,\n  \"fields\": [\n    {\n      \"column\": \"body\",\n      \"properties\": {\n        \"dtype\": \"string\",\n        \"num_unique_values\": 780,\n        \"samples\": [\n          \"\\u0e41\\u0e21\\u0e49\\u0e27\\u0e48\\u0e32\\u0e01\\u0e32\\u0e23\\u0e41\\u0e1e\\u0e23\\u0e48\\u0e23\\u0e30\\u0e1a\\u0e32\\u0e14\\u0e02\\u0e2d\\u0e07\\u0e1b\\u0e23\\u0e30\\u0e40\\u0e17\\u0e28\\u0e44\\u0e17\\u0e22\\u0e22\\u0e31\\u0e07\\u0e2d\\u0e22\\u0e39\\u0e48\\u0e43\\u0e19\\u0e23\\u0e30\\u0e22\\u0e30\\u0e17\\u0e35\\u0e48 2 \\u0e04\\u0e37\\u0e2d\\u0e44\\u0e21\\u0e48\\u0e1e\\u0e1a\\u0e01\\u0e32\\u0e23\\u0e41\\u0e1e\\u0e23\\u0e48\\u0e23\\u0e30\\u0e1a\\u0e32\\u0e14\\u0e43\\u0e19\\u0e1b\\u0e23\\u0e30\\u0e40\\u0e17\\u0e28 \\u0e41\\u0e15\\u0e48 \\u0e2a\\u0e1b\\u0e2a\\u0e0a.\\u0e08\\u0e33\\u0e40\\u0e1b\\u0e47\\u0e19\\u0e15\\u0e49\\u0e2d\\u0e07\\u0e40\\u0e15\\u0e23\\u0e35\\u0e22\\u0e21\\u0e07\\u0e1a\\u0e1b\\u0e23\\u0e30\\u0e21\\u0e32\\u0e13\\u0e23\\u0e2d\\u0e07\\u0e23\\u0e31\\u0e1a\\u0e44\\u0e27\\u0e49\\u0e40\\u0e1e\\u0e37\\u0e48\\u0e2d\\u0e2a\\u0e23\\u0e49\\u0e32\\u0e07\\u0e04\\u0e27\\u0e32\\u0e21\\u0e21\\u0e31\\u0e48\\u0e19\\u0e43\\u0e08\\u0e41\\u0e25\\u0e30\\u0e2a\\u0e19\\u0e31\\u0e1a\\u0e2a\\u0e19\\u0e38\\u0e19\\u0e01\\u0e32\\u0e23\\u0e1a\\u0e23\\u0e34\\u0e01\\u0e32\\u0e23\\u0e02\\u0e2d\\u0e07\\u0e2b\\u0e19\\u0e48\\u0e27\\u0e22\\u0e1a\\u0e23\\u0e34\\u0e01\\u0e32\\u0e23\\u0e43\\u0e19\\u0e01\\u0e32\\u0e23\\u0e14\\u0e39\\u0e41\\u0e25\\u0e1c\\u0e39\\u0e49\\u0e1b\\u0e48\\u0e27\\u0e22 \\u0e41\\u0e25\\u0e30\\u0e2a\\u0e23\\u0e49\\u0e32\\u0e07\\u0e04\\u0e27\\u0e32\\u0e21\\u0e21\\u0e31\\u0e48\\u0e19\\u0e43\\u0e08\\u0e43\\u0e2b\\u0e49\\u0e01\\u0e31\\u0e1a\\u0e1b\\u0e23\\u0e30\\u0e0a\\u0e32\\u0e0a\\u0e19 \\u0e27\\u0e31\\u0e19\\u0e19\\u0e35\\u0e49\\u0e1a\\u0e2d\\u0e23\\u0e4c\\u0e14 \\u0e2a\\u0e1b\\u0e2a\\u0e0a.\\u0e44\\u0e14\\u0e49\\u0e1e\\u0e34\\u0e08\\u0e32\\u0e23\\u0e13\\u0e32 \\u0e41\\u0e25\\u0e30\\u0e21\\u0e35\\u0e21\\u0e15\\u0e34\\u0e40\\u0e2b\\u0e47\\u0e19\\u0e0a\\u0e2d\\u0e1a\\u0e43\\u0e2b\\u0e49\\u0e43\\u0e2b\\u0e49\\u0e01\\u0e23\\u0e13\\u0e35\\u0e42\\u0e23\\u0e04\\u0e15\\u0e34\\u0e14\\u0e40\\u0e0a\\u0e37\\u0e49\\u0e2d\\u0e44\\u0e27\\u0e23\\u0e31\\u0e2a\\u0e42\\u0e04\\u0e42\\u0e23\\u0e19\\u0e322019 \\u0e2d\\u0e22\\u0e39\\u0e48\\u0e43\\u0e19\\u0e23\\u0e32\\u0e22\\u0e01\\u0e32\\u0e23\\u0e1b\\u0e23\\u0e30\\u0e40\\u0e20\\u0e17 \\u0e41\\u0e25\\u0e30\\u0e02\\u0e2d\\u0e1a\\u0e40\\u0e02\\u0e15\\u0e1a\\u0e23\\u0e34\\u0e01\\u0e32\\u0e23\\u0e2a\\u0e32\\u0e18\\u0e32\\u0e23\\u0e13\\u0e2a\\u0e38\\u0e02\\u0e43\\u0e19\\u0e23\\u0e30\\u0e1a\\u0e1a\\u0e2b\\u0e25\\u0e31\\u0e01\\u0e1b\\u0e23\\u0e30\\u0e01\\u0e31\\u0e19\\u0e2a\\u0e38\\u0e02\\u0e20\\u0e32\\u0e1e\\u0e41\\u0e2b\\u0e48\\u0e07\\u0e0a\\u0e32\\u0e15\\u0e34 (\\u0e1a\\u0e31\\u0e15\\u0e23\\u0e17\\u0e2d\\u0e07) \\u0e04\\u0e23\\u0e2d\\u0e1a\\u0e04\\u0e25\\u0e38\\u0e21\\u0e14\\u0e39\\u0e41\\u0e25\\u0e17\\u0e31\\u0e49\\u0e07\\u0e01\\u0e32\\u0e23\\u0e1b\\u0e49\\u0e2d\\u0e07\\u0e01\\u0e31\\u0e19\\u0e42\\u0e23\\u0e04 \\u0e2a\\u0e23\\u0e49\\u0e32\\u0e07\\u0e40\\u0e2a\\u0e23\\u0e34\\u0e21\\u0e2a\\u0e38\\u0e02\\u0e20\\u0e32\\u0e1e \\u0e15\\u0e23\\u0e27\\u0e08\\u0e27\\u0e34\\u0e19\\u0e34\\u0e08\\u0e09\\u0e31\\u0e22\\u0e42\\u0e23\\u0e04\\u0e23\\u0e31\\u0e01\\u0e29\\u0e32\\u0e1e\\u0e22\\u0e32\\u0e1a\\u0e32\\u0e25 \\u0e41\\u0e25\\u0e30\\u0e01\\u0e32\\u0e23\\u0e1f\\u0e37\\u0e49\\u0e19\\u0e1f\\u0e39\\u0e2a\\u0e21\\u0e23\\u0e23\\u0e16\\u0e20\\u0e32\\u0e1e\\u0e17\\u0e32\\u0e07\\u0e01\\u0e32\\u0e23\\u0e41\\u0e1e\\u0e17\\u0e22\\u0e4c \\u0e41\\u0e25\\u0e30\\u0e21\\u0e2d\\u0e1a\\u0e43\\u0e2b\\u0e49\\u0e04\\u0e13\\u0e30\\u0e2d\\u0e19\\u0e38\\u0e01\\u0e23\\u0e23\\u0e21\\u0e01\\u0e32\\u0e23\\u0e01\\u0e33\\u0e2b\\u0e19\\u0e14\\u0e1b\\u0e23\\u0e30\\u0e40\\u0e20\\u0e17 \\u0e41\\u0e25\\u0e30\\u0e02\\u0e2d\\u0e1a\\u0e40\\u0e02\\u0e15\\u0e43\\u0e19\\u0e01\\u0e32\\u0e23\\u0e43\\u0e2b\\u0e49\\u0e1a\\u0e23\\u0e34\\u0e01\\u0e32\\u0e23\\u0e2a\\u0e32\\u0e18\\u0e32\\u0e23\\u0e13\\u0e2a\\u0e38\\u0e02\\u0e17\\u0e35\\u0e48\\u0e08\\u0e33\\u0e40\\u0e1b\\u0e47\\u0e19\\u0e15\\u0e48\\u0e2d\\u0e2a\\u0e38\\u0e02\\u0e20\\u0e32\\u0e1e \\u0e41\\u0e25\\u0e30\\u0e14\\u0e33\\u0e23\\u0e07\\u0e0a\\u0e35\\u0e27\\u0e34\\u0e15 \\u0e1e\\u0e34\\u0e08\\u0e32\\u0e23\\u0e13\\u0e32\\u0e23\\u0e32\\u0e22\\u0e25\\u0e30\\u0e40\\u0e2d\\u0e35\\u0e22\\u0e14\\u0e21\\u0e32\\u0e15\\u0e23\\u0e10\\u0e32\\u0e19 \\u0e41\\u0e25\\u0e30\\u0e41\\u0e19\\u0e27\\u0e17\\u0e32\\u0e07\\u0e1a\\u0e23\\u0e34\\u0e01\\u0e32\\u0e23\\r\\n\\u0e02\\u0e13\\u0e30\\u0e40\\u0e14\\u0e35\\u0e22\\u0e27\\u0e01\\u0e31\\u0e19 \\u0e2a\\u0e1b\\u0e2a\\u0e0a. \\u0e22\\u0e31\\u0e07\\u0e44\\u0e14\\u0e49\\u0e21\\u0e2d\\u0e1a\\u0e04\\u0e13\\u0e30\\u0e2d\\u0e19\\u0e38\\u0e01\\u0e23\\u0e23\\u0e21\\u0e01\\u0e32\\u0e23\\u0e01\\u0e33\\u0e2b\\u0e19\\u0e14\\u0e2b\\u0e25\\u0e31\\u0e01\\u0e40\\u0e01\\u0e13\\u0e11\\u0e4c\\u0e01\\u0e32\\u0e23\\u0e14\\u0e33\\u0e40\\u0e19\\u0e34\\u0e19\\u0e07\\u0e32\\u0e19 \\u0e41\\u0e25\\u0e30\\u0e1a\\u0e23\\u0e34\\u0e2b\\u0e32\\u0e23\\u0e08\\u0e31\\u0e14\\u0e01\\u0e32\\u0e23\\u0e01\\u0e2d\\u0e07\\u0e17\\u0e38\\u0e19\\u0e1e\\u0e34\\u0e08\\u0e32\\u0e23\\u0e13\\u0e32\\u0e41\\u0e2b\\u0e25\\u0e48\\u0e07\\u0e07\\u0e1a\\u0e1b\\u0e23\\u0e30\\u0e21\\u0e32\\u0e13 \\u0e41\\u0e25\\u0e30\\u0e01\\u0e33\\u0e2b\\u0e19\\u0e14\\u0e2b\\u0e25\\u0e31\\u0e01\\u0e40\\u0e01\\u0e13\\u0e11\\u0e4c\\u0e41\\u0e25\\u0e30\\u0e01\\u0e32\\u0e23\\u0e14\\u0e33\\u0e40\\u0e19\\u0e34\\u0e19\\u0e07\\u0e32\\u0e19 \\u0e27\\u0e34\\u0e18\\u0e35 \\u0e40\\u0e07\\u0e37\\u0e48\\u0e2d\\u0e19\\u0e44\\u0e02 \\u0e41\\u0e25\\u0e30\\u0e2d\\u0e31\\u0e15\\u0e23\\u0e32\\u0e01\\u0e32\\u0e23\\u0e23\\u0e31\\u0e1a\\u0e04\\u0e48\\u0e32\\u0e43\\u0e0a\\u0e49\\u0e08\\u0e48\\u0e32\\u0e22\\u0e40\\u0e1e\\u0e37\\u0e48\\u0e2d\\u0e1a\\u0e23\\u0e34\\u0e01\\u0e32\\u0e23\\u0e2a\\u0e32\\u0e18\\u0e32\\u0e23\\u0e13\\u0e2a\\u0e38\\u0e02\\u0e02\\u0e2d\\u0e07\\u0e2b\\u0e19\\u0e48\\u0e27\\u0e22\\u0e1a\\u0e23\\u0e34\\u0e01\\u0e32\\u0e23 \\u0e42\\u0e14\\u0e22\\u0e40\\u0e1a\\u0e37\\u0e49\\u0e2d\\u0e07\\u0e15\\u0e49\\u0e19\\u0e43\\u0e2b\\u0e49 \\u0e2a\\u0e1b\\u0e2a\\u0e0a.\\u0e08\\u0e48\\u0e32\\u0e22\\u0e0a\\u0e14\\u0e40\\u0e0a\\u0e22\\u0e04\\u0e48\\u0e32\\u0e1a\\u0e23\\u0e34\\u0e01\\u0e32\\u0e23\\u0e2a\\u0e33\\u0e2b\\u0e23\\u0e31\\u0e1a\\u0e42\\u0e23\\u0e04\\u0e15\\u0e34\\u0e14\\u0e40\\u0e0a\\u0e37\\u0e49\\u0e2d\\u0e44\\u0e27\\u0e23\\u0e31\\u0e2a\\u0e42\\u0e04\\u0e42\\u0e23\\u0e19\\u0e32 2019 \\u0e08\\u0e32\\u0e01\\u0e40\\u0e07\\u0e34\\u0e19\\u0e01\\u0e2d\\u0e07\\u0e17\\u0e38\\u0e19\\u0e23\\u0e32\\u0e22\\u0e01\\u0e32\\u0e23\\u0e23\\u0e32\\u0e22\\u0e44\\u0e14\\u0e49\\u0e2a\\u0e39\\u0e07(\\u0e15\\u0e48\\u0e33)\\u0e01\\u0e27\\u0e48\\u0e32\\u0e04\\u0e48\\u0e32\\u0e43\\u0e0a\\u0e49\\u0e08\\u0e48\\u0e32\\u0e22\\u0e2a\\u0e30\\u0e2a\\u0e21 \\u0e08\\u0e33\\u0e19\\u0e27\\u0e19\\u0e44\\u0e21\\u0e48\\u0e40\\u0e01\\u0e34\\u0e19 1,020 \\u0e25\\u0e49\\u0e32\\u0e19\\u0e1a\\u0e32\\u0e17 \\u0e41\\u0e25\\u0e30\\u0e43\\u0e2b\\u0e49\\u0e15\\u0e34\\u0e14\\u0e15\\u0e32\\u0e21\\u0e1c\\u0e25\\u0e01\\u0e32\\u0e23\\u0e43\\u0e0a\\u0e49\\u0e07\\u0e1a\\u0e1b\\u0e23\\u0e30\\u0e21\\u0e32\\u0e13\\u0e01\\u0e23\\u0e13\\u0e35\\u0e17\\u0e35\\u0e48\\u0e44\\u0e21\\u0e48\\u0e40\\u0e1e\\u0e35\\u0e22\\u0e07\\u0e1e\\u0e2d \\u0e43\\u0e2b\\u0e49\\u0e14\\u0e33\\u0e40\\u0e19\\u0e34\\u0e19\\u0e01\\u0e32\\u0e23\\u0e40\\u0e1e\\u0e37\\u0e48\\u0e2d\\u0e02\\u0e2d\\u0e23\\u0e31\\u0e1a\\u0e07\\u0e1a\\u0e01\\u0e25\\u0e32\\u0e07\\u0e08\\u0e32\\u0e01\\u0e23\\u0e31\\u0e10\\u0e1a\\u0e32\\u0e25\\u0e15\\u0e48\\u0e2d\\u0e44\\u0e1b \\u0e42\\u0e14\\u0e22\\u0e07\\u0e1a\\u0e1b\\u0e23\\u0e30\\u0e21\\u0e32\\u0e13\\u0e17\\u0e35\\u0e48\\u0e2d\\u0e19\\u0e38\\u0e21\\u0e31\\u0e15\\u0e34\\u0e19\\u0e35\\u0e49\\u0e44\\u0e21\\u0e48\\u0e2a\\u0e48\\u0e07\\u0e1c\\u0e25\\u0e01\\u0e23\\u0e30\\u0e17\\u0e1a\\u0e15\\u0e48\\u0e2d\\u0e2a\\u0e34\\u0e17\\u0e18\\u0e34\\u0e1b\\u0e23\\u0e30\\u0e42\\u0e22\\u0e02\\u0e19\\u0e4c \\u0e41\\u0e25\\u0e30\\u0e07\\u0e1a\\u0e1b\\u0e23\\u0e30\\u0e21\\u0e32\\u0e13\\u0e43\\u0e19\\u0e23\\u0e30\\u0e1a\\u0e1a\\u0e1b\\u0e01\\u0e15\\u0e34\\u0e41\\u0e15\\u0e48\\u0e2d\\u0e22\\u0e48\\u0e32\\u0e07\\u0e43\\u0e14\",\n          \"\\u0e14\\u0e49\\u0e27\\u0e22\\u0e04\\u0e13\\u0e30\\u0e01\\u0e23\\u0e23\\u0e21\\u0e01\\u0e32\\u0e23\\u0e01\\u0e33\\u0e01\\u0e31\\u0e1a\\u0e01\\u0e34\\u0e08\\u0e01\\u0e32\\u0e23\\u0e1e\\u0e25\\u0e31\\u0e07\\u0e07\\u0e32\\u0e19 \\u0e21\\u0e35\\u0e21\\u0e15\\u0e34\\u0e43\\u0e2b\\u0e49 \\u0e01\\u0e32\\u0e23\\u0e44\\u0e1f\\u0e1f\\u0e49\\u0e32\\u0e2a\\u0e48\\u0e27\\u0e19\\u0e20\\u0e39\\u0e21\\u0e34\\u0e20\\u0e32\\u0e04 \\u0e08\\u0e48\\u0e32\\u0e22\\u0e04\\u0e37\\u0e19\\u0e40\\u0e07\\u0e34\\u0e19\\u0e1c\\u0e25\\u0e1b\\u0e23\\u0e30\\u0e42\\u0e22\\u0e0a\\u0e19\\u0e4c\\u0e08\\u0e32\\u0e01\\u0e40\\u0e07\\u0e34\\u0e19\\u0e1b\\u0e23\\u0e30\\u0e01\\u0e31\\u0e19\\u0e01\\u0e32\\u0e23\\u0e43\\u0e0a\\u0e49\\u0e44\\u0e1f\\u0e1f\\u0e49\\u0e32 \\u0e17\\u0e35\\u0e48\\u0e1c\\u0e39\\u0e49\\u0e43\\u0e0a\\u0e49\\u0e44\\u0e1f\\u0e1f\\u0e49\\u0e32\\u0e27\\u0e32\\u0e07\\u0e40\\u0e1b\\u0e47\\u0e19\\u0e40\\u0e07\\u0e34\\u0e19\\u0e2a\\u0e14\\u0e44\\u0e27\\u0e49\\u0e01\\u0e31\\u0e1a\\u0e01\\u0e32\\u0e23\\u0e44\\u0e1f\\u0e1f\\u0e49\\u0e32\\u0e2a\\u0e48\\u0e27\\u0e19\\u0e20\\u0e39\\u0e21\\u0e34\\u0e20\\u0e32\\u0e04 \\u0e43\\u0e2b\\u0e49\\u0e1c\\u0e39\\u0e49\\u0e43\\u0e0a\\u0e49\\u0e44\\u0e1f\\u0e1f\\u0e49\\u0e32 \\u0e1b\\u0e23\\u0e30\\u0e40\\u0e20\\u0e17\\u0e17\\u0e35\\u0e48 1 \\u0e41\\u0e25\\u0e30 \\u0e1b\\u0e23\\u0e30\\u0e40\\u0e20\\u0e17 2 \\u0e0b\\u0e36\\u0e48\\u0e07\\u0e40\\u0e1b\\u0e47\\u0e19\\u0e1a\\u0e49\\u0e32\\u0e19\\u0e2d\\u0e22\\u0e39\\u0e48\\u0e2d\\u0e32\\u0e28\\u0e31\\u0e22 \\u0e17\\u0e38\\u0e01\\u0e46 5 \\u0e1b\\u0e35 \\u0e40\\u0e23\\u0e34\\u0e48\\u0e21\\u0e15\\u0e31\\u0e49\\u0e07\\u0e41\\u0e15\\u0e48\\u0e1b\\u0e35 2558 \\u0e42\\u0e14\\u0e22\\u0e44\\u0e14\\u0e49\\u0e01\\u0e33\\u0e2b\\u0e19\\u0e14\\u0e27\\u0e34\\u0e18\\u0e35\\u0e01\\u0e32\\u0e23\\u0e08\\u0e48\\u0e32\\u0e22\\u0e04\\u0e37\\u0e19\\u0e40\\u0e07\\u0e34\\u0e19\\u0e1c\\u0e25\\u0e1b\\u0e23\\u0e30\\u0e42\\u0e22\\u0e0a\\u0e19\\u0e4c\\u0e2f \\u0e15\\u0e31\\u0e49\\u0e07\\u0e41\\u0e15\\u0e48\\u0e1b\\u0e35 2558-2562 \\u0e43\\u0e19\\u0e23\\u0e39\\u0e1b\\u0e41\\u0e1a\\u0e1a\\u0e01\\u0e32\\u0e23\\u0e2b\\u0e31\\u0e01\\u0e25\\u0e14\\u0e04\\u0e48\\u0e32\\u0e44\\u0e1f\\u0e1f\\u0e49\\u0e32\\n\\u0e01\\u0e32\\u0e23\\u0e08\\u0e48\\u0e32\\u0e22\\u0e04\\u0e37\\u0e19\\u0e40\\u0e07\\u0e34\\u0e19\\u0e1c\\u0e25\\u0e1b\\u0e23\\u0e30\\u0e42\\u0e22\\u0e0a\\u0e19\\u0e4c\\u0e2f\\u0e43\\u0e19\\u0e04\\u0e23\\u0e31\\u0e49\\u0e07\\u0e41\\u0e23\\u0e01 \\u0e14\\u0e49\\u0e27\\u0e22\\u0e27\\u0e34\\u0e18\\u0e35\\u0e2b\\u0e31\\u0e01\\u0e25\\u0e14\\u0e08\\u0e32\\u0e01\\u0e04\\u0e48\\u0e32\\u0e44\\u0e1f\\u0e1f\\u0e49\\u0e32\\u0e1b\\u0e23\\u0e30\\u0e08\\u0e33\\u0e40\\u0e14\\u0e37\\u0e2d\\u0e19 \\u0e01.\\u0e1e. 2563 \\u0e17\\u0e33\\u0e43\\u0e2b\\u0e49\\u0e43\\u0e19\\u0e40\\u0e14\\u0e37\\u0e2d\\u0e19 \\u0e01.\\u0e1e. 2563 \\u0e1c\\u0e39\\u0e49\\u0e43\\u0e0a\\u0e49\\u0e44\\u0e1f\\u0e1f\\u0e49\\u0e32\\u0e08\\u0e30\\u0e44\\u0e14\\u0e49\\u0e23\\u0e31\\u0e1a\\u0e40\\u0e2d\\u0e01\\u0e2a\\u0e32\\u0e23 \\u0e14\\u0e31\\u0e07\\u0e19\\u0e35\\u0e49\\r\\n\\r\\n1. \\u0e43\\u0e1a\\u0e41\\u0e08\\u0e49\\u0e07\\u0e04\\u0e48\\u0e32\\u0e44\\u0e1f\\u0e1f\\u0e49\\u0e32 \\u0e1b\\u0e23\\u0e30\\u0e08\\u0e33\\u0e40\\u0e14\\u0e37\\u0e2d\\u0e19 \\u0e01.\\u0e1e. 2563 \\u0e17\\u0e35\\u0e48\\u0e41\\u0e2a\\u0e14\\u0e07\\u0e23\\u0e32\\u0e22\\u0e25\\u0e30\\u0e40\\u0e2d\\u0e35\\u0e22\\u0e14\\u0e01\\u0e32\\u0e23\\u0e40\\u0e23\\u0e35\\u0e22\\u0e01\\u0e40\\u0e01\\u0e47\\u0e1a\\u0e40\\u0e07\\u0e34\\u0e19\\u0e04\\u0e48\\u0e32\\u0e44\\u0e1f\\u0e1f\\u0e49\\u0e32 \\u0e20\\u0e32\\u0e22\\u0e2b\\u0e25\\u0e31\\u0e07\\u0e08\\u0e32\\u0e01\\u0e19\\u0e33\\u0e40\\u0e07\\u0e34\\u0e19\\u0e1c\\u0e25\\u0e1b\\u0e23\\u0e30\\u0e42\\u0e22\\u0e0a\\u0e19\\u0e4c\\u0e2f \\u0e44\\u0e1b\\u0e2b\\u0e31\\u0e01\\u0e25\\u0e14\\u0e08\\u0e32\\u0e01\\u0e04\\u0e48\\u0e32\\u0e44\\u0e1f\\u0e1f\\u0e49\\u0e32\\u0e41\\u0e25\\u0e49\\u0e27 \\u0e1c\\u0e39\\u0e49\\u0e43\\u0e0a\\u0e49\\u0e44\\u0e1f\\u0e1f\\u0e49\\u0e32 \\u0e2a\\u0e32\\u0e21\\u0e32\\u0e23\\u0e16\\u0e19\\u0e33 \\u0e43\\u0e1a\\u0e41\\u0e08\\u0e49\\u0e07\\u0e04\\u0e48\\u0e32\\u0e44\\u0e1f\\u0e1f\\u0e49\\u0e32\\u0e15\\u0e32\\u0e21\\u0e17\\u0e35\\u0e48\\u0e41\\u0e08\\u0e49\\u0e07\\u0e40\\u0e23\\u0e35\\u0e22\\u0e01\\u0e40\\u0e01\\u0e47\\u0e1a \\u0e44\\u0e1b\\u0e0a\\u0e33\\u0e23\\u0e30\\u0e40\\u0e07\\u0e34\\u0e19\\u0e04\\u0e48\\u0e32\\u0e44\\u0e1f\\u0e1f\\u0e49\\u0e32 \\u0e44\\u0e14\\u0e49\\u0e15\\u0e32\\u0e21\\u0e0a\\u0e48\\u0e2d\\u0e07\\u0e17\\u0e32\\u0e07\\u0e01\\u0e32\\u0e23\\u0e23\\u0e31\\u0e1a\\u0e0a\\u0e33\\u0e23\\u0e30\\u0e40\\u0e07\\u0e34\\u0e19\\u0e1b\\u0e01\\u0e15\\u0e34\\r\\n2. \\u0e43\\u0e1a\\u0e40\\u0e2a\\u0e23\\u0e47\\u0e08\\u0e23\\u0e31\\u0e1a\\u0e40\\u0e07\\u0e34\\u0e19\\u0e04\\u0e48\\u0e32\\u0e44\\u0e1f\\u0e1f\\u0e49\\u0e32/\\u0e43\\u0e1a\\u0e01\\u0e33\\u0e01\\u0e31\\u0e1a\\u0e20\\u0e32\\u0e29\\u0e35 \\u0e02\\u0e2d\\u0e07\\u0e04\\u0e48\\u0e32\\u0e44\\u0e1f\\u0e1f\\u0e49\\u0e32\\u0e1b\\u0e23\\u0e30\\u0e08\\u0e33\\u0e40\\u0e14\\u0e37\\u0e2d\\u0e19 \\u0e01.\\u0e1e. 2563 (\\u0e1a\\u0e32\\u0e07\\u0e2a\\u0e48\\u0e27\\u0e19) \\u0e40\\u0e1e\\u0e37\\u0e48\\u0e2d\\u0e40\\u0e1b\\u0e47\\u0e19\\u0e2b\\u0e25\\u0e31\\u0e01\\u0e10\\u0e32\\u0e19\\u0e27\\u0e48\\u0e32 \\u0e01\\u0e32\\u0e23\\u0e44\\u0e1f\\u0e1f\\u0e49\\u0e32\\u0e2a\\u0e48\\u0e27\\u0e19\\u0e20\\u0e39\\u0e21\\u0e34\\u0e20\\u0e32\\u0e04 \\u0e44\\u0e14\\u0e49\\u0e23\\u0e31\\u0e1a\\u0e0a\\u0e33\\u0e23\\u0e30\\u0e40\\u0e07\\u0e34\\u0e19\\u0e04\\u0e48\\u0e32\\u0e44\\u0e1f\\u0e1f\\u0e49\\u0e32 \\u0e08\\u0e32\\u0e01\\u0e01\\u0e32\\u0e23\\u0e19\\u0e33\\u0e40\\u0e07\\u0e34\\u0e19\\u0e1c\\u0e25\\u0e1b\\u0e23\\u0e30\\u0e42\\u0e22\\u0e0a\\u0e19\\u0e4c\\u0e40\\u0e07\\u0e34\\u0e19\\u0e1b\\u0e23\\u0e30\\u0e01\\u0e31\\u0e19\\u0e01\\u0e32\\u0e23\\u0e43\\u0e0a\\u0e49\\u0e44\\u0e1f\\u0e1f\\u0e49\\u0e32 \\u0e44\\u0e1b\\u0e0a\\u0e33\\u0e23\\u0e30\\u0e04\\u0e48\\u0e32\\u0e44\\u0e1f\\u0e1f\\u0e49\\u0e32\\u0e1b\\u0e23\\u0e30\\u0e08\\u0e33\\u0e40\\u0e14\\u0e37\\u0e2d\\u0e19 \\u0e01.\\u0e1e. 2563 \\u0e1a\\u0e32\\u0e07\\u0e2a\\u0e48\\u0e27\\u0e19\\u0e41\\u0e25\\u0e49\\u0e27\\r\\n3. \\u0e2b\\u0e32\\u0e01\\u0e1c\\u0e39\\u0e49\\u0e43\\u0e0a\\u0e49\\u0e44\\u0e1f\\u0e1f\\u0e49\\u0e32\\u0e17\\u0e35\\u0e48\\u0e0a\\u0e33\\u0e23\\u0e30\\u0e04\\u0e48\\u0e32\\u0e44\\u0e1f\\u0e1f\\u0e49\\u0e32\\u0e02\\u0e2d\\u0e07\\u0e40\\u0e14\\u0e37\\u0e2d\\u0e19\\u0e01\\u0e48\\u0e2d\\u0e19\\u0e04\\u0e48\\u0e32\\u0e44\\u0e1f\\u0e1f\\u0e49\\u0e32\\u0e1b\\u0e23\\u0e30\\u0e08\\u0e33\\u0e40\\u0e14\\u0e37\\u0e2d\\u0e19 \\u0e01.\\u0e1e. 2563 \\u0e1c\\u0e48\\u0e32\\u0e19 Application \\u0e2b\\u0e31\\u0e01\\u0e1a\\u0e31\\u0e0d\\u0e0a\\u0e35\\u0e18\\u0e19\\u0e32\\u0e04\\u0e32\\u0e23 \\u0e2b\\u0e31\\u0e01\\u0e1a\\u0e31\\u0e0d\\u0e0a\\u0e35\\u0e1a\\u0e31\\u0e15\\u0e23\\u0e40\\u0e04\\u0e23\\u0e14\\u0e34\\u0e15 \\u0e1c\\u0e39\\u0e49\\u0e43\\u0e0a\\u0e49\\u0e44\\u0e1f\\u0e1f\\u0e49\\u0e32 \\u0e08\\u0e30\\u0e44\\u0e14\\u0e49\\u0e23\\u0e31\\u0e1a\\u0e43\\u0e1a\\u0e40\\u0e2a\\u0e23\\u0e47\\u0e08\\u0e23\\u0e31\\u0e1a\\u0e40\\u0e07\\u0e34\\u0e19\\u0e04\\u0e48\\u0e32\\u0e44\\u0e1f\\u0e1f\\u0e49\\u0e32/\\u0e43\\u0e1a\\u0e01\\u0e33\\u0e01\\u0e31\\u0e1a\\u0e20\\u0e32\\u0e29\\u0e35\\u0e02\\u0e2d\\u0e07\\u0e04\\u0e48\\u0e32\\u0e44\\u0e1f\\u0e1f\\u0e49\\u0e32\\u0e40\\u0e14\\u0e37\\u0e2d\\u0e19\\u0e17\\u0e35\\u0e48\\u0e0a\\u0e33\\u0e23\\u0e30\\u0e01\\u0e48\\u0e2d\\u0e19\\u0e2b\\u0e19\\u0e49\\u0e32\\u0e40\\u0e1e\\u0e34\\u0e48\\u0e21\\u0e2d\\u0e35\\u0e01 1 \\u0e09\\u0e1a\\u0e31\\u0e1a\",\n          \"\\u0e27\\u0e31\\u0e19\\u0e19\\u0e35\\u0e49 (17 \\u0e40\\u0e21.\\u0e22.) \\u0e28\\u0e39\\u0e19\\u0e22\\u0e4c\\u0e15\\u0e48\\u0e2d\\u0e15\\u0e49\\u0e32\\u0e19\\u0e02\\u0e48\\u0e32\\u0e27\\u0e1b\\u0e25\\u0e2d\\u0e21 \\u0e1b\\u0e23\\u0e30\\u0e40\\u0e17\\u0e28\\u0e44\\u0e17\\u0e22 \\u0e40\\u0e1b\\u0e34\\u0e14\\u0e40\\u0e1c\\u0e22\\u0e27\\u0e48\\u0e32 \\u0e15\\u0e32\\u0e21\\u0e17\\u0e35\\u0e48\\u0e44\\u0e14\\u0e49\\u0e21\\u0e35\\u0e02\\u0e48\\u0e32\\u0e27\\u0e1b\\u0e23\\u0e32\\u0e01\\u0e0f\\u0e43\\u0e19\\u0e2a\\u0e37\\u0e48\\u0e2d\\u0e15\\u0e48\\u0e32\\u0e07 \\u0e46 \\u0e40\\u0e01\\u0e35\\u0e48\\u0e22\\u0e27\\u0e01\\u0e31\\u0e1a\\u0e1b\\u0e23\\u0e30\\u0e40\\u0e14\\u0e47\\u0e19\\u0e40\\u0e23\\u0e37\\u0e48\\u0e2d\\u0e07\\u0e04\\u0e23\\u0e21. \\u0e2d\\u0e19\\u0e38\\u0e21\\u0e31\\u0e15\\u0e34 \\u0e17\\u0e17\\u0e17. \\u0e02\\u0e22\\u0e32\\u0e22\\u0e40\\u0e27\\u0e25\\u0e32\\u0e14\\u0e33\\u0e40\\u0e19\\u0e34\\u0e19\\u0e42\\u0e04\\u0e23\\u0e07\\u0e01\\u0e32\\u0e23 Thailand Festival Experience \\u0e17\\u0e32\\u0e07\\u0e28\\u0e39\\u0e19\\u0e22\\u0e4c\\u0e15\\u0e48\\u0e2d\\u0e15\\u0e49\\u0e32\\u0e19\\u0e02\\u0e48\\u0e32\\u0e27\\u0e1b\\u0e25\\u0e2d\\u0e21\\u0e44\\u0e14\\u0e49\\u0e15\\u0e23\\u0e27\\u0e08\\u0e2a\\u0e2d\\u0e1a\\u0e02\\u0e49\\u0e2d\\u0e40\\u0e17\\u0e47\\u0e08\\u0e08\\u0e23\\u0e34\\u0e07\\u0e42\\u0e14\\u0e22\\u0e01\\u0e23\\u0e21\\u0e1b\\u0e23\\u0e30\\u0e0a\\u0e32\\u0e2a\\u0e31\\u0e21\\u0e1e\\u0e31\\u0e19\\u0e18\\u0e4c \\u0e2a\\u0e33\\u0e19\\u0e31\\u0e01\\u0e19\\u0e32\\u0e22\\u0e01\\u0e23\\u0e31\\u0e10\\u0e21\\u0e19\\u0e15\\u0e23\\u0e35 \\u0e1e\\u0e1a\\u0e27\\u0e48\\u0e32\\u0e02\\u0e49\\u0e2d\\u0e21\\u0e39\\u0e25\\u0e14\\u0e31\\u0e07\\u0e01\\u0e25\\u0e48\\u0e32\\u0e27 \\u0e40\\u0e1b\\u0e47\\u0e19\\u0e02\\u0e49\\u0e2d\\u0e21\\u0e39\\u0e25\\u0e08\\u0e23\\u0e34\\u0e07\\r\\n\\r\\n\\u0e04\\u0e23\\u0e21. \\u0e44\\u0e14\\u0e49\\u0e2d\\u0e19\\u0e38\\u0e21\\u0e31\\u0e15\\u0e34\\u0e43\\u0e2b\\u0e49\\u0e01\\u0e32\\u0e23\\u0e17\\u0e48\\u0e2d\\u0e07\\u0e40\\u0e17\\u0e35\\u0e48\\u0e22\\u0e27\\u0e41\\u0e2b\\u0e48\\u0e07\\u0e1b\\u0e23\\u0e30\\u0e40\\u0e17\\u0e28\\u0e44\\u0e17\\u0e22 \\u0e01\\u0e23\\u0e30\\u0e17\\u0e23\\u0e27\\u0e07\\u0e01\\u0e32\\u0e23\\u0e17\\u0e48\\u0e2d\\u0e07\\u0e40\\u0e17\\u0e35\\u0e48\\u0e22\\u0e27\\u0e41\\u0e25\\u0e30\\u0e01\\u0e35\\u0e2c\\u0e32\\u0e40\\u0e1b\\u0e25\\u0e35\\u0e48\\u0e22\\u0e19\\u0e41\\u0e1b\\u0e25\\u0e07\\u0e23\\u0e32\\u0e22\\u0e25\\u0e30\\u0e40\\u0e2d\\u0e35\\u0e22\\u0e14\\u0e17\\u0e35\\u0e48\\u0e40\\u0e1b\\u0e47\\u0e19\\u0e2a\\u0e32\\u0e23\\u0e30\\u0e2a\\u0e33\\u0e04\\u0e31\\u0e0d\\u0e02\\u0e2d\\u0e07\\u0e42\\u0e04\\u0e23\\u0e07\\u0e01\\u0e32\\u0e23 Thailand Festival Experience \\u0e43\\u0e19 3 \\u0e42\\u0e04\\u0e23\\u0e07\\u0e01\\u0e32\\u0e23\\u0e22\\u0e48\\u0e2d\\u0e22 \\u0e42\\u0e14\\u0e22\\u0e43\\u0e2b\\u0e49\\u0e02\\u0e22\\u0e32\\u0e22\\u0e23\\u0e30\\u0e22\\u0e30\\u0e40\\u0e27\\u0e25\\u0e32\\u0e42\\u0e04\\u0e23\\u0e07\\u0e01\\u0e32\\u0e23\\u0e08\\u0e32\\u0e01\\u0e40\\u0e14\\u0e34\\u0e21\\u0e17\\u0e35\\u0e48\\u0e2a\\u0e34\\u0e49\\u0e19\\u0e2a\\u0e38\\u0e14\\u0e40\\u0e14\\u0e37\\u0e2d\\u0e19\\u0e40\\u0e14\\u0e37\\u0e2d\\u0e19 \\u0e40\\u0e21.\\u0e22. 2565 \\u0e40\\u0e1b\\u0e47\\u0e19\\u0e2a\\u0e34\\u0e49\\u0e19\\u0e2a\\u0e38\\u0e14\\u0e40\\u0e14\\u0e37\\u0e2d\\u0e19 \\u0e01.\\u0e04. 2565 \\u0e1e\\u0e23\\u0e49\\u0e2d\\u0e21\\u0e01\\u0e31\\u0e1a\\u0e40\\u0e1b\\u0e25\\u0e35\\u0e48\\u0e22\\u0e19\\u0e41\\u0e1b\\u0e25\\u0e07\\u0e1e\\u0e37\\u0e49\\u0e19\\u0e17\\u0e35\\u0e48\\u0e01\\u0e32\\u0e23\\u0e08\\u0e31\\u0e14\\u0e07\\u0e32\\u0e19\\u0e43\\u0e19\\u0e41\\u0e15\\u0e48\\u0e25\\u0e30\\u0e01\\u0e34\\u0e08\\u0e01\\u0e23\\u0e23\\u0e21\\u0e43\\u0e2b\\u0e49\\u0e04\\u0e23\\u0e2d\\u0e1a\\u0e04\\u0e25\\u0e38\\u0e21\\u0e40\\u0e21\\u0e37\\u0e2d\\u0e07\\u0e2b\\u0e25\\u0e31\\u0e01\\u0e17\\u0e32\\u0e07\\u0e01\\u0e32\\u0e23\\u0e17\\u0e48\\u0e2d\\u0e07\\u0e40\\u0e17\\u0e35\\u0e48\\u0e22\\u0e27\\u0e1b\\u0e23\\u0e30\\u0e40\\u0e17\\u0e28 \\u0e23\\u0e27\\u0e21\\u0e16\\u0e36\\u0e07\\u0e40\\u0e1b\\u0e25\\u0e35\\u0e48\\u0e22\\u0e19\\u0e41\\u0e1b\\u0e25\\u0e07\\u0e0a\\u0e37\\u0e48\\u0e2d\\u0e42\\u0e04\\u0e23\\u0e07\\u0e01\\u0e32\\u0e23\\u0e41\\u0e25\\u0e30\\u0e01\\u0e34\\u0e08\\u0e01\\u0e23\\u0e23\\u0e21\\u0e20\\u0e32\\u0e22\\u0e43\\u0e15\\u0e49\\u0e42\\u0e04\\u0e23\\u0e07\\u0e01\\u0e32\\u0e23\\u0e22\\u0e48\\u0e2d\\u0e22 3 \\u0e42\\u0e04\\u0e23\\u0e07\\u0e01\\u0e32\\u0e23 \\u0e1b\\u0e23\\u0e30\\u0e01\\u0e2d\\u0e1a\\u0e14\\u0e49\\u0e27\\u0e22\\r\\n\\r\\n1.\\u0e42\\u0e04\\u0e23\\u0e07\\u0e01\\u0e32\\u0e23 Dazzling of The Andaman \\u0e40\\u0e1b\\u0e25\\u0e35\\u0e48\\u0e22\\u0e19\\u0e0a\\u0e37\\u0e48\\u0e2d\\u0e40\\u0e1b\\u0e47\\u0e19 Dazzling of the Art\\r\\n\\r\\n2.\\u0e42\\u0e04\\u0e23\\u0e07\\u0e01\\u0e32\\u0e23 Music Festival & Rhythm in Memory \\u0e40\\u0e1b\\u0e25\\u0e35\\u0e48\\u0e22\\u0e19\\u0e0a\\u0e37\\u0e48\\u0e2d\\u0e01\\u0e34\\u0e08\\u0e01\\u0e23\\u0e23\\u0e21\\u0e22\\u0e48\\u0e2d\\u0e22 Beach music festival \\u0e40\\u0e1b\\u0e47\\u0e19 Music Heritage festival\\r\\n\\r\\n3.\\u0e42\\u0e04\\u0e23\\u0e07\\u0e01\\u0e32\\u0e23 Music Festival & Rhythm in Memory \\u0e40\\u0e1b\\u0e25\\u0e35\\u0e48\\u0e22\\u0e19\\u0e0a\\u0e37\\u0e48\\u0e2d\\u0e01\\u0e34\\u0e08\\u0e01\\u0e23\\u0e23\\u0e21\\u0e22\\u0e48\\u0e2d\\u0e22 Rock on the Boat Music Festival \\u0e40\\u0e1b\\u0e47\\u0e19 Rock on the Beach Music Festival\\r\\n\"\n        ],\n        \"semantic_type\": \"\",\n        \"description\": \"\"\n      }\n    },\n    {\n      \"column\": \"class\",\n      \"properties\": {\n        \"dtype\": \"number\",\n        \"std\": 0,\n        \"min\": 0,\n        \"max\": 1,\n        \"num_unique_values\": 2,\n        \"samples\": [\n          1,\n          0\n        ],\n        \"semantic_type\": \"\",\n        \"description\": \"\"\n      }\n    }\n  ]\n}"
            }
          },
          "metadata": {},
          "execution_count": 42
        }
      ]
    },
    {
      "cell_type": "code",
      "source": [
        "df_drop.to_csv(\"df_drop.csv\")"
      ],
      "metadata": {
        "id": "UkDU5cP80XfM"
      },
      "execution_count": 68,
      "outputs": []
    },
    {
      "source": [
        "# @title class\n",
        "\n",
        "from matplotlib import pyplot as plt\n",
        "df_drop['class'].plot(kind='hist', bins=20, title='class')\n",
        "plt.gca().spines[['top', 'right',]].set_visible(False)"
      ],
      "cell_type": "code",
      "execution_count": 53,
      "outputs": [
        {
          "output_type": "display_data",
          "data": {
            "text/plain": [
              "<Figure size 640x480 with 1 Axes>"
            ],
            "image/png": "[encoded data removed]"
          },
          "metadata": {}
        }
      ],
      "metadata": {
        "colab": {
          "base_uri": "https://localhost:8080/",
          "height": 452
        },
        "id": "8SrV13-YwMic",
        "outputId": "87c40c8c-e8ff-47dd-fb7c-4403bd64d459"
      }
    },
    {
      "cell_type": "markdown",
      "source": [
        "# ส่วนใหม่"
      ],
      "metadata": {
        "id": "76rbgdfFzEj9"
      }
    },
    {
      "cell_type": "code",
      "source": [
        "def sent2idx(x):\n",
        "  xidx = []\n",
        "  for w in tokenize(x):\n",
        "    if w in vocab:\n",
        "      xidx.append(vocab.index(w))\n",
        "  return np.array(xidx)"
      ],
      "metadata": {
        "id": "ibrq6zz8vVya"
      },
      "execution_count": 54,
      "outputs": []
    },
    {
      "cell_type": "code",
      "source": [
        "Xtrain_idx = []\n",
        "maxlen = 0\n",
        "for x in Xtrain:\n",
        "  Xtrain_idx.append(sent2idx(x))\n",
        "  if len(Xtrain_idx[-1]) > maxlen:\n",
        "    maxlen = len(Xtrain_idx[-1])\n",
        "  print(len(Xtrain_idx[-1]))"
      ],
      "metadata": {
        "colab": {
          "base_uri": "https://localhost:8080/"
        },
        "id": "3b3i-ApcvnPC",
        "outputId": "6f286bd1-8d22-4dc8-8058-1382fad18446"
      },
      "execution_count": 47,
      "outputs": [
        {
          "output_type": "stream",
          "name": "stdout",
          "text": [
            "0\n",
            "0\n",
            "0\n",
            "0\n",
            "0\n",
            "0\n"
          ]
        }
      ]
    },
    {
      "cell_type": "code",
      "source": [
        "print(maxlen)"
      ],
      "metadata": {
        "colab": {
          "base_uri": "https://localhost:8080/"
        },
        "id": "SYu1mq9cvqao",
        "outputId": "aff9d111-cb30-46ed-cc32-924edb0bf5ab"
      },
      "execution_count": 48,
      "outputs": [
        {
          "output_type": "stream",
          "name": "stdout",
          "text": [
            "0\n"
          ]
        }
      ]
    },
    {
      "cell_type": "code",
      "source": [
        "vocab[0]"
      ],
      "metadata": {
        "colab": {
          "base_uri": "https://localhost:8080/",
          "height": 35
        },
        "id": "mxrDq9wwv6NI",
        "outputId": "7415d8d5-38b4-4824-e3bb-5a033122d6b6"
      },
      "execution_count": 49,
      "outputs": [
        {
          "output_type": "execute_result",
          "data": {
            "text/plain": [
              "'ที่'"
            ],
            "application/vnd.google.colaboratory.intrinsic+json": {
              "type": "string"
            }
          },
          "metadata": {},
          "execution_count": 49
        }
      ]
    },
    {
      "cell_type": "code",
      "source": [
        "vocab = [''] + vocab\n",
        "print(len(vocab))"
      ],
      "metadata": {
        "colab": {
          "base_uri": "https://localhost:8080/"
        },
        "id": "eRUylCKTv7v4",
        "outputId": "2bb0de41-c8a0-42c1-c314-a4726bff2963"
      },
      "execution_count": 50,
      "outputs": [
        {
          "output_type": "stream",
          "name": "stdout",
          "text": [
            "30226\n"
          ]
        }
      ]
    },
    {
      "cell_type": "code",
      "source": [
        "vocab[0]"
      ],
      "metadata": {
        "colab": {
          "base_uri": "https://localhost:8080/",
          "height": 35
        },
        "id": "4s42626kv-Ly",
        "outputId": "2b04ecbb-aadb-4cf0-ccdc-adc38297817b"
      },
      "execution_count": 51,
      "outputs": [
        {
          "output_type": "execute_result",
          "data": {
            "text/plain": [
              "''"
            ],
            "application/vnd.google.colaboratory.intrinsic+json": {
              "type": "string"
            }
          },
          "metadata": {},
          "execution_count": 51
        }
      ]
    },
    {
      "cell_type": "code",
      "source": [
        "!pip install sklearn_crfsuite\n",
        "!pip install emoji\n",
        "!pip install https://github.com/PyThaiNLP/pythainlp/archive/dev.zip\n",
        "!pip install fastai\n",
        "!wget https://github.com/PyThaiNLP/wisesight-sentiment/archive/master.zip\n",
        "!unzip master.zip\n",
        "!mkdir wisesight_data; ls\n",
        "!cd wisesight-sentiment-master/kaggle-competition; ls"
      ],
      "metadata": {
        "colab": {
          "base_uri": "https://localhost:8080/"
        },
        "id": "FwvZ97Fgv_z2",
        "outputId": "1134c14f-e3a8-4459-88a0-fbc206a6c79e"
      },
      "execution_count": 55,
      "outputs": [
        {
          "output_type": "stream",
          "name": "stdout",
          "text": [
            "Collecting sklearn_crfsuite\n",
            "  Downloading sklearn_crfsuite-0.3.6-py2.py3-none-any.whl (12 kB)\n",
            "Requirement already satisfied: python-crfsuite>=0.8.3 in /usr/local/lib/python3.10/dist-packages (from sklearn_crfsuite) (0.9.10)\n",
            "Requirement already satisfied: six in /usr/local/lib/python3.10/dist-packages (from sklearn_crfsuite) (1.16.0)\n",
            "Requirement already satisfied: tabulate in /usr/local/lib/python3.10/dist-packages (from sklearn_crfsuite) (0.9.0)\n",
            "Requirement already satisfied: tqdm>=2.0 in /usr/local/lib/python3.10/dist-packages (from sklearn_crfsuite) (4.66.4)\n",
            "Installing collected packages: sklearn_crfsuite\n",
            "Successfully installed sklearn_crfsuite-0.3.6\n",
            "Collecting emoji\n",
            "  Downloading emoji-2.11.1-py2.py3-none-any.whl (433 kB)\n",
            "\u001b[2K     \u001b[90m━━━━━━━━━━━━━━━━━━━━━━━━━━━━━━━━━━━━━━━━\u001b[0m \u001b[32m433.8/433.8 kB\u001b[0m \u001b[31m11.0 MB/s\u001b[0m eta \u001b[36m0:00:00\u001b[0m\n",
            "\u001b[?25hInstalling collected packages: emoji\n",
            "Successfully installed emoji-2.11.1\n",
            "Collecting https://github.com/PyThaiNLP/pythainlp/archive/dev.zip\n",
            "  Downloading https://github.com/PyThaiNLP/pythainlp/archive/dev.zip\n",
            "\u001b[2K     \u001b[32m-\u001b[0m \u001b[32m23.4 MB\u001b[0m \u001b[31m3.4 MB/s\u001b[0m \u001b[33m0:00:05\u001b[0m\n",
            "\u001b[?25h  Installing build dependencies ... \u001b[?25l\u001b[?25hdone\n",
            "  Getting requirements to build wheel ... \u001b[?25l\u001b[?25hdone\n",
            "  Preparing metadata (pyproject.toml) ... \u001b[?25l\u001b[?25hdone\n",
            "Requirement already satisfied: requests>=2.22.0 in /usr/local/lib/python3.10/dist-packages (from pythainlp==5.0.2) (2.31.0)\n",
            "Requirement already satisfied: charset-normalizer<4,>=2 in /usr/local/lib/python3.10/dist-packages (from requests>=2.22.0->pythainlp==5.0.2) (3.3.2)\n",
            "Requirement already satisfied: idna<4,>=2.5 in /usr/local/lib/python3.10/dist-packages (from requests>=2.22.0->pythainlp==5.0.2) (3.7)\n",
            "Requirement already satisfied: urllib3<3,>=1.21.1 in /usr/local/lib/python3.10/dist-packages (from requests>=2.22.0->pythainlp==5.0.2) (2.0.7)\n",
            "Requirement already satisfied: certifi>=2017.4.17 in /usr/local/lib/python3.10/dist-packages (from requests>=2.22.0->pythainlp==5.0.2) (2024.2.2)\n",
            "Requirement already satisfied: fastai in /usr/local/lib/python3.10/dist-packages (2.7.15)\n",
            "Requirement already satisfied: pip in /usr/local/lib/python3.10/dist-packages (from fastai) (23.1.2)\n",
            "Requirement already satisfied: packaging in /usr/local/lib/python3.10/dist-packages (from fastai) (24.0)\n",
            "Requirement already satisfied: fastdownload<2,>=0.0.5 in /usr/local/lib/python3.10/dist-packages (from fastai) (0.0.7)\n",
            "Requirement already satisfied: fastcore<1.6,>=1.5.29 in /usr/local/lib/python3.10/dist-packages (from fastai) (1.5.33)\n",
            "Requirement already satisfied: torchvision>=0.11 in /usr/local/lib/python3.10/dist-packages (from fastai) (0.17.1+cu121)\n",
            "Requirement already satisfied: matplotlib in /usr/local/lib/python3.10/dist-packages (from fastai) (3.7.1)\n",
            "Requirement already satisfied: pandas in /usr/local/lib/python3.10/dist-packages (from fastai) (2.0.3)\n",
            "Requirement already satisfied: requests in /usr/local/lib/python3.10/dist-packages (from fastai) (2.31.0)\n",
            "Requirement already satisfied: pyyaml in /usr/local/lib/python3.10/dist-packages (from fastai) (6.0.1)\n",
            "Requirement already satisfied: fastprogress>=0.2.4 in /usr/local/lib/python3.10/dist-packages (from fastai) (1.0.3)\n",
            "Requirement already satisfied: pillow>=9.0.0 in /usr/local/lib/python3.10/dist-packages (from fastai) (9.4.0)\n",
            "Requirement already satisfied: scikit-learn in /usr/local/lib/python3.10/dist-packages (from fastai) (1.2.2)\n",
            "Requirement already satisfied: scipy in /usr/local/lib/python3.10/dist-packages (from fastai) (1.11.4)\n",
            "Requirement already satisfied: spacy<4 in /usr/local/lib/python3.10/dist-packages (from fastai) (3.7.4)\n",
            "Requirement already satisfied: torch<2.4,>=1.10 in /usr/local/lib/python3.10/dist-packages (from fastai) (2.2.1+cu121)\n",
            "Requirement already satisfied: spacy-legacy<3.1.0,>=3.0.11 in /usr/local/lib/python3.10/dist-packages (from spacy<4->fastai) (3.0.12)\n",
            "Requirement already satisfied: spacy-loggers<2.0.0,>=1.0.0 in /usr/local/lib/python3.10/dist-packages (from spacy<4->fastai) (1.0.5)\n",
            "Requirement already satisfied: murmurhash<1.1.0,>=0.28.0 in /usr/local/lib/python3.10/dist-packages (from spacy<4->fastai) (1.0.10)\n",
            "Requirement already satisfied: cymem<2.1.0,>=2.0.2 in /usr/local/lib/python3.10/dist-packages (from spacy<4->fastai) (2.0.8)\n",
            "Requirement already satisfied: preshed<3.1.0,>=3.0.2 in /usr/local/lib/python3.10/dist-packages (from spacy<4->fastai) (3.0.9)\n",
            "Requirement already satisfied: thinc<8.3.0,>=8.2.2 in /usr/local/lib/python3.10/dist-packages (from spacy<4->fastai) (8.2.3)\n",
            "Requirement already satisfied: wasabi<1.2.0,>=0.9.1 in /usr/local/lib/python3.10/dist-packages (from spacy<4->fastai) (1.1.2)\n",
            "Requirement already satisfied: srsly<3.0.0,>=2.4.3 in /usr/local/lib/python3.10/dist-packages (from spacy<4->fastai) (2.4.8)\n",
            "Requirement already satisfied: catalogue<2.1.0,>=2.0.6 in /usr/local/lib/python3.10/dist-packages (from spacy<4->fastai) (2.0.10)\n",
            "Requirement already satisfied: weasel<0.4.0,>=0.1.0 in /usr/local/lib/python3.10/dist-packages (from spacy<4->fastai) (0.3.4)\n",
            "Requirement already satisfied: typer<0.10.0,>=0.3.0 in /usr/local/lib/python3.10/dist-packages (from spacy<4->fastai) (0.9.4)\n",
            "Requirement already satisfied: smart-open<7.0.0,>=5.2.1 in /usr/local/lib/python3.10/dist-packages (from spacy<4->fastai) (6.4.0)\n",
            "Requirement already satisfied: tqdm<5.0.0,>=4.38.0 in /usr/local/lib/python3.10/dist-packages (from spacy<4->fastai) (4.66.4)\n",
            "Requirement already satisfied: pydantic!=1.8,!=1.8.1,<3.0.0,>=1.7.4 in /usr/local/lib/python3.10/dist-packages (from spacy<4->fastai) (2.7.1)\n",
            "Requirement already satisfied: jinja2 in /usr/local/lib/python3.10/dist-packages (from spacy<4->fastai) (3.1.3)\n",
            "Requirement already satisfied: setuptools in /usr/local/lib/python3.10/dist-packages (from spacy<4->fastai) (67.7.2)\n",
            "Requirement already satisfied: langcodes<4.0.0,>=3.2.0 in /usr/local/lib/python3.10/dist-packages (from spacy<4->fastai) (3.4.0)\n",
            "Requirement already satisfied: numpy>=1.19.0 in /usr/local/lib/python3.10/dist-packages (from spacy<4->fastai) (1.25.2)\n",
            "Requirement already satisfied: charset-normalizer<4,>=2 in /usr/local/lib/python3.10/dist-packages (from requests->fastai) (3.3.2)\n",
            "Requirement already satisfied: idna<4,>=2.5 in /usr/local/lib/python3.10/dist-packages (from requests->fastai) (3.7)\n",
            "Requirement already satisfied: urllib3<3,>=1.21.1 in /usr/local/lib/python3.10/dist-packages (from requests->fastai) (2.0.7)\n",
            "Requirement already satisfied: certifi>=2017.4.17 in /usr/local/lib/python3.10/dist-packages (from requests->fastai) (2024.2.2)\n",
            "Requirement already satisfied: filelock in /usr/local/lib/python3.10/dist-packages (from torch<2.4,>=1.10->fastai) (3.14.0)\n",
            "Requirement already satisfied: typing-extensions>=4.8.0 in /usr/local/lib/python3.10/dist-packages (from torch<2.4,>=1.10->fastai) (4.11.0)\n",
            "Requirement already satisfied: sympy in /usr/local/lib/python3.10/dist-packages (from torch<2.4,>=1.10->fastai) (1.12)\n",
            "Requirement already satisfied: networkx in /usr/local/lib/python3.10/dist-packages (from torch<2.4,>=1.10->fastai) (3.3)\n",
            "Requirement already satisfied: fsspec in /usr/local/lib/python3.10/dist-packages (from torch<2.4,>=1.10->fastai) (2023.6.0)\n",
            "Requirement already satisfied: nvidia-cuda-nvrtc-cu12==12.1.105 in /usr/local/lib/python3.10/dist-packages (from torch<2.4,>=1.10->fastai) (12.1.105)\n",
            "Requirement already satisfied: nvidia-cuda-runtime-cu12==12.1.105 in /usr/local/lib/python3.10/dist-packages (from torch<2.4,>=1.10->fastai) (12.1.105)\n",
            "Requirement already satisfied: nvidia-cuda-cupti-cu12==12.1.105 in /usr/local/lib/python3.10/dist-packages (from torch<2.4,>=1.10->fastai) (12.1.105)\n",
            "Requirement already satisfied: nvidia-cudnn-cu12==8.9.2.26 in /usr/local/lib/python3.10/dist-packages (from torch<2.4,>=1.10->fastai) (8.9.2.26)\n",
            "Requirement already satisfied: nvidia-cublas-cu12==12.1.3.1 in /usr/local/lib/python3.10/dist-packages (from torch<2.4,>=1.10->fastai) (12.1.3.1)\n",
            "Requirement already satisfied: nvidia-cufft-cu12==11.0.2.54 in /usr/local/lib/python3.10/dist-packages (from torch<2.4,>=1.10->fastai) (11.0.2.54)\n",
            "Requirement already satisfied: nvidia-curand-cu12==10.3.2.106 in /usr/local/lib/python3.10/dist-packages (from torch<2.4,>=1.10->fastai) (10.3.2.106)\n",
            "Requirement already satisfied: nvidia-cusolver-cu12==11.4.5.107 in /usr/local/lib/python3.10/dist-packages (from torch<2.4,>=1.10->fastai) (11.4.5.107)\n",
            "Requirement already satisfied: nvidia-cusparse-cu12==12.1.0.106 in /usr/local/lib/python3.10/dist-packages (from torch<2.4,>=1.10->fastai) (12.1.0.106)\n",
            "Requirement already satisfied: nvidia-nccl-cu12==2.19.3 in /usr/local/lib/python3.10/dist-packages (from torch<2.4,>=1.10->fastai) (2.19.3)\n",
            "Requirement already satisfied: nvidia-nvtx-cu12==12.1.105 in /usr/local/lib/python3.10/dist-packages (from torch<2.4,>=1.10->fastai) (12.1.105)\n",
            "Requirement already satisfied: triton==2.2.0 in /usr/local/lib/python3.10/dist-packages (from torch<2.4,>=1.10->fastai) (2.2.0)\n",
            "Requirement already satisfied: nvidia-nvjitlink-cu12 in /usr/local/lib/python3.10/dist-packages (from nvidia-cusolver-cu12==11.4.5.107->torch<2.4,>=1.10->fastai) (12.4.127)\n",
            "Requirement already satisfied: contourpy>=1.0.1 in /usr/local/lib/python3.10/dist-packages (from matplotlib->fastai) (1.2.1)\n",
            "Requirement already satisfied: cycler>=0.10 in /usr/local/lib/python3.10/dist-packages (from matplotlib->fastai) (0.12.1)\n",
            "Requirement already satisfied: fonttools>=4.22.0 in /usr/local/lib/python3.10/dist-packages (from matplotlib->fastai) (4.51.0)\n",
            "Requirement already satisfied: kiwisolver>=1.0.1 in /usr/local/lib/python3.10/dist-packages (from matplotlib->fastai) (1.4.5)\n",
            "Requirement already satisfied: pyparsing>=2.3.1 in /usr/local/lib/python3.10/dist-packages (from matplotlib->fastai) (3.1.2)\n",
            "Requirement already satisfied: python-dateutil>=2.7 in /usr/local/lib/python3.10/dist-packages (from matplotlib->fastai) (2.8.2)\n",
            "Requirement already satisfied: pytz>=2020.1 in /usr/local/lib/python3.10/dist-packages (from pandas->fastai) (2023.4)\n",
            "Requirement already satisfied: tzdata>=2022.1 in /usr/local/lib/python3.10/dist-packages (from pandas->fastai) (2024.1)\n",
            "Requirement already satisfied: joblib>=1.1.1 in /usr/local/lib/python3.10/dist-packages (from scikit-learn->fastai) (1.4.2)\n",
            "Requirement already satisfied: threadpoolctl>=2.0.0 in /usr/local/lib/python3.10/dist-packages (from scikit-learn->fastai) (3.5.0)\n",
            "Requirement already satisfied: language-data>=1.2 in /usr/local/lib/python3.10/dist-packages (from langcodes<4.0.0,>=3.2.0->spacy<4->fastai) (1.2.0)\n",
            "Requirement already satisfied: annotated-types>=0.4.0 in /usr/local/lib/python3.10/dist-packages (from pydantic!=1.8,!=1.8.1,<3.0.0,>=1.7.4->spacy<4->fastai) (0.6.0)\n",
            "Requirement already satisfied: pydantic-core==2.18.2 in /usr/local/lib/python3.10/dist-packages (from pydantic!=1.8,!=1.8.1,<3.0.0,>=1.7.4->spacy<4->fastai) (2.18.2)\n",
            "Requirement already satisfied: six>=1.5 in /usr/local/lib/python3.10/dist-packages (from python-dateutil>=2.7->matplotlib->fastai) (1.16.0)\n",
            "Requirement already satisfied: blis<0.8.0,>=0.7.8 in /usr/local/lib/python3.10/dist-packages (from thinc<8.3.0,>=8.2.2->spacy<4->fastai) (0.7.11)\n",
            "Requirement already satisfied: confection<1.0.0,>=0.0.1 in /usr/local/lib/python3.10/dist-packages (from thinc<8.3.0,>=8.2.2->spacy<4->fastai) (0.1.4)\n",
            "Requirement already satisfied: click<9.0.0,>=7.1.1 in /usr/local/lib/python3.10/dist-packages (from typer<0.10.0,>=0.3.0->spacy<4->fastai) (8.1.7)\n",
            "Requirement already satisfied: cloudpathlib<0.17.0,>=0.7.0 in /usr/local/lib/python3.10/dist-packages (from weasel<0.4.0,>=0.1.0->spacy<4->fastai) (0.16.0)\n",
            "Requirement already satisfied: MarkupSafe>=2.0 in /usr/local/lib/python3.10/dist-packages (from jinja2->spacy<4->fastai) (2.1.5)\n",
            "Requirement already satisfied: mpmath>=0.19 in /usr/local/lib/python3.10/dist-packages (from sympy->torch<2.4,>=1.10->fastai) (1.3.0)\n",
            "Requirement already satisfied: marisa-trie>=0.7.7 in /usr/local/lib/python3.10/dist-packages (from language-data>=1.2->langcodes<4.0.0,>=3.2.0->spacy<4->fastai) (1.1.0)\n",
            "--2024-05-08 15:16:40--  https://github.com/PyThaiNLP/wisesight-sentiment/archive/master.zip\n",
            "Resolving github.com (github.com)... 140.82.114.4\n",
            "Connecting to github.com (github.com)|140.82.114.4|:443... connected.\n",
            "HTTP request sent, awaiting response... 302 Found\n",
            "Location: https://codeload.github.com/PyThaiNLP/wisesight-sentiment/zip/refs/heads/master [following]\n",
            "--2024-05-08 15:16:40--  https://codeload.github.com/PyThaiNLP/wisesight-sentiment/zip/refs/heads/master\n",
            "Resolving codeload.github.com (codeload.github.com)... 140.82.112.9\n",
            "Connecting to codeload.github.com (codeload.github.com)|140.82.112.9|:443... connected.\n",
            "HTTP request sent, awaiting response... 200 OK\n",
            "Length: unspecified [application/zip]\n",
            "Saving to: ‘master.zip’\n",
            "\n",
            "master.zip              [     <=>            ]   6.07M  3.91MB/s    in 1.6s    \n",
            "\n",
            "2024-05-08 15:16:42 (3.91 MB/s) - ‘master.zip’ saved [6365495]\n",
            "\n",
            "Archive:  master.zip\n",
            "66eb261de09f88e842ae57bee0b8471ae2c30c1f\n",
            "   creating: wisesight-sentiment-master/\n",
            "  inflating: wisesight-sentiment-master/.gitignore  \n",
            "  inflating: wisesight-sentiment-master/LICENSE  \n",
            "  inflating: wisesight-sentiment-master/README.md  \n",
            "  inflating: wisesight-sentiment-master/exploration.ipynb  \n",
            "   creating: wisesight-sentiment-master/huggingface/\n",
            " extracting: wisesight-sentiment-master/huggingface/data.zip  \n",
            "  inflating: wisesight-sentiment-master/huggingface/process_huggingface.ipynb  \n",
            "   creating: wisesight-sentiment-master/kaggle-competition/\n",
            "  inflating: wisesight-sentiment-master/kaggle-competition/README.md  \n",
            "  inflating: wisesight-sentiment-master/kaggle-competition/competition.ipynb  \n",
            "  inflating: wisesight-sentiment-master/kaggle-competition/test.txt  \n",
            "  inflating: wisesight-sentiment-master/kaggle-competition/test_label.txt  \n",
            "  inflating: wisesight-sentiment-master/kaggle-competition/test_majority.csv  \n",
            "  inflating: wisesight-sentiment-master/kaggle-competition/test_solution.csv  \n",
            "  inflating: wisesight-sentiment-master/kaggle-competition/text_generation.ipynb  \n",
            "  inflating: wisesight-sentiment-master/kaggle-competition/train.txt  \n",
            "  inflating: wisesight-sentiment-master/kaggle-competition/train_label.txt  \n",
            "  inflating: wisesight-sentiment-master/kaggle-competition/train_model.py  \n",
            "  inflating: wisesight-sentiment-master/neg.txt  \n",
            "  inflating: wisesight-sentiment-master/neu.txt  \n",
            "  inflating: wisesight-sentiment-master/pos.txt  \n",
            "  inflating: wisesight-sentiment-master/q.txt  \n",
            "   creating: wisesight-sentiment-master/word-tokenization/\n",
            "  inflating: wisesight-sentiment-master/word-tokenization/README.md  \n",
            "  inflating: wisesight-sentiment-master/word-tokenization/data-preparation-and-post-processing.ipynb  \n",
            "  inflating: wisesight-sentiment-master/word-tokenization/wisesight-1000-samples-tokenised.label  \n",
            "  inflating: wisesight-sentiment-master/word-tokenization/wisesight-1000-samples-tokenised.txt  \n",
            "  inflating: wisesight-sentiment-master/word-tokenization/wisesight-160-samples-tokenised.label  \n",
            "  inflating: wisesight-sentiment-master/word-tokenization/wisesight-160-samples-tokenised.txt  \n",
            "data  master.zip  sample_data  th.bin  th.tsv  th.zip  wisesight_data  wisesight-sentiment-master\n",
            "competition.ipynb  test_label.txt     test_solution.csv  text_generation.ipynb\ttrain_model.py\n",
            "README.md\t   test_majority.csv  test.txt\t\t train_label.txt\ttrain.txt\n"
          ]
        }
      ]
    },
    {
      "cell_type": "code",
      "source": [
        "import matplotlib\n",
        "!wget https://github.com/Phonbopit/sarabun-webfont/raw/master/fonts/thsarabunnew-webfont.ttf\n",
        "!cp thsarabunnew-webfont.ttf /usr/local/lib/python3.6/dist-packages/matplotlib/mpl-data/fonts/ttf/\n",
        "!cp thsarabunnew-webfont.ttf /usr/share/fonts/truetype/\n",
        "matplotlib.font_manager._rebuild()\n",
        "matplotlib.rc('font', family='TH Sarabun New')"
      ],
      "metadata": {
        "colab": {
          "base_uri": "https://localhost:8080/",
          "height": 516
        },
        "id": "ysQr8b9vxl-u",
        "outputId": "164ea2b6-9859-4c21-c11e-0d078e754828"
      },
      "execution_count": 56,
      "outputs": [
        {
          "output_type": "stream",
          "name": "stdout",
          "text": [
            "--2024-05-08 15:16:55--  https://github.com/Phonbopit/sarabun-webfont/raw/master/fonts/thsarabunnew-webfont.ttf\n",
            "Resolving github.com (github.com)... 140.82.114.3\n",
            "Connecting to github.com (github.com)|140.82.114.3|:443... connected.\n",
            "HTTP request sent, awaiting response... 302 Found\n",
            "Location: https://raw.githubusercontent.com/Phonbopit/sarabun-webfont/master/fonts/thsarabunnew-webfont.ttf [following]\n",
            "--2024-05-08 15:16:55--  https://raw.githubusercontent.com/Phonbopit/sarabun-webfont/master/fonts/thsarabunnew-webfont.ttf\n",
            "Resolving raw.githubusercontent.com (raw.githubusercontent.com)... 185.199.108.133, 185.199.109.133, 185.199.110.133, ...\n",
            "Connecting to raw.githubusercontent.com (raw.githubusercontent.com)|185.199.108.133|:443... connected.\n",
            "HTTP request sent, awaiting response... 200 OK\n",
            "Length: 98308 (96K) [application/octet-stream]\n",
            "Saving to: ‘thsarabunnew-webfont.ttf’\n",
            "\n",
            "\rthsarabunnew-webfon   0%[                    ]       0  --.-KB/s               \rthsarabunnew-webfon 100%[===================>]  96.00K  --.-KB/s    in 0.003s  \n",
            "\n",
            "2024-05-08 15:16:55 (29.8 MB/s) - ‘thsarabunnew-webfont.ttf’ saved [98308/98308]\n",
            "\n",
            "cp: cannot create regular file '/usr/local/lib/python3.6/dist-packages/matplotlib/mpl-data/fonts/ttf/': No such file or directory\n"
          ]
        },
        {
          "output_type": "error",
          "ename": "AttributeError",
          "evalue": "module 'matplotlib.font_manager' has no attribute '_rebuild'",
          "traceback": [
            "\u001b[0;31m---------------------------------------------------------------------------\u001b[0m",
            "\u001b[0;31mAttributeError\u001b[0m                            Traceback (most recent call last)",
            "\u001b[0;32m<ipython-input-56-3d6f72fcfeb7>\u001b[0m in \u001b[0;36m<cell line: 5>\u001b[0;34m()\u001b[0m\n\u001b[1;32m      3\u001b[0m \u001b[0mget_ipython\u001b[0m\u001b[0;34m(\u001b[0m\u001b[0;34m)\u001b[0m\u001b[0;34m.\u001b[0m\u001b[0msystem\u001b[0m\u001b[0;34m(\u001b[0m\u001b[0;34m'cp thsarabunnew-webfont.ttf /usr/local/lib/python3.6/dist-packages/matplotlib/mpl-data/fonts/ttf/'\u001b[0m\u001b[0;34m)\u001b[0m\u001b[0;34m\u001b[0m\u001b[0;34m\u001b[0m\u001b[0m\n\u001b[1;32m      4\u001b[0m \u001b[0mget_ipython\u001b[0m\u001b[0;34m(\u001b[0m\u001b[0;34m)\u001b[0m\u001b[0;34m.\u001b[0m\u001b[0msystem\u001b[0m\u001b[0;34m(\u001b[0m\u001b[0;34m'cp thsarabunnew-webfont.ttf /usr/share/fonts/truetype/'\u001b[0m\u001b[0;34m)\u001b[0m\u001b[0;34m\u001b[0m\u001b[0;34m\u001b[0m\u001b[0m\n\u001b[0;32m----> 5\u001b[0;31m \u001b[0mmatplotlib\u001b[0m\u001b[0;34m.\u001b[0m\u001b[0mfont_manager\u001b[0m\u001b[0;34m.\u001b[0m\u001b[0m_rebuild\u001b[0m\u001b[0;34m(\u001b[0m\u001b[0;34m)\u001b[0m\u001b[0;34m\u001b[0m\u001b[0;34m\u001b[0m\u001b[0m\n\u001b[0m\u001b[1;32m      6\u001b[0m \u001b[0mmatplotlib\u001b[0m\u001b[0;34m.\u001b[0m\u001b[0mrc\u001b[0m\u001b[0;34m(\u001b[0m\u001b[0;34m'font'\u001b[0m\u001b[0;34m,\u001b[0m \u001b[0mfamily\u001b[0m\u001b[0;34m=\u001b[0m\u001b[0;34m'TH Sarabun New'\u001b[0m\u001b[0;34m)\u001b[0m\u001b[0;34m\u001b[0m\u001b[0;34m\u001b[0m\u001b[0m\n",
            "\u001b[0;31mAttributeError\u001b[0m: module 'matplotlib.font_manager' has no attribute '_rebuild'"
          ]
        }
      ]
    },
    {
      "cell_type": "code",
      "source": [
        "%load_ext autoreload\n",
        "%autoreload 2\n",
        "\n",
        "import numpy as np\n",
        "import pandas as pd\n",
        "\n",
        "from pythainlp import word_tokenize\n",
        "from tqdm import tqdm_notebook\n",
        "from pythainlp.ulmfit import process_thai\n",
        "\n",
        "#viz\n",
        "import matplotlib.pyplot as plt\n",
        "import seaborn as sns"
      ],
      "metadata": {
        "colab": {
          "base_uri": "https://localhost:8080/",
          "height": 149,
          "referenced_widgets": [
            "1f45fc7ff24148839cc7ba6d5fc5b94b",
            "0a1ead109f014ceea9c2526480bd2771",
            "e9158fe3b082407faaaefef29ed48d6f",
            "192f69f52ce64dd68602d2cfd0479c51",
            "fa4c344998904eb29797847d4e59d08a",
            "2d08bc8e31284a9480a7beba73d17ec6",
            "75c4f20eaa024f11abc202a9c87f5ec4",
            "3fe92beaf16744c0986c49187ebbfe60",
            "9e9343184d5442bba1f799b90bfb7cd0",
            "63ecea59b43e4f629e9e5d6e4bed7153",
            "0529e4061d5a449ea6fd7690628401fc",
            "abd2361ba3d1471a92ea1c6d73bf653d",
            "7a16a500f9774b09a52e84c304dda164",
            "7393e88629854fa5ba372cd0df6cada3",
            "3e184255964041baaea78e37f6cdebbc",
            "f1aacd25854f49819aad7983283d36d9",
            "7db715f457e344d99f937d4c79fff550",
            "f0f39b4f0c1544d88cd69d74abce6a20",
            "e1352721f9154cbc9958f0d330c8d4ec",
            "9c8060405bc04e23968ccd48dbd1cc30",
            "4073d66cbf3b48eeaef2c615d4908564",
            "6c942f387757456a95755103c8963084"
          ]
        },
        "id": "SHnQ-Q6Fx2tw",
        "outputId": "b51be80f-b773-41f8-a9cf-b2927716c631"
      },
      "execution_count": 57,
      "outputs": [
        {
          "output_type": "stream",
          "name": "stdout",
          "text": [
            "Corpus: wiki_lm_lstm\n",
            "- Downloading: wiki_lm_lstm 0.32\n"
          ]
        },
        {
          "output_type": "display_data",
          "data": {
            "text/plain": [
              "  0%|          | 0/1050919089 [00:00<?, ?it/s]"
            ],
            "application/vnd.jupyter.widget-view+json": {
              "version_major": 2,
              "version_minor": 0,
              "model_id": "1f45fc7ff24148839cc7ba6d5fc5b94b"
            }
          },
          "metadata": {}
        },
        {
          "output_type": "stream",
          "name": "stdout",
          "text": [
            "Corpus: wiki_itos_lstm\n",
            "- Downloading: wiki_itos_lstm 0.32\n"
          ]
        },
        {
          "output_type": "display_data",
          "data": {
            "text/plain": [
              "  0%|          | 0/1530484 [00:00<?, ?it/s]"
            ],
            "application/vnd.jupyter.widget-view+json": {
              "version_major": 2,
              "version_minor": 0,
              "model_id": "abd2361ba3d1471a92ea1c6d73bf653d"
            }
          },
          "metadata": {}
        }
      ]
    },
    {
      "cell_type": "code",
      "source": [
        "?process_thai"
      ],
      "metadata": {
        "id": "DmrXYoOByb0a"
      },
      "execution_count": 58,
      "outputs": []
    },
    {
      "cell_type": "code",
      "source": [
        "from pythainlp.ulmfit import *\n",
        "process_thai(\"บ้านนนนน ()อยู่นานนานนาน 😂🤣😃😄😅 PyThaiNLP amp;     www.google.com\")"
      ],
      "metadata": {
        "colab": {
          "base_uri": "https://localhost:8080/"
        },
        "id": "LgLEODxbyjfY",
        "outputId": "a877b96a-05e9-453d-deff-1352421a9411"
      },
      "execution_count": 59,
      "outputs": [
        {
          "output_type": "execute_result",
          "data": {
            "text/plain": [
              "['บ้าน',\n",
              " 'xxrep',\n",
              " 'อยู่',\n",
              " 'xxwrep',\n",
              " 'นาน',\n",
              " '😂',\n",
              " '🤣',\n",
              " '😃',\n",
              " '😄',\n",
              " '😅',\n",
              " 'pythainlp',\n",
              " '&',\n",
              " 'xxurl']"
            ]
          },
          "metadata": {},
          "execution_count": 59
        }
      ]
    },
    {
      "cell_type": "code",
      "source": [
        "with open(\"wisesight-sentiment-master/kaggle-competition/train.txt\") as f:\n",
        "    texts = [line.strip() for line in f.readlines()]\n",
        "\n",
        "with open(\"wisesight-sentiment-master/kaggle-competition/train_label.txt\") as f:\n",
        "    categories = [line.strip() for line in f.readlines()]\n",
        "\n",
        "all_df = pd.DataFrame({\"category\":categories, \"texts\":texts})\n",
        "all_df.to_csv('df_drop.csv',index=False)\n",
        "all_df.shape"
      ],
      "metadata": {
        "colab": {
          "base_uri": "https://localhost:8080/"
        },
        "id": "zk-z_8C-ynqN",
        "outputId": "228cc5f9-4442-4a31-9aee-9a0079763c74"
      },
      "execution_count": 81,
      "outputs": [
        {
          "output_type": "execute_result",
          "data": {
            "text/plain": [
              "(24063, 2)"
            ]
          },
          "metadata": {},
          "execution_count": 81
        }
      ]
    },
    {
      "cell_type": "code",
      "source": [
        "with open(\"wisesight-sentiment-master/kaggle-competition/test.txt\") as f:\n",
        "    texts = [line.strip() for line in f.readlines()]\n",
        "\n",
        "test_df = pd.DataFrame({\"category\":\"test\", \"texts\":texts})\n",
        "test_df.shape"
      ],
      "metadata": {
        "colab": {
          "base_uri": "https://localhost:8080/"
        },
        "id": "dLzGAe3GzkjR",
        "outputId": "b3aa1b25-14e8-4656-eeb9-904d944e529b"
      },
      "execution_count": 82,
      "outputs": [
        {
          "output_type": "execute_result",
          "data": {
            "text/plain": [
              "(2674, 2)"
            ]
          },
          "metadata": {},
          "execution_count": 82
        }
      ]
    },
    {
      "cell_type": "code",
      "source": [
        "all_df[\"processed\"] = all_df.texts.map(lambda x: \"|\".join(process_thai(x)))\n",
        "all_df[\"wc\"] = all_df.processed.map(lambda x: len(x.split(\"|\")))\n",
        "all_df[\"uwc\"] = all_df.processed.map(lambda x: len(set(x.split(\"|\"))))\n",
        "\n",
        "test_df[\"processed\"] = test_df.texts.map(lambda x: \"|\".join(process_thai(x)))\n",
        "test_df[\"wc\"] = test_df.processed.map(lambda x: len(x.split(\"|\")))\n",
        "test_df[\"uwc\"] = test_df.processed.map(lambda x: len(set(x.split(\"|\"))))"
      ],
      "metadata": {
        "id": "ZsKBw8oVz9dy"
      },
      "execution_count": 83,
      "outputs": []
    },
    {
      "cell_type": "code",
      "source": [
        "#prevalence\n",
        "all_df.category.value_counts() / all_df.shape[0]"
      ],
      "metadata": {
        "colab": {
          "base_uri": "https://localhost:8080/"
        },
        "id": "AT398rlgz_lA",
        "outputId": "7b10eebf-454e-478f-9633-0374d96ad953"
      },
      "execution_count": 84,
      "outputs": [
        {
          "output_type": "execute_result",
          "data": {
            "text/plain": [
              "category\n",
              "neu    0.544612\n",
              "neg    0.255164\n",
              "pos    0.178698\n",
              "q      0.021527\n",
              "Name: count, dtype: float64"
            ]
          },
          "metadata": {},
          "execution_count": 84
        }
      ]
    },
    {
      "cell_type": "code",
      "source": [
        "train_df = all_df.copy()\n",
        "valid_df = pd.read_csv('df_drop.csv')"
      ],
      "metadata": {
        "id": "GsQREXL70FJW"
      },
      "execution_count": 69,
      "outputs": []
    },
    {
      "cell_type": "code",
      "source": [
        "valid_df.head()"
      ],
      "metadata": {
        "colab": {
          "base_uri": "https://localhost:8080/",
          "height": 204
        },
        "id": "713lmX700JeD",
        "outputId": "23ed69e2-6677-48d8-a5bd-1d046c7bb936"
      },
      "execution_count": 70,
      "outputs": [
        {
          "output_type": "execute_result",
          "data": {
            "text/plain": [
              "   Unnamed: 0                                               body  class\n",
              "0           0  ตามที่มีผู้พบเห็นเว็บไซต์ www.gsb-th-online.co...      0\n",
              "1           1  ตามที่มีคลิปวิดีโอได้เผยแพร่เนื้อหา เกี่ยวกับป...      0\n",
              "2           2  ตามที่มีการเผยแพร่ข่าวสารในสื่อออนไลน์เรื่อง เ...      0\n",
              "3           3  เมื่อวันที่ 27 เมษายน สำนักงานคณะกรรมการการเลื...      0\n",
              "4           4  จากกรณีข่าวลือที่ระบุว่าผู้ว่าจังหวัดภูเก็ตเหม...      0"
            ],
            "text/html": [
              "\n",
              "  <div id=\"df-a0757d2a-da44-43bc-a626-640a8b7e4491\" class=\"colab-df-container\">\n",
              "    <div>\n",
              "<style scoped>\n",
              "    .dataframe tbody tr th:only-of-type {\n",
              "        vertical-align: middle;\n",
              "    }\n",
              "\n",
              "    .dataframe tbody tr th {\n",
              "        vertical-align: top;\n",
              "    }\n",
              "\n",
              "    .dataframe thead th {\n",
              "        text-align: right;\n",
              "    }\n",
              "</style>\n",
              "<table border=\"1\" class=\"dataframe\">\n",
              "  <thead>\n",
              "    <tr style=\"text-align: right;\">\n",
              "      <th></th>\n",
              "      <th>Unnamed: 0</th>\n",
              "      <th>body</th>\n",
              "      <th>class</th>\n",
              "    </tr>\n",
              "  </thead>\n",
              "  <tbody>\n",
              "    <tr>\n",
              "      <th>0</th>\n",
              "      <td>0</td>\n",
              "      <td>ตามที่มีผู้พบเห็นเว็บไซต์ www.gsb-th-online.co...</td>\n",
              "      <td>0</td>\n",
              "    </tr>\n",
              "    <tr>\n",
              "      <th>1</th>\n",
              "      <td>1</td>\n",
              "      <td>ตามที่มีคลิปวิดีโอได้เผยแพร่เนื้อหา เกี่ยวกับป...</td>\n",
              "      <td>0</td>\n",
              "    </tr>\n",
              "    <tr>\n",
              "      <th>2</th>\n",
              "      <td>2</td>\n",
              "      <td>ตามที่มีการเผยแพร่ข่าวสารในสื่อออนไลน์เรื่อง เ...</td>\n",
              "      <td>0</td>\n",
              "    </tr>\n",
              "    <tr>\n",
              "      <th>3</th>\n",
              "      <td>3</td>\n",
              "      <td>เมื่อวันที่ 27 เมษายน สำนักงานคณะกรรมการการเลื...</td>\n",
              "      <td>0</td>\n",
              "    </tr>\n",
              "    <tr>\n",
              "      <th>4</th>\n",
              "      <td>4</td>\n",
              "      <td>จากกรณีข่าวลือที่ระบุว่าผู้ว่าจังหวัดภูเก็ตเหม...</td>\n",
              "      <td>0</td>\n",
              "    </tr>\n",
              "  </tbody>\n",
              "</table>\n",
              "</div>\n",
              "    <div class=\"colab-df-buttons\">\n",
              "\n",
              "  <div class=\"colab-df-container\">\n",
              "    <button class=\"colab-df-convert\" onclick=\"convertToInteractive('df-a0757d2a-da44-43bc-a626-640a8b7e4491')\"\n",
              "            title=\"Convert this dataframe to an interactive table.\"\n",
              "            style=\"display:none;\">\n",
              "\n",
              "  <svg xmlns=\"http://www.w3.org/2000/svg\" height=\"24px\" viewBox=\"0 -960 960 960\">\n",
              "    <path d=\"M120-120v-720h720v720H120Zm60-500h600v-160H180v160Zm220 220h160v-160H400v160Zm0 220h160v-160H400v160ZM180-400h160v-160H180v160Zm440 0h160v-160H620v160ZM180-180h160v-160H180v160Zm440 0h160v-160H620v160Z\"/>\n",
              "  </svg>\n",
              "    </button>\n",
              "\n",
              "  <style>\n",
              "    .colab-df-container {\n",
              "      display:flex;\n",
              "      gap: 12px;\n",
              "    }\n",
              "\n",
              "    .colab-df-convert {\n",
              "      background-color: #E8F0FE;\n",
              "      border: none;\n",
              "      border-radius: 50%;\n",
              "      cursor: pointer;\n",
              "      display: none;\n",
              "      fill: #1967D2;\n",
              "      height: 32px;\n",
              "      padding: 0 0 0 0;\n",
              "      width: 32px;\n",
              "    }\n",
              "\n",
              "    .colab-df-convert:hover {\n",
              "      background-color: #E2EBFA;\n",
              "      box-shadow: 0px 1px 2px rgba(60, 64, 67, 0.3), 0px 1px 3px 1px rgba(60, 64, 67, 0.15);\n",
              "      fill: #174EA6;\n",
              "    }\n",
              "\n",
              "    .colab-df-buttons div {\n",
              "      margin-bottom: 4px;\n",
              "    }\n",
              "\n",
              "    [theme=dark] .colab-df-convert {\n",
              "      background-color: #3B4455;\n",
              "      fill: #D2E3FC;\n",
              "    }\n",
              "\n",
              "    [theme=dark] .colab-df-convert:hover {\n",
              "      background-color: #434B5C;\n",
              "      box-shadow: 0px 1px 3px 1px rgba(0, 0, 0, 0.15);\n",
              "      filter: drop-shadow(0px 1px 2px rgba(0, 0, 0, 0.3));\n",
              "      fill: #FFFFFF;\n",
              "    }\n",
              "  </style>\n",
              "\n",
              "    <script>\n",
              "      const buttonEl =\n",
              "        document.querySelector('#df-a0757d2a-da44-43bc-a626-640a8b7e4491 button.colab-df-convert');\n",
              "      buttonEl.style.display =\n",
              "        google.colab.kernel.accessAllowed ? 'block' : 'none';\n",
              "\n",
              "      async function convertToInteractive(key) {\n",
              "        const element = document.querySelector('#df-a0757d2a-da44-43bc-a626-640a8b7e4491');\n",
              "        const dataTable =\n",
              "          await google.colab.kernel.invokeFunction('convertToInteractive',\n",
              "                                                    [key], {});\n",
              "        if (!dataTable) return;\n",
              "\n",
              "        const docLinkHtml = 'Like what you see? Visit the ' +\n",
              "          '<a target=\"_blank\" href=https://colab.research.google.com/notebooks/data_table.ipynb>data table notebook</a>'\n",
              "          + ' to learn more about interactive tables.';\n",
              "        element.innerHTML = '';\n",
              "        dataTable['output_type'] = 'display_data';\n",
              "        await google.colab.output.renderOutput(dataTable, element);\n",
              "        const docLink = document.createElement('div');\n",
              "        docLink.innerHTML = docLinkHtml;\n",
              "        element.appendChild(docLink);\n",
              "      }\n",
              "    </script>\n",
              "  </div>\n",
              "\n",
              "\n",
              "<div id=\"df-8b878184-a39f-484e-bdc9-79907f90da98\">\n",
              "  <button class=\"colab-df-quickchart\" onclick=\"quickchart('df-8b878184-a39f-484e-bdc9-79907f90da98')\"\n",
              "            title=\"Suggest charts\"\n",
              "            style=\"display:none;\">\n",
              "\n",
              "<svg xmlns=\"http://www.w3.org/2000/svg\" height=\"24px\"viewBox=\"0 0 24 24\"\n",
              "     width=\"24px\">\n",
              "    <g>\n",
              "        <path d=\"M19 3H5c-1.1 0-2 .9-2 2v14c0 1.1.9 2 2 2h14c1.1 0 2-.9 2-2V5c0-1.1-.9-2-2-2zM9 17H7v-7h2v7zm4 0h-2V7h2v10zm4 0h-2v-4h2v4z\"/>\n",
              "    </g>\n",
              "</svg>\n",
              "  </button>\n",
              "\n",
              "<style>\n",
              "  .colab-df-quickchart {\n",
              "      --bg-color: #E8F0FE;\n",
              "      --fill-color: #1967D2;\n",
              "      --hover-bg-color: #E2EBFA;\n",
              "      --hover-fill-color: #174EA6;\n",
              "      --disabled-fill-color: #AAA;\n",
              "      --disabled-bg-color: #DDD;\n",
              "  }\n",
              "\n",
              "  [theme=dark] .colab-df-quickchart {\n",
              "      --bg-color: #3B4455;\n",
              "      --fill-color: #D2E3FC;\n",
              "      --hover-bg-color: #434B5C;\n",
              "      --hover-fill-color: #FFFFFF;\n",
              "      --disabled-bg-color: #3B4455;\n",
              "      --disabled-fill-color: #666;\n",
              "  }\n",
              "\n",
              "  .colab-df-quickchart {\n",
              "    background-color: var(--bg-color);\n",
              "    border: none;\n",
              "    border-radius: 50%;\n",
              "    cursor: pointer;\n",
              "    display: none;\n",
              "    fill: var(--fill-color);\n",
              "    height: 32px;\n",
              "    padding: 0;\n",
              "    width: 32px;\n",
              "  }\n",
              "\n",
              "  .colab-df-quickchart:hover {\n",
              "    background-color: var(--hover-bg-color);\n",
              "    box-shadow: 0 1px 2px rgba(60, 64, 67, 0.3), 0 1px 3px 1px rgba(60, 64, 67, 0.15);\n",
              "    fill: var(--button-hover-fill-color);\n",
              "  }\n",
              "\n",
              "  .colab-df-quickchart-complete:disabled,\n",
              "  .colab-df-quickchart-complete:disabled:hover {\n",
              "    background-color: var(--disabled-bg-color);\n",
              "    fill: var(--disabled-fill-color);\n",
              "    box-shadow: none;\n",
              "  }\n",
              "\n",
              "  .colab-df-spinner {\n",
              "    border: 2px solid var(--fill-color);\n",
              "    border-color: transparent;\n",
              "    border-bottom-color: var(--fill-color);\n",
              "    animation:\n",
              "      spin 1s steps(1) infinite;\n",
              "  }\n",
              "\n",
              "  @keyframes spin {\n",
              "    0% {\n",
              "      border-color: transparent;\n",
              "      border-bottom-color: var(--fill-color);\n",
              "      border-left-color: var(--fill-color);\n",
              "    }\n",
              "    20% {\n",
              "      border-color: transparent;\n",
              "      border-left-color: var(--fill-color);\n",
              "      border-top-color: var(--fill-color);\n",
              "    }\n",
              "    30% {\n",
              "      border-color: transparent;\n",
              "      border-left-color: var(--fill-color);\n",
              "      border-top-color: var(--fill-color);\n",
              "      border-right-color: var(--fill-color);\n",
              "    }\n",
              "    40% {\n",
              "      border-color: transparent;\n",
              "      border-right-color: var(--fill-color);\n",
              "      border-top-color: var(--fill-color);\n",
              "    }\n",
              "    60% {\n",
              "      border-color: transparent;\n",
              "      border-right-color: var(--fill-color);\n",
              "    }\n",
              "    80% {\n",
              "      border-color: transparent;\n",
              "      border-right-color: var(--fill-color);\n",
              "      border-bottom-color: var(--fill-color);\n",
              "    }\n",
              "    90% {\n",
              "      border-color: transparent;\n",
              "      border-bottom-color: var(--fill-color);\n",
              "    }\n",
              "  }\n",
              "</style>\n",
              "\n",
              "  <script>\n",
              "    async function quickchart(key) {\n",
              "      const quickchartButtonEl =\n",
              "        document.querySelector('#' + key + ' button');\n",
              "      quickchartButtonEl.disabled = true;  // To prevent multiple clicks.\n",
              "      quickchartButtonEl.classList.add('colab-df-spinner');\n",
              "      try {\n",
              "        const charts = await google.colab.kernel.invokeFunction(\n",
              "            'suggestCharts', [key], {});\n",
              "      } catch (error) {\n",
              "        console.error('Error during call to suggestCharts:', error);\n",
              "      }\n",
              "      quickchartButtonEl.classList.remove('colab-df-spinner');\n",
              "      quickchartButtonEl.classList.add('colab-df-quickchart-complete');\n",
              "    }\n",
              "    (() => {\n",
              "      let quickchartButtonEl =\n",
              "        document.querySelector('#df-8b878184-a39f-484e-bdc9-79907f90da98 button');\n",
              "      quickchartButtonEl.style.display =\n",
              "        google.colab.kernel.accessAllowed ? 'block' : 'none';\n",
              "    })();\n",
              "  </script>\n",
              "</div>\n",
              "    </div>\n",
              "  </div>\n"
            ],
            "application/vnd.google.colaboratory.intrinsic+json": {
              "type": "dataframe",
              "variable_name": "valid_df",
              "summary": "{\n  \"name\": \"valid_df\",\n  \"rows\": 795,\n  \"fields\": [\n    {\n      \"column\": \"Unnamed: 0\",\n      \"properties\": {\n        \"dtype\": \"number\",\n        \"std\": 133,\n        \"min\": 0,\n        \"max\": 495,\n        \"num_unique_values\": 496,\n        \"samples\": [\n          457,\n          73,\n          231\n        ],\n        \"semantic_type\": \"\",\n        \"description\": \"\"\n      }\n    },\n    {\n      \"column\": \"body\",\n      \"properties\": {\n        \"dtype\": \"string\",\n        \"num_unique_values\": 780,\n        \"samples\": [\n          \"\\u0e41\\u0e21\\u0e49\\u0e27\\u0e48\\u0e32\\u0e01\\u0e32\\u0e23\\u0e41\\u0e1e\\u0e23\\u0e48\\u0e23\\u0e30\\u0e1a\\u0e32\\u0e14\\u0e02\\u0e2d\\u0e07\\u0e1b\\u0e23\\u0e30\\u0e40\\u0e17\\u0e28\\u0e44\\u0e17\\u0e22\\u0e22\\u0e31\\u0e07\\u0e2d\\u0e22\\u0e39\\u0e48\\u0e43\\u0e19\\u0e23\\u0e30\\u0e22\\u0e30\\u0e17\\u0e35\\u0e48 2 \\u0e04\\u0e37\\u0e2d\\u0e44\\u0e21\\u0e48\\u0e1e\\u0e1a\\u0e01\\u0e32\\u0e23\\u0e41\\u0e1e\\u0e23\\u0e48\\u0e23\\u0e30\\u0e1a\\u0e32\\u0e14\\u0e43\\u0e19\\u0e1b\\u0e23\\u0e30\\u0e40\\u0e17\\u0e28 \\u0e41\\u0e15\\u0e48 \\u0e2a\\u0e1b\\u0e2a\\u0e0a.\\u0e08\\u0e33\\u0e40\\u0e1b\\u0e47\\u0e19\\u0e15\\u0e49\\u0e2d\\u0e07\\u0e40\\u0e15\\u0e23\\u0e35\\u0e22\\u0e21\\u0e07\\u0e1a\\u0e1b\\u0e23\\u0e30\\u0e21\\u0e32\\u0e13\\u0e23\\u0e2d\\u0e07\\u0e23\\u0e31\\u0e1a\\u0e44\\u0e27\\u0e49\\u0e40\\u0e1e\\u0e37\\u0e48\\u0e2d\\u0e2a\\u0e23\\u0e49\\u0e32\\u0e07\\u0e04\\u0e27\\u0e32\\u0e21\\u0e21\\u0e31\\u0e48\\u0e19\\u0e43\\u0e08\\u0e41\\u0e25\\u0e30\\u0e2a\\u0e19\\u0e31\\u0e1a\\u0e2a\\u0e19\\u0e38\\u0e19\\u0e01\\u0e32\\u0e23\\u0e1a\\u0e23\\u0e34\\u0e01\\u0e32\\u0e23\\u0e02\\u0e2d\\u0e07\\u0e2b\\u0e19\\u0e48\\u0e27\\u0e22\\u0e1a\\u0e23\\u0e34\\u0e01\\u0e32\\u0e23\\u0e43\\u0e19\\u0e01\\u0e32\\u0e23\\u0e14\\u0e39\\u0e41\\u0e25\\u0e1c\\u0e39\\u0e49\\u0e1b\\u0e48\\u0e27\\u0e22 \\u0e41\\u0e25\\u0e30\\u0e2a\\u0e23\\u0e49\\u0e32\\u0e07\\u0e04\\u0e27\\u0e32\\u0e21\\u0e21\\u0e31\\u0e48\\u0e19\\u0e43\\u0e08\\u0e43\\u0e2b\\u0e49\\u0e01\\u0e31\\u0e1a\\u0e1b\\u0e23\\u0e30\\u0e0a\\u0e32\\u0e0a\\u0e19 \\u0e27\\u0e31\\u0e19\\u0e19\\u0e35\\u0e49\\u0e1a\\u0e2d\\u0e23\\u0e4c\\u0e14 \\u0e2a\\u0e1b\\u0e2a\\u0e0a.\\u0e44\\u0e14\\u0e49\\u0e1e\\u0e34\\u0e08\\u0e32\\u0e23\\u0e13\\u0e32 \\u0e41\\u0e25\\u0e30\\u0e21\\u0e35\\u0e21\\u0e15\\u0e34\\u0e40\\u0e2b\\u0e47\\u0e19\\u0e0a\\u0e2d\\u0e1a\\u0e43\\u0e2b\\u0e49\\u0e43\\u0e2b\\u0e49\\u0e01\\u0e23\\u0e13\\u0e35\\u0e42\\u0e23\\u0e04\\u0e15\\u0e34\\u0e14\\u0e40\\u0e0a\\u0e37\\u0e49\\u0e2d\\u0e44\\u0e27\\u0e23\\u0e31\\u0e2a\\u0e42\\u0e04\\u0e42\\u0e23\\u0e19\\u0e322019 \\u0e2d\\u0e22\\u0e39\\u0e48\\u0e43\\u0e19\\u0e23\\u0e32\\u0e22\\u0e01\\u0e32\\u0e23\\u0e1b\\u0e23\\u0e30\\u0e40\\u0e20\\u0e17 \\u0e41\\u0e25\\u0e30\\u0e02\\u0e2d\\u0e1a\\u0e40\\u0e02\\u0e15\\u0e1a\\u0e23\\u0e34\\u0e01\\u0e32\\u0e23\\u0e2a\\u0e32\\u0e18\\u0e32\\u0e23\\u0e13\\u0e2a\\u0e38\\u0e02\\u0e43\\u0e19\\u0e23\\u0e30\\u0e1a\\u0e1a\\u0e2b\\u0e25\\u0e31\\u0e01\\u0e1b\\u0e23\\u0e30\\u0e01\\u0e31\\u0e19\\u0e2a\\u0e38\\u0e02\\u0e20\\u0e32\\u0e1e\\u0e41\\u0e2b\\u0e48\\u0e07\\u0e0a\\u0e32\\u0e15\\u0e34 (\\u0e1a\\u0e31\\u0e15\\u0e23\\u0e17\\u0e2d\\u0e07) \\u0e04\\u0e23\\u0e2d\\u0e1a\\u0e04\\u0e25\\u0e38\\u0e21\\u0e14\\u0e39\\u0e41\\u0e25\\u0e17\\u0e31\\u0e49\\u0e07\\u0e01\\u0e32\\u0e23\\u0e1b\\u0e49\\u0e2d\\u0e07\\u0e01\\u0e31\\u0e19\\u0e42\\u0e23\\u0e04 \\u0e2a\\u0e23\\u0e49\\u0e32\\u0e07\\u0e40\\u0e2a\\u0e23\\u0e34\\u0e21\\u0e2a\\u0e38\\u0e02\\u0e20\\u0e32\\u0e1e \\u0e15\\u0e23\\u0e27\\u0e08\\u0e27\\u0e34\\u0e19\\u0e34\\u0e08\\u0e09\\u0e31\\u0e22\\u0e42\\u0e23\\u0e04\\u0e23\\u0e31\\u0e01\\u0e29\\u0e32\\u0e1e\\u0e22\\u0e32\\u0e1a\\u0e32\\u0e25 \\u0e41\\u0e25\\u0e30\\u0e01\\u0e32\\u0e23\\u0e1f\\u0e37\\u0e49\\u0e19\\u0e1f\\u0e39\\u0e2a\\u0e21\\u0e23\\u0e23\\u0e16\\u0e20\\u0e32\\u0e1e\\u0e17\\u0e32\\u0e07\\u0e01\\u0e32\\u0e23\\u0e41\\u0e1e\\u0e17\\u0e22\\u0e4c \\u0e41\\u0e25\\u0e30\\u0e21\\u0e2d\\u0e1a\\u0e43\\u0e2b\\u0e49\\u0e04\\u0e13\\u0e30\\u0e2d\\u0e19\\u0e38\\u0e01\\u0e23\\u0e23\\u0e21\\u0e01\\u0e32\\u0e23\\u0e01\\u0e33\\u0e2b\\u0e19\\u0e14\\u0e1b\\u0e23\\u0e30\\u0e40\\u0e20\\u0e17 \\u0e41\\u0e25\\u0e30\\u0e02\\u0e2d\\u0e1a\\u0e40\\u0e02\\u0e15\\u0e43\\u0e19\\u0e01\\u0e32\\u0e23\\u0e43\\u0e2b\\u0e49\\u0e1a\\u0e23\\u0e34\\u0e01\\u0e32\\u0e23\\u0e2a\\u0e32\\u0e18\\u0e32\\u0e23\\u0e13\\u0e2a\\u0e38\\u0e02\\u0e17\\u0e35\\u0e48\\u0e08\\u0e33\\u0e40\\u0e1b\\u0e47\\u0e19\\u0e15\\u0e48\\u0e2d\\u0e2a\\u0e38\\u0e02\\u0e20\\u0e32\\u0e1e \\u0e41\\u0e25\\u0e30\\u0e14\\u0e33\\u0e23\\u0e07\\u0e0a\\u0e35\\u0e27\\u0e34\\u0e15 \\u0e1e\\u0e34\\u0e08\\u0e32\\u0e23\\u0e13\\u0e32\\u0e23\\u0e32\\u0e22\\u0e25\\u0e30\\u0e40\\u0e2d\\u0e35\\u0e22\\u0e14\\u0e21\\u0e32\\u0e15\\u0e23\\u0e10\\u0e32\\u0e19 \\u0e41\\u0e25\\u0e30\\u0e41\\u0e19\\u0e27\\u0e17\\u0e32\\u0e07\\u0e1a\\u0e23\\u0e34\\u0e01\\u0e32\\u0e23\\r\\n\\u0e02\\u0e13\\u0e30\\u0e40\\u0e14\\u0e35\\u0e22\\u0e27\\u0e01\\u0e31\\u0e19 \\u0e2a\\u0e1b\\u0e2a\\u0e0a. \\u0e22\\u0e31\\u0e07\\u0e44\\u0e14\\u0e49\\u0e21\\u0e2d\\u0e1a\\u0e04\\u0e13\\u0e30\\u0e2d\\u0e19\\u0e38\\u0e01\\u0e23\\u0e23\\u0e21\\u0e01\\u0e32\\u0e23\\u0e01\\u0e33\\u0e2b\\u0e19\\u0e14\\u0e2b\\u0e25\\u0e31\\u0e01\\u0e40\\u0e01\\u0e13\\u0e11\\u0e4c\\u0e01\\u0e32\\u0e23\\u0e14\\u0e33\\u0e40\\u0e19\\u0e34\\u0e19\\u0e07\\u0e32\\u0e19 \\u0e41\\u0e25\\u0e30\\u0e1a\\u0e23\\u0e34\\u0e2b\\u0e32\\u0e23\\u0e08\\u0e31\\u0e14\\u0e01\\u0e32\\u0e23\\u0e01\\u0e2d\\u0e07\\u0e17\\u0e38\\u0e19\\u0e1e\\u0e34\\u0e08\\u0e32\\u0e23\\u0e13\\u0e32\\u0e41\\u0e2b\\u0e25\\u0e48\\u0e07\\u0e07\\u0e1a\\u0e1b\\u0e23\\u0e30\\u0e21\\u0e32\\u0e13 \\u0e41\\u0e25\\u0e30\\u0e01\\u0e33\\u0e2b\\u0e19\\u0e14\\u0e2b\\u0e25\\u0e31\\u0e01\\u0e40\\u0e01\\u0e13\\u0e11\\u0e4c\\u0e41\\u0e25\\u0e30\\u0e01\\u0e32\\u0e23\\u0e14\\u0e33\\u0e40\\u0e19\\u0e34\\u0e19\\u0e07\\u0e32\\u0e19 \\u0e27\\u0e34\\u0e18\\u0e35 \\u0e40\\u0e07\\u0e37\\u0e48\\u0e2d\\u0e19\\u0e44\\u0e02 \\u0e41\\u0e25\\u0e30\\u0e2d\\u0e31\\u0e15\\u0e23\\u0e32\\u0e01\\u0e32\\u0e23\\u0e23\\u0e31\\u0e1a\\u0e04\\u0e48\\u0e32\\u0e43\\u0e0a\\u0e49\\u0e08\\u0e48\\u0e32\\u0e22\\u0e40\\u0e1e\\u0e37\\u0e48\\u0e2d\\u0e1a\\u0e23\\u0e34\\u0e01\\u0e32\\u0e23\\u0e2a\\u0e32\\u0e18\\u0e32\\u0e23\\u0e13\\u0e2a\\u0e38\\u0e02\\u0e02\\u0e2d\\u0e07\\u0e2b\\u0e19\\u0e48\\u0e27\\u0e22\\u0e1a\\u0e23\\u0e34\\u0e01\\u0e32\\u0e23 \\u0e42\\u0e14\\u0e22\\u0e40\\u0e1a\\u0e37\\u0e49\\u0e2d\\u0e07\\u0e15\\u0e49\\u0e19\\u0e43\\u0e2b\\u0e49 \\u0e2a\\u0e1b\\u0e2a\\u0e0a.\\u0e08\\u0e48\\u0e32\\u0e22\\u0e0a\\u0e14\\u0e40\\u0e0a\\u0e22\\u0e04\\u0e48\\u0e32\\u0e1a\\u0e23\\u0e34\\u0e01\\u0e32\\u0e23\\u0e2a\\u0e33\\u0e2b\\u0e23\\u0e31\\u0e1a\\u0e42\\u0e23\\u0e04\\u0e15\\u0e34\\u0e14\\u0e40\\u0e0a\\u0e37\\u0e49\\u0e2d\\u0e44\\u0e27\\u0e23\\u0e31\\u0e2a\\u0e42\\u0e04\\u0e42\\u0e23\\u0e19\\u0e32 2019 \\u0e08\\u0e32\\u0e01\\u0e40\\u0e07\\u0e34\\u0e19\\u0e01\\u0e2d\\u0e07\\u0e17\\u0e38\\u0e19\\u0e23\\u0e32\\u0e22\\u0e01\\u0e32\\u0e23\\u0e23\\u0e32\\u0e22\\u0e44\\u0e14\\u0e49\\u0e2a\\u0e39\\u0e07(\\u0e15\\u0e48\\u0e33)\\u0e01\\u0e27\\u0e48\\u0e32\\u0e04\\u0e48\\u0e32\\u0e43\\u0e0a\\u0e49\\u0e08\\u0e48\\u0e32\\u0e22\\u0e2a\\u0e30\\u0e2a\\u0e21 \\u0e08\\u0e33\\u0e19\\u0e27\\u0e19\\u0e44\\u0e21\\u0e48\\u0e40\\u0e01\\u0e34\\u0e19 1,020 \\u0e25\\u0e49\\u0e32\\u0e19\\u0e1a\\u0e32\\u0e17 \\u0e41\\u0e25\\u0e30\\u0e43\\u0e2b\\u0e49\\u0e15\\u0e34\\u0e14\\u0e15\\u0e32\\u0e21\\u0e1c\\u0e25\\u0e01\\u0e32\\u0e23\\u0e43\\u0e0a\\u0e49\\u0e07\\u0e1a\\u0e1b\\u0e23\\u0e30\\u0e21\\u0e32\\u0e13\\u0e01\\u0e23\\u0e13\\u0e35\\u0e17\\u0e35\\u0e48\\u0e44\\u0e21\\u0e48\\u0e40\\u0e1e\\u0e35\\u0e22\\u0e07\\u0e1e\\u0e2d \\u0e43\\u0e2b\\u0e49\\u0e14\\u0e33\\u0e40\\u0e19\\u0e34\\u0e19\\u0e01\\u0e32\\u0e23\\u0e40\\u0e1e\\u0e37\\u0e48\\u0e2d\\u0e02\\u0e2d\\u0e23\\u0e31\\u0e1a\\u0e07\\u0e1a\\u0e01\\u0e25\\u0e32\\u0e07\\u0e08\\u0e32\\u0e01\\u0e23\\u0e31\\u0e10\\u0e1a\\u0e32\\u0e25\\u0e15\\u0e48\\u0e2d\\u0e44\\u0e1b \\u0e42\\u0e14\\u0e22\\u0e07\\u0e1a\\u0e1b\\u0e23\\u0e30\\u0e21\\u0e32\\u0e13\\u0e17\\u0e35\\u0e48\\u0e2d\\u0e19\\u0e38\\u0e21\\u0e31\\u0e15\\u0e34\\u0e19\\u0e35\\u0e49\\u0e44\\u0e21\\u0e48\\u0e2a\\u0e48\\u0e07\\u0e1c\\u0e25\\u0e01\\u0e23\\u0e30\\u0e17\\u0e1a\\u0e15\\u0e48\\u0e2d\\u0e2a\\u0e34\\u0e17\\u0e18\\u0e34\\u0e1b\\u0e23\\u0e30\\u0e42\\u0e22\\u0e02\\u0e19\\u0e4c \\u0e41\\u0e25\\u0e30\\u0e07\\u0e1a\\u0e1b\\u0e23\\u0e30\\u0e21\\u0e32\\u0e13\\u0e43\\u0e19\\u0e23\\u0e30\\u0e1a\\u0e1a\\u0e1b\\u0e01\\u0e15\\u0e34\\u0e41\\u0e15\\u0e48\\u0e2d\\u0e22\\u0e48\\u0e32\\u0e07\\u0e43\\u0e14\",\n          \"\\u0e14\\u0e49\\u0e27\\u0e22\\u0e04\\u0e13\\u0e30\\u0e01\\u0e23\\u0e23\\u0e21\\u0e01\\u0e32\\u0e23\\u0e01\\u0e33\\u0e01\\u0e31\\u0e1a\\u0e01\\u0e34\\u0e08\\u0e01\\u0e32\\u0e23\\u0e1e\\u0e25\\u0e31\\u0e07\\u0e07\\u0e32\\u0e19 \\u0e21\\u0e35\\u0e21\\u0e15\\u0e34\\u0e43\\u0e2b\\u0e49 \\u0e01\\u0e32\\u0e23\\u0e44\\u0e1f\\u0e1f\\u0e49\\u0e32\\u0e2a\\u0e48\\u0e27\\u0e19\\u0e20\\u0e39\\u0e21\\u0e34\\u0e20\\u0e32\\u0e04 \\u0e08\\u0e48\\u0e32\\u0e22\\u0e04\\u0e37\\u0e19\\u0e40\\u0e07\\u0e34\\u0e19\\u0e1c\\u0e25\\u0e1b\\u0e23\\u0e30\\u0e42\\u0e22\\u0e0a\\u0e19\\u0e4c\\u0e08\\u0e32\\u0e01\\u0e40\\u0e07\\u0e34\\u0e19\\u0e1b\\u0e23\\u0e30\\u0e01\\u0e31\\u0e19\\u0e01\\u0e32\\u0e23\\u0e43\\u0e0a\\u0e49\\u0e44\\u0e1f\\u0e1f\\u0e49\\u0e32 \\u0e17\\u0e35\\u0e48\\u0e1c\\u0e39\\u0e49\\u0e43\\u0e0a\\u0e49\\u0e44\\u0e1f\\u0e1f\\u0e49\\u0e32\\u0e27\\u0e32\\u0e07\\u0e40\\u0e1b\\u0e47\\u0e19\\u0e40\\u0e07\\u0e34\\u0e19\\u0e2a\\u0e14\\u0e44\\u0e27\\u0e49\\u0e01\\u0e31\\u0e1a\\u0e01\\u0e32\\u0e23\\u0e44\\u0e1f\\u0e1f\\u0e49\\u0e32\\u0e2a\\u0e48\\u0e27\\u0e19\\u0e20\\u0e39\\u0e21\\u0e34\\u0e20\\u0e32\\u0e04 \\u0e43\\u0e2b\\u0e49\\u0e1c\\u0e39\\u0e49\\u0e43\\u0e0a\\u0e49\\u0e44\\u0e1f\\u0e1f\\u0e49\\u0e32 \\u0e1b\\u0e23\\u0e30\\u0e40\\u0e20\\u0e17\\u0e17\\u0e35\\u0e48 1 \\u0e41\\u0e25\\u0e30 \\u0e1b\\u0e23\\u0e30\\u0e40\\u0e20\\u0e17 2 \\u0e0b\\u0e36\\u0e48\\u0e07\\u0e40\\u0e1b\\u0e47\\u0e19\\u0e1a\\u0e49\\u0e32\\u0e19\\u0e2d\\u0e22\\u0e39\\u0e48\\u0e2d\\u0e32\\u0e28\\u0e31\\u0e22 \\u0e17\\u0e38\\u0e01\\u0e46 5 \\u0e1b\\u0e35 \\u0e40\\u0e23\\u0e34\\u0e48\\u0e21\\u0e15\\u0e31\\u0e49\\u0e07\\u0e41\\u0e15\\u0e48\\u0e1b\\u0e35 2558 \\u0e42\\u0e14\\u0e22\\u0e44\\u0e14\\u0e49\\u0e01\\u0e33\\u0e2b\\u0e19\\u0e14\\u0e27\\u0e34\\u0e18\\u0e35\\u0e01\\u0e32\\u0e23\\u0e08\\u0e48\\u0e32\\u0e22\\u0e04\\u0e37\\u0e19\\u0e40\\u0e07\\u0e34\\u0e19\\u0e1c\\u0e25\\u0e1b\\u0e23\\u0e30\\u0e42\\u0e22\\u0e0a\\u0e19\\u0e4c\\u0e2f \\u0e15\\u0e31\\u0e49\\u0e07\\u0e41\\u0e15\\u0e48\\u0e1b\\u0e35 2558-2562 \\u0e43\\u0e19\\u0e23\\u0e39\\u0e1b\\u0e41\\u0e1a\\u0e1a\\u0e01\\u0e32\\u0e23\\u0e2b\\u0e31\\u0e01\\u0e25\\u0e14\\u0e04\\u0e48\\u0e32\\u0e44\\u0e1f\\u0e1f\\u0e49\\u0e32\\n\\u0e01\\u0e32\\u0e23\\u0e08\\u0e48\\u0e32\\u0e22\\u0e04\\u0e37\\u0e19\\u0e40\\u0e07\\u0e34\\u0e19\\u0e1c\\u0e25\\u0e1b\\u0e23\\u0e30\\u0e42\\u0e22\\u0e0a\\u0e19\\u0e4c\\u0e2f\\u0e43\\u0e19\\u0e04\\u0e23\\u0e31\\u0e49\\u0e07\\u0e41\\u0e23\\u0e01 \\u0e14\\u0e49\\u0e27\\u0e22\\u0e27\\u0e34\\u0e18\\u0e35\\u0e2b\\u0e31\\u0e01\\u0e25\\u0e14\\u0e08\\u0e32\\u0e01\\u0e04\\u0e48\\u0e32\\u0e44\\u0e1f\\u0e1f\\u0e49\\u0e32\\u0e1b\\u0e23\\u0e30\\u0e08\\u0e33\\u0e40\\u0e14\\u0e37\\u0e2d\\u0e19 \\u0e01.\\u0e1e. 2563 \\u0e17\\u0e33\\u0e43\\u0e2b\\u0e49\\u0e43\\u0e19\\u0e40\\u0e14\\u0e37\\u0e2d\\u0e19 \\u0e01.\\u0e1e. 2563 \\u0e1c\\u0e39\\u0e49\\u0e43\\u0e0a\\u0e49\\u0e44\\u0e1f\\u0e1f\\u0e49\\u0e32\\u0e08\\u0e30\\u0e44\\u0e14\\u0e49\\u0e23\\u0e31\\u0e1a\\u0e40\\u0e2d\\u0e01\\u0e2a\\u0e32\\u0e23 \\u0e14\\u0e31\\u0e07\\u0e19\\u0e35\\u0e49\\r\\n\\r\\n1. \\u0e43\\u0e1a\\u0e41\\u0e08\\u0e49\\u0e07\\u0e04\\u0e48\\u0e32\\u0e44\\u0e1f\\u0e1f\\u0e49\\u0e32 \\u0e1b\\u0e23\\u0e30\\u0e08\\u0e33\\u0e40\\u0e14\\u0e37\\u0e2d\\u0e19 \\u0e01.\\u0e1e. 2563 \\u0e17\\u0e35\\u0e48\\u0e41\\u0e2a\\u0e14\\u0e07\\u0e23\\u0e32\\u0e22\\u0e25\\u0e30\\u0e40\\u0e2d\\u0e35\\u0e22\\u0e14\\u0e01\\u0e32\\u0e23\\u0e40\\u0e23\\u0e35\\u0e22\\u0e01\\u0e40\\u0e01\\u0e47\\u0e1a\\u0e40\\u0e07\\u0e34\\u0e19\\u0e04\\u0e48\\u0e32\\u0e44\\u0e1f\\u0e1f\\u0e49\\u0e32 \\u0e20\\u0e32\\u0e22\\u0e2b\\u0e25\\u0e31\\u0e07\\u0e08\\u0e32\\u0e01\\u0e19\\u0e33\\u0e40\\u0e07\\u0e34\\u0e19\\u0e1c\\u0e25\\u0e1b\\u0e23\\u0e30\\u0e42\\u0e22\\u0e0a\\u0e19\\u0e4c\\u0e2f \\u0e44\\u0e1b\\u0e2b\\u0e31\\u0e01\\u0e25\\u0e14\\u0e08\\u0e32\\u0e01\\u0e04\\u0e48\\u0e32\\u0e44\\u0e1f\\u0e1f\\u0e49\\u0e32\\u0e41\\u0e25\\u0e49\\u0e27 \\u0e1c\\u0e39\\u0e49\\u0e43\\u0e0a\\u0e49\\u0e44\\u0e1f\\u0e1f\\u0e49\\u0e32 \\u0e2a\\u0e32\\u0e21\\u0e32\\u0e23\\u0e16\\u0e19\\u0e33 \\u0e43\\u0e1a\\u0e41\\u0e08\\u0e49\\u0e07\\u0e04\\u0e48\\u0e32\\u0e44\\u0e1f\\u0e1f\\u0e49\\u0e32\\u0e15\\u0e32\\u0e21\\u0e17\\u0e35\\u0e48\\u0e41\\u0e08\\u0e49\\u0e07\\u0e40\\u0e23\\u0e35\\u0e22\\u0e01\\u0e40\\u0e01\\u0e47\\u0e1a \\u0e44\\u0e1b\\u0e0a\\u0e33\\u0e23\\u0e30\\u0e40\\u0e07\\u0e34\\u0e19\\u0e04\\u0e48\\u0e32\\u0e44\\u0e1f\\u0e1f\\u0e49\\u0e32 \\u0e44\\u0e14\\u0e49\\u0e15\\u0e32\\u0e21\\u0e0a\\u0e48\\u0e2d\\u0e07\\u0e17\\u0e32\\u0e07\\u0e01\\u0e32\\u0e23\\u0e23\\u0e31\\u0e1a\\u0e0a\\u0e33\\u0e23\\u0e30\\u0e40\\u0e07\\u0e34\\u0e19\\u0e1b\\u0e01\\u0e15\\u0e34\\r\\n2. \\u0e43\\u0e1a\\u0e40\\u0e2a\\u0e23\\u0e47\\u0e08\\u0e23\\u0e31\\u0e1a\\u0e40\\u0e07\\u0e34\\u0e19\\u0e04\\u0e48\\u0e32\\u0e44\\u0e1f\\u0e1f\\u0e49\\u0e32/\\u0e43\\u0e1a\\u0e01\\u0e33\\u0e01\\u0e31\\u0e1a\\u0e20\\u0e32\\u0e29\\u0e35 \\u0e02\\u0e2d\\u0e07\\u0e04\\u0e48\\u0e32\\u0e44\\u0e1f\\u0e1f\\u0e49\\u0e32\\u0e1b\\u0e23\\u0e30\\u0e08\\u0e33\\u0e40\\u0e14\\u0e37\\u0e2d\\u0e19 \\u0e01.\\u0e1e. 2563 (\\u0e1a\\u0e32\\u0e07\\u0e2a\\u0e48\\u0e27\\u0e19) \\u0e40\\u0e1e\\u0e37\\u0e48\\u0e2d\\u0e40\\u0e1b\\u0e47\\u0e19\\u0e2b\\u0e25\\u0e31\\u0e01\\u0e10\\u0e32\\u0e19\\u0e27\\u0e48\\u0e32 \\u0e01\\u0e32\\u0e23\\u0e44\\u0e1f\\u0e1f\\u0e49\\u0e32\\u0e2a\\u0e48\\u0e27\\u0e19\\u0e20\\u0e39\\u0e21\\u0e34\\u0e20\\u0e32\\u0e04 \\u0e44\\u0e14\\u0e49\\u0e23\\u0e31\\u0e1a\\u0e0a\\u0e33\\u0e23\\u0e30\\u0e40\\u0e07\\u0e34\\u0e19\\u0e04\\u0e48\\u0e32\\u0e44\\u0e1f\\u0e1f\\u0e49\\u0e32 \\u0e08\\u0e32\\u0e01\\u0e01\\u0e32\\u0e23\\u0e19\\u0e33\\u0e40\\u0e07\\u0e34\\u0e19\\u0e1c\\u0e25\\u0e1b\\u0e23\\u0e30\\u0e42\\u0e22\\u0e0a\\u0e19\\u0e4c\\u0e40\\u0e07\\u0e34\\u0e19\\u0e1b\\u0e23\\u0e30\\u0e01\\u0e31\\u0e19\\u0e01\\u0e32\\u0e23\\u0e43\\u0e0a\\u0e49\\u0e44\\u0e1f\\u0e1f\\u0e49\\u0e32 \\u0e44\\u0e1b\\u0e0a\\u0e33\\u0e23\\u0e30\\u0e04\\u0e48\\u0e32\\u0e44\\u0e1f\\u0e1f\\u0e49\\u0e32\\u0e1b\\u0e23\\u0e30\\u0e08\\u0e33\\u0e40\\u0e14\\u0e37\\u0e2d\\u0e19 \\u0e01.\\u0e1e. 2563 \\u0e1a\\u0e32\\u0e07\\u0e2a\\u0e48\\u0e27\\u0e19\\u0e41\\u0e25\\u0e49\\u0e27\\r\\n3. \\u0e2b\\u0e32\\u0e01\\u0e1c\\u0e39\\u0e49\\u0e43\\u0e0a\\u0e49\\u0e44\\u0e1f\\u0e1f\\u0e49\\u0e32\\u0e17\\u0e35\\u0e48\\u0e0a\\u0e33\\u0e23\\u0e30\\u0e04\\u0e48\\u0e32\\u0e44\\u0e1f\\u0e1f\\u0e49\\u0e32\\u0e02\\u0e2d\\u0e07\\u0e40\\u0e14\\u0e37\\u0e2d\\u0e19\\u0e01\\u0e48\\u0e2d\\u0e19\\u0e04\\u0e48\\u0e32\\u0e44\\u0e1f\\u0e1f\\u0e49\\u0e32\\u0e1b\\u0e23\\u0e30\\u0e08\\u0e33\\u0e40\\u0e14\\u0e37\\u0e2d\\u0e19 \\u0e01.\\u0e1e. 2563 \\u0e1c\\u0e48\\u0e32\\u0e19 Application \\u0e2b\\u0e31\\u0e01\\u0e1a\\u0e31\\u0e0d\\u0e0a\\u0e35\\u0e18\\u0e19\\u0e32\\u0e04\\u0e32\\u0e23 \\u0e2b\\u0e31\\u0e01\\u0e1a\\u0e31\\u0e0d\\u0e0a\\u0e35\\u0e1a\\u0e31\\u0e15\\u0e23\\u0e40\\u0e04\\u0e23\\u0e14\\u0e34\\u0e15 \\u0e1c\\u0e39\\u0e49\\u0e43\\u0e0a\\u0e49\\u0e44\\u0e1f\\u0e1f\\u0e49\\u0e32 \\u0e08\\u0e30\\u0e44\\u0e14\\u0e49\\u0e23\\u0e31\\u0e1a\\u0e43\\u0e1a\\u0e40\\u0e2a\\u0e23\\u0e47\\u0e08\\u0e23\\u0e31\\u0e1a\\u0e40\\u0e07\\u0e34\\u0e19\\u0e04\\u0e48\\u0e32\\u0e44\\u0e1f\\u0e1f\\u0e49\\u0e32/\\u0e43\\u0e1a\\u0e01\\u0e33\\u0e01\\u0e31\\u0e1a\\u0e20\\u0e32\\u0e29\\u0e35\\u0e02\\u0e2d\\u0e07\\u0e04\\u0e48\\u0e32\\u0e44\\u0e1f\\u0e1f\\u0e49\\u0e32\\u0e40\\u0e14\\u0e37\\u0e2d\\u0e19\\u0e17\\u0e35\\u0e48\\u0e0a\\u0e33\\u0e23\\u0e30\\u0e01\\u0e48\\u0e2d\\u0e19\\u0e2b\\u0e19\\u0e49\\u0e32\\u0e40\\u0e1e\\u0e34\\u0e48\\u0e21\\u0e2d\\u0e35\\u0e01 1 \\u0e09\\u0e1a\\u0e31\\u0e1a\",\n          \"\\u0e27\\u0e31\\u0e19\\u0e19\\u0e35\\u0e49 (17 \\u0e40\\u0e21.\\u0e22.) \\u0e28\\u0e39\\u0e19\\u0e22\\u0e4c\\u0e15\\u0e48\\u0e2d\\u0e15\\u0e49\\u0e32\\u0e19\\u0e02\\u0e48\\u0e32\\u0e27\\u0e1b\\u0e25\\u0e2d\\u0e21 \\u0e1b\\u0e23\\u0e30\\u0e40\\u0e17\\u0e28\\u0e44\\u0e17\\u0e22 \\u0e40\\u0e1b\\u0e34\\u0e14\\u0e40\\u0e1c\\u0e22\\u0e27\\u0e48\\u0e32 \\u0e15\\u0e32\\u0e21\\u0e17\\u0e35\\u0e48\\u0e44\\u0e14\\u0e49\\u0e21\\u0e35\\u0e02\\u0e48\\u0e32\\u0e27\\u0e1b\\u0e23\\u0e32\\u0e01\\u0e0f\\u0e43\\u0e19\\u0e2a\\u0e37\\u0e48\\u0e2d\\u0e15\\u0e48\\u0e32\\u0e07 \\u0e46 \\u0e40\\u0e01\\u0e35\\u0e48\\u0e22\\u0e27\\u0e01\\u0e31\\u0e1a\\u0e1b\\u0e23\\u0e30\\u0e40\\u0e14\\u0e47\\u0e19\\u0e40\\u0e23\\u0e37\\u0e48\\u0e2d\\u0e07\\u0e04\\u0e23\\u0e21. \\u0e2d\\u0e19\\u0e38\\u0e21\\u0e31\\u0e15\\u0e34 \\u0e17\\u0e17\\u0e17. \\u0e02\\u0e22\\u0e32\\u0e22\\u0e40\\u0e27\\u0e25\\u0e32\\u0e14\\u0e33\\u0e40\\u0e19\\u0e34\\u0e19\\u0e42\\u0e04\\u0e23\\u0e07\\u0e01\\u0e32\\u0e23 Thailand Festival Experience \\u0e17\\u0e32\\u0e07\\u0e28\\u0e39\\u0e19\\u0e22\\u0e4c\\u0e15\\u0e48\\u0e2d\\u0e15\\u0e49\\u0e32\\u0e19\\u0e02\\u0e48\\u0e32\\u0e27\\u0e1b\\u0e25\\u0e2d\\u0e21\\u0e44\\u0e14\\u0e49\\u0e15\\u0e23\\u0e27\\u0e08\\u0e2a\\u0e2d\\u0e1a\\u0e02\\u0e49\\u0e2d\\u0e40\\u0e17\\u0e47\\u0e08\\u0e08\\u0e23\\u0e34\\u0e07\\u0e42\\u0e14\\u0e22\\u0e01\\u0e23\\u0e21\\u0e1b\\u0e23\\u0e30\\u0e0a\\u0e32\\u0e2a\\u0e31\\u0e21\\u0e1e\\u0e31\\u0e19\\u0e18\\u0e4c \\u0e2a\\u0e33\\u0e19\\u0e31\\u0e01\\u0e19\\u0e32\\u0e22\\u0e01\\u0e23\\u0e31\\u0e10\\u0e21\\u0e19\\u0e15\\u0e23\\u0e35 \\u0e1e\\u0e1a\\u0e27\\u0e48\\u0e32\\u0e02\\u0e49\\u0e2d\\u0e21\\u0e39\\u0e25\\u0e14\\u0e31\\u0e07\\u0e01\\u0e25\\u0e48\\u0e32\\u0e27 \\u0e40\\u0e1b\\u0e47\\u0e19\\u0e02\\u0e49\\u0e2d\\u0e21\\u0e39\\u0e25\\u0e08\\u0e23\\u0e34\\u0e07\\r\\n\\r\\n\\u0e04\\u0e23\\u0e21. \\u0e44\\u0e14\\u0e49\\u0e2d\\u0e19\\u0e38\\u0e21\\u0e31\\u0e15\\u0e34\\u0e43\\u0e2b\\u0e49\\u0e01\\u0e32\\u0e23\\u0e17\\u0e48\\u0e2d\\u0e07\\u0e40\\u0e17\\u0e35\\u0e48\\u0e22\\u0e27\\u0e41\\u0e2b\\u0e48\\u0e07\\u0e1b\\u0e23\\u0e30\\u0e40\\u0e17\\u0e28\\u0e44\\u0e17\\u0e22 \\u0e01\\u0e23\\u0e30\\u0e17\\u0e23\\u0e27\\u0e07\\u0e01\\u0e32\\u0e23\\u0e17\\u0e48\\u0e2d\\u0e07\\u0e40\\u0e17\\u0e35\\u0e48\\u0e22\\u0e27\\u0e41\\u0e25\\u0e30\\u0e01\\u0e35\\u0e2c\\u0e32\\u0e40\\u0e1b\\u0e25\\u0e35\\u0e48\\u0e22\\u0e19\\u0e41\\u0e1b\\u0e25\\u0e07\\u0e23\\u0e32\\u0e22\\u0e25\\u0e30\\u0e40\\u0e2d\\u0e35\\u0e22\\u0e14\\u0e17\\u0e35\\u0e48\\u0e40\\u0e1b\\u0e47\\u0e19\\u0e2a\\u0e32\\u0e23\\u0e30\\u0e2a\\u0e33\\u0e04\\u0e31\\u0e0d\\u0e02\\u0e2d\\u0e07\\u0e42\\u0e04\\u0e23\\u0e07\\u0e01\\u0e32\\u0e23 Thailand Festival Experience \\u0e43\\u0e19 3 \\u0e42\\u0e04\\u0e23\\u0e07\\u0e01\\u0e32\\u0e23\\u0e22\\u0e48\\u0e2d\\u0e22 \\u0e42\\u0e14\\u0e22\\u0e43\\u0e2b\\u0e49\\u0e02\\u0e22\\u0e32\\u0e22\\u0e23\\u0e30\\u0e22\\u0e30\\u0e40\\u0e27\\u0e25\\u0e32\\u0e42\\u0e04\\u0e23\\u0e07\\u0e01\\u0e32\\u0e23\\u0e08\\u0e32\\u0e01\\u0e40\\u0e14\\u0e34\\u0e21\\u0e17\\u0e35\\u0e48\\u0e2a\\u0e34\\u0e49\\u0e19\\u0e2a\\u0e38\\u0e14\\u0e40\\u0e14\\u0e37\\u0e2d\\u0e19\\u0e40\\u0e14\\u0e37\\u0e2d\\u0e19 \\u0e40\\u0e21.\\u0e22. 2565 \\u0e40\\u0e1b\\u0e47\\u0e19\\u0e2a\\u0e34\\u0e49\\u0e19\\u0e2a\\u0e38\\u0e14\\u0e40\\u0e14\\u0e37\\u0e2d\\u0e19 \\u0e01.\\u0e04. 2565 \\u0e1e\\u0e23\\u0e49\\u0e2d\\u0e21\\u0e01\\u0e31\\u0e1a\\u0e40\\u0e1b\\u0e25\\u0e35\\u0e48\\u0e22\\u0e19\\u0e41\\u0e1b\\u0e25\\u0e07\\u0e1e\\u0e37\\u0e49\\u0e19\\u0e17\\u0e35\\u0e48\\u0e01\\u0e32\\u0e23\\u0e08\\u0e31\\u0e14\\u0e07\\u0e32\\u0e19\\u0e43\\u0e19\\u0e41\\u0e15\\u0e48\\u0e25\\u0e30\\u0e01\\u0e34\\u0e08\\u0e01\\u0e23\\u0e23\\u0e21\\u0e43\\u0e2b\\u0e49\\u0e04\\u0e23\\u0e2d\\u0e1a\\u0e04\\u0e25\\u0e38\\u0e21\\u0e40\\u0e21\\u0e37\\u0e2d\\u0e07\\u0e2b\\u0e25\\u0e31\\u0e01\\u0e17\\u0e32\\u0e07\\u0e01\\u0e32\\u0e23\\u0e17\\u0e48\\u0e2d\\u0e07\\u0e40\\u0e17\\u0e35\\u0e48\\u0e22\\u0e27\\u0e1b\\u0e23\\u0e30\\u0e40\\u0e17\\u0e28 \\u0e23\\u0e27\\u0e21\\u0e16\\u0e36\\u0e07\\u0e40\\u0e1b\\u0e25\\u0e35\\u0e48\\u0e22\\u0e19\\u0e41\\u0e1b\\u0e25\\u0e07\\u0e0a\\u0e37\\u0e48\\u0e2d\\u0e42\\u0e04\\u0e23\\u0e07\\u0e01\\u0e32\\u0e23\\u0e41\\u0e25\\u0e30\\u0e01\\u0e34\\u0e08\\u0e01\\u0e23\\u0e23\\u0e21\\u0e20\\u0e32\\u0e22\\u0e43\\u0e15\\u0e49\\u0e42\\u0e04\\u0e23\\u0e07\\u0e01\\u0e32\\u0e23\\u0e22\\u0e48\\u0e2d\\u0e22 3 \\u0e42\\u0e04\\u0e23\\u0e07\\u0e01\\u0e32\\u0e23 \\u0e1b\\u0e23\\u0e30\\u0e01\\u0e2d\\u0e1a\\u0e14\\u0e49\\u0e27\\u0e22\\r\\n\\r\\n1.\\u0e42\\u0e04\\u0e23\\u0e07\\u0e01\\u0e32\\u0e23 Dazzling of The Andaman \\u0e40\\u0e1b\\u0e25\\u0e35\\u0e48\\u0e22\\u0e19\\u0e0a\\u0e37\\u0e48\\u0e2d\\u0e40\\u0e1b\\u0e47\\u0e19 Dazzling of the Art\\r\\n\\r\\n2.\\u0e42\\u0e04\\u0e23\\u0e07\\u0e01\\u0e32\\u0e23 Music Festival & Rhythm in Memory \\u0e40\\u0e1b\\u0e25\\u0e35\\u0e48\\u0e22\\u0e19\\u0e0a\\u0e37\\u0e48\\u0e2d\\u0e01\\u0e34\\u0e08\\u0e01\\u0e23\\u0e23\\u0e21\\u0e22\\u0e48\\u0e2d\\u0e22 Beach music festival \\u0e40\\u0e1b\\u0e47\\u0e19 Music Heritage festival\\r\\n\\r\\n3.\\u0e42\\u0e04\\u0e23\\u0e07\\u0e01\\u0e32\\u0e23 Music Festival & Rhythm in Memory \\u0e40\\u0e1b\\u0e25\\u0e35\\u0e48\\u0e22\\u0e19\\u0e0a\\u0e37\\u0e48\\u0e2d\\u0e01\\u0e34\\u0e08\\u0e01\\u0e23\\u0e23\\u0e21\\u0e22\\u0e48\\u0e2d\\u0e22 Rock on the Boat Music Festival \\u0e40\\u0e1b\\u0e47\\u0e19 Rock on the Beach Music Festival\\r\\n\"\n        ],\n        \"semantic_type\": \"\",\n        \"description\": \"\"\n      }\n    },\n    {\n      \"column\": \"class\",\n      \"properties\": {\n        \"dtype\": \"number\",\n        \"std\": 0,\n        \"min\": 0,\n        \"max\": 1,\n        \"num_unique_values\": 2,\n        \"samples\": [\n          1,\n          0\n        ],\n        \"semantic_type\": \"\",\n        \"description\": \"\"\n      }\n    }\n  ]\n}"
            }
          },
          "metadata": {},
          "execution_count": 70
        }
      ]
    },
    {
      "cell_type": "code",
      "source": [
        "#prevalence\n",
        "print(train_df[\"category\"].value_counts() / train_df.shape[0])"
      ],
      "metadata": {
        "colab": {
          "base_uri": "https://localhost:8080/"
        },
        "id": "SEgds2jo0eo0",
        "outputId": "8be1c243-8694-4b18-fe80-bccec792ceca"
      },
      "execution_count": 85,
      "outputs": [
        {
          "output_type": "stream",
          "name": "stdout",
          "text": [
            "category\n",
            "neu    0.544612\n",
            "neg    0.255164\n",
            "pos    0.178698\n",
            "q      0.021527\n",
            "Name: count, dtype: float64\n"
          ]
        }
      ]
    },
    {
      "cell_type": "code",
      "source": [
        "#prevalence\n",
        "print(valid_df[\"body\"].value_counts() / valid_df.shape[0])"
      ],
      "metadata": {
        "colab": {
          "base_uri": "https://localhost:8080/"
        },
        "id": "FZE01MN80peX",
        "outputId": "5cb49467-f932-4d55-ce29-a7c24e40eab2"
      },
      "execution_count": 87,
      "outputs": [
        {
          "output_type": "stream",
          "name": "stdout",
          "text": [
            "body\n",
            "ปลัดมหาดไทย เผยคืบหน้าการแก้ปัญหาหนี้นอกระบบ ล่าสุด เข้าสู่กระบวนการไกล่เกลี่ยแล้ว 32,418 ราย สามารถไกล่เกลี่ยสำเร็จ 21,249 ราย มูลหนี้ลดลง 870 ล้านบาท กำชับดำเนินการให้ครบทุกจังหวัด พร้อมส่งเสริมต่อยอดสร้างอาชีพ ไม่ให้กลับไปสู่วงจรนี้อีก วันที่ 13 มีนาคม 2567 นายสุทธิพงษ์ จุลเจริญ ปลัดกระทรวงมหาดไทย เปิดเผยว่า ภายหลังจากกระทรวงมหาดไทยเปิดรับลงทะเบียนให้ประชาชนที่มีความประสงค์ให้ทางราชการช่วยแก้ไขปัญหาหนี้นอกระบบตามนโยบายรัฐบาล โดยมีผู้มาลงทะเบียนทั้งสิ้น 153,400 ราย กระทรวงมหาดไทยจึงได้แจ้งให้ทุกจังหวัด อำเภอ เดินหน้าแก้ไขปัญหาหนี้นอกระบบอย่างต่อเนื่อง ด้วยการเชิญเจ้าหนี้และลูกหนี้มาเข้าสู่กระบวนการเจรจาไกล่เกลี่ยหนี้ โดยเมื่อเวลา 15.00 น.ที่ผ่านมา สำนักการสอบสวนและนิติการ กรมการปกครอง รายงานข้อมูลการไกล่เกลี่ยหนี้ทั่วประเทศ มีจำนวนลูกหนี้เข้าสู่กระบวนการไกล่เกลี่ยแล้ว 32,418 ราย สามารถไกล่เกลี่ยสำเร็จ 21,249 ราย มูลหนี้ลดลงรวม 870.522 ล้านบาท และมีกรณีที่เจ้าหนี้-ลูกหนี้มีความประสงค์ให้เจ้าหน้าที่ได้ส่งต่อเรื่องไปยังพนักงานสอบสวนของสถานีตำรวจในพื้นที่ดำเนินคดี 347 คดี                                                                                                                                                                                                                                                                                                                                                                                                                                                                                                                                                                                                                                                                                                                                                                                                                                                                                                                                                                                                                                                                                                                                                                                                                                                                                                                                                                                                                                                                                                                                                                                     0.003774\n",
            "กรมอุตุนิยมวิทยาได้ออกประกาศฉบับที่ 5 เมื่อวันที่ 10 พฤษภาคม 2563 เตือนประชาชนว่าในช่วงวันที่ 10-13 พฤษภาคม 2563 นี้ จะเกิดพายุฤดูร้อน เนื่องจากบริเวณความกดอากาศสูงจากประเทศจีนจะแผ่ลงมาปกคลุมประเทศไทยตอนบน และทะเลจีนใต้ ประกอบกับมีลมใต้ และลมตะวันออกเฉียงใต้พัดนำความชื้นเข้ามาปกคลุมประเทศไทยตอนบน ในขณะที่ประเทศไทยมีอากาศร้อนถึงร้อนจัด ทำให้บริเวณดังกล่าวจะมีพายุฤดูร้อนเกิดขึ้น โดยมีลักษณะของพายุฝนฟ้าคะนอง ลมกระโชกแรง กับมีลูกเห็บตกบางพื้นที่ รวมถึงฟ้าผ่าที่อาจจะเกิดขึ้นได้ จึงขอให้ประชาชนในบริเวณดังกล่าวระวังอันตรายจากพายุฤดูร้อนที่จะเกิดขึ้น โดยหลีกเลี่ยงการอยู่ในที่โล่งแจ้ง ใต้ต้นไม้ใหญ่ ป้ายโฆษณา และสิ่งปลูกสร้างที่ไม่แข็งแรง\\r\\n\\r\\nส่วนจังหวัดที่คาดว่าจะได้รับผลกระทบ มีดังนี้\\r\\n\\r\\nวันที่ 10 พฤษภาคม 2563\\r\\nภาคเหนือ : จังหวัดแม่ฮ่องสอน เชียงใหม่ เชียงราย พะเยา น่าน แพร่ ลำพูน ลำปาง อุตรดิตถ์ สุโขทัย พิษณุโลก ตาก กำแพงเพชร พิจิตร และเพชรบูรณ์\\r\\nภาคตะวันออกเฉียงเหนือ : จังหวัดเลย หนองบัวลำภู อุดรธานี หนองคาย บึงกาฬ สกลนคร นครพนม ชัยภูมิ ขอนแก่น กาฬสินธุ์ มุกดาหาร มหาสารคาม ร้อยเอ็ด ยโสธร อำนาจเจริญ นครราชสีมา บุรีรัมย์ สุรินทร์ ศรีสะเกษ และอุบลราชธานี\\r\\nภาคกลาง : จังหวัดนครสวรรค์ ลพบุรี สระบุรี ชัยนาท อ่างทอง สิงห์บุรี พระนครศรีอยุธยา อุทัยธานี สุพรรณบุรี และกาญจนบุรี\\r\\nภาคตะวันออก : จังหวัดนครนายก ปราจีนบุรี สระแก้ว ฉะเชิงเทรา ชลบุรี ระยอง จันทบุรี และตราด\\r\\n\\r\\nวันที่ 11-12 พฤษภาคม 2563\\r\\nภาคเหนือ : จังหวัดแม่ฮ่องสอน เชียงใหม่ เชียงราย พะเยา น่าน แพร่ ลำพูน ลำปาง อุตรดิตถ์ สุโขทัย พิษณุโลก ตาก กำแพงเพชร พิจิตร และเพชรบูรณ์\\r\\nภาคตะวันออกเฉียงเหนือ : จังหวัดเลย หนองบัวลำภู อุดรธานี หนองคาย บึงกาฬ สกลนคร นครพนม ชัยภูมิ ขอนแก่น กาฬสินธุ์ มุกดาหาร มหาสารคาม ร้อยเอ็ด ยโสธร อำนาจเจริญ นครราชสีมา บุรีรัมย์ สุรินทร์ ศรีสะเกษ และอุบลราชธานี\\r\\nภาคกลาง : จังหวัดนครสวรรค์ ลพบุรี สระบุรี ชัยนาท อ่างทอง สิงห์บุรี พระนครศรีอยุธยา อุทัยธานีสุพรรณบุรี กาญจนบุรี สมุทรสาคร สมุทรสงคราม และราชบุรี รวมทั้งกรุงเทพมหานครและปริมณฑล\\r\\nภาคตะวันออก: จังหวัดนครนายก ปราจีนบุรี สระแก้ว ฉะเชิงเทรา ชลบุรี ระยอง จันทบุรี และตราด\\r\\n\\r\\nวันที่ 13 พฤษภาคม 2563\\r\\nภาคเหนือ : จังหวัดแม่ฮ่องสอน เชียงใหม่ เชียงราย พะเยา น่าน แพร่ ลำพูน ลำปาง อุตรดิตถ์ สุโขทัย พิษณุโลก ตาก กำแพงเพชร พิจิตร และเพชรบูรณ์\\r\\nภาคตะวันออกเฉียงเหนือ : จังหวัดเลย หนองบัวลำภู หนองคาย อุดรธานี ชัยภูมิ ขอนแก่น กาฬสินธุ์ มหาสารคาม ร้อยเอ็ด ยโสธร อำนาจเจริญ นครราชสีมา บุรีรัมย์ สุรินทร์ ศรีสะเกษ และอุบลราชธานี\\r\\nภาคกลาง : จังหวัดนครสวรรค์ ลพบุรี สระบุรี ชัยนาท อ่างทอง สิงห์บุรี พระนครศรีอยุธยา อุทัยธานี สุพรรณบุรี และกาญจนบุรี\\r\\nภาคตะวันออก : จังหวัดนครนายก ปราจีนบุรี สระแก้ว ฉะเชิงเทรา ชลบุรี ระยอง จันทบุรี และตราด    0.002516\n",
            "กรมสนับสนุนบริการสุขภาพ เตือนการออกหน่วยใบบริการตรวจคัดกรองโควิด-19 ของสถานพยาบาลเอกชน ต้องให้บริการในที่พัก หรือสถานที่กักกัน ห้ามตั้งจุดบริการฯ ในพื้นที่สาธารณะ ซึ่งอธิบดีกรมสนับสนุนบริการสุขภาพ (สบส.) กระทรวงสาธารณสุข ได้เคยออกประกาศ เรื่อง “แนวทางการให้บริการตรวจคัดกรอง และตรวจทางห้องปฏิบัติการเพื่อยืนยันการติดเชื้อไวรัสโคโรนา 2019 (COVID-19) นอกสถานพยาบาล” กำหนดให้สถานพยาบาลเอกชนสามารถออกให้บริการตรวจคัดกรอง และตรวจทางห้องปฏิบัติการเพื่อยืนยันการติดเชื้อโควิด-19 นอกสถานพยาบาล เพื่อป้องกัน และควบคุมการแพร่ระบาดของโรคติดต่ออันตราย อีกทั้งเป็นการอำนวยความสะดวกให้แก่ประชาชน แต่ก็ยังพบว่ามีสถานพยาบาลเอกชนบางแห่งยังดำเนินการไม่ถูกต้องตามเงื่อนไขประกาศกระทรวงสาธารณสุขฯ จัดตั้งจุดบริการตรวจโรคโควิด-19 ในพื้นที่สาธารณะ อย่างเช่น หน้าห้างสรรพสินค้า หรือปั๊มน้ำมัน ฯลฯ ซึ่งมีประชาชนสัญจรอย่างพลุกพล่าน ทำให้เกิดความเสี่ยงการแพร่กระจายของเชื้อ และหากผู้ป่วยโรคโควิด-19 เดินทางออกมารับบริการก็อาจจะเกิดการแพร่กระจายของเชื้อระหว่างการเดินทางได้ ส่งผลให้หน่วยบริการตรวจคัดกรองฯ ที่ควรเป็นด่านหน้าในการป้องกันการแพร่ระบาดของโรคกลับกลายเป็นจุดแพร่กระจายเชื้อ อีกทั้งอาจจะส่งผลให้การเก็บสิ่งส่งตรวจไม่เป็นไปตามมาตรฐาน\\r\\n\\r\\nหากกรม สบส.หรือสำนักงานสาธารณสุขในพื้นที่ตรวจพบจะดำเนินการเอาผิดตามพระราชบัญญัติสถานพยาบาล พ.ศ.2541 ทันที โดยผู้ดำเนินการสถานพยาบาลจะถือว่ามีความผิดในฐานไม่ควบคุม และดูแลให้ผู้ประกอบวิชาชีพในสถานพยาบาลปฏิบัติหน้าที่ตามกฎหมายเกี่ยวกับการประกอบวิชาชีพของตน ต้องระวางโทษจำคุกไม่เกิน 1 ปี หรือปรับไม่เกิน 20,000 บาท หรือทั้งจำทั้งปรับ และหากตรวจพบว่าผู้ให้บริการมิใช่ผู้ประกอบวิชาชีพเวชกรรม หรือผู้ประกอบวิชาชีพเทคนิคการแพทย์ จะถือว่ามีความผิดตามพระราชบัญญัติวิชาชีพเวชกรรม พ.ศ.2525 ฐานประกอบวิชาชีพเวชกรรมโดยไม่ได้ขึ้นทะเบียนและรับอนุญาต ต้องระวางโทษจำคุกไม่เกิน 3 ปี หรือปรับไม่เกิน 30,000 บาท หรือทั้งจำทั้งปรับ และพระราชบัญญัติวิชาชีพเทคนิคการแพทย์ พ.ศ.2547 ฐานประกอบวิชาชีพเทคนิคการแพทย์โดยไม่ได้ขึ้นทะเบียนและรับอนุญาต ต้องระวางโทษจำคุกไม่เกิน 3 ปี หรือปรับไม่เกิน 60,000 บาท หรือทั้งจำทั้งปรับ                                                                                                                                                                                                                                                                                                                                                                                                                                                                                                                                                                                                               0.002516\n",
            "จากกรณีที่มีการเผยแพร่ข้อมูลเกี่ยวกับเรื่องใช้น้ำปัสสาวะหยอดจมูก สามารถลดความร้อนในโพรงจมูกและไม่ทำให้น้ำมูกแข็งตัว และหยอดตาเพื่อรักษาโรคทางตาทุกชนิด ทางโรงพยาบาลราชวิถี กรมการแพทย์ กระทรวงสาธารณสุข ได้ตรวจสอบโพสต์ดังกล่าวและชี้แจงข้อเท็จจริงว่า ในเอกสารทางการแพทย์แผนปัจจุบันไม่มีการใช้หรือแนะนำให้ใช้ปัสสาวะในการหยอดตาหรือหยอดจมูกเพื่อรักษาโรคทางตาทุกชนิดเนื่องจากไม่มีฤทธิ์ในการรักษาหรือป้องกันอาการทางตา นอกจากนี้ผู้ที่ใช้ปัสสาวะหยอดตาจะมีความเสี่ยงต่อการติดเชื้อโรคจากปัสสาวะเช่น เชื้อหนองใน ซึ่งอาจร้ายแรงถึงขั้นตาบอดถาวรได้ และในส่วนของการหยอดจมูกก็ไม่พบหลักฐานสนับสนุนการนำปัสสาวะมาใช้เช่นกัน                                                                                                                                                                                                                                                                                                                                                                                                                                                                                                                                                                                                                                                                                                                                                                                                                                                                                                                                                                                                                                                                                                                                                                                                                                                                                                                                                                                                                                                                                                                                                                                                                                                                                                                                                                                                                                                                                                                                                                                    0.002516\n",
            "สำนักงานประชาสัมพันธ์ กรุงเทพมหานคร ได้ประชาสัมพันธ์การทำงานของสำนักงานเขตพื้นที่ต่างๆ หลังจากกรุงเทพมหานคร ได้ออกประกาศกรุงเทพมหานคร เรื่อง สั่งปิดสถานที่เป็นการชั่วคราว ฉบับที่ 4 ฉบับที่ 5 และ ฉบับที่ 6 เพื่อควบคุม และป้องกันการแพร่กระจายของเชื้อโควิด-19 ซึ่งหากฝ่าฝืนอาจต้องระวางโทษจำคุกไม่เกินหนึ่งปี หรือปรับไม่เกินหนึ่งแสนบาท หรือทั้งจำทั้งปรับ ตามมาตรา 52 แห่ง พ.ร.บ.โรคติดต่อ พ.ศ. 2558 และอาจต้องระวางโทษจำคุกไม่เกินสองปี ปรับไม่เกินสี่หมื่นบาท หรือทั้งจำทั้งปรับ ตามมาตรา 18 แห่ง พ.ร.ก.ฉุกเฉิน พ.ศ. 2548 โดยมีการรายงานการทำงาน เช่น\\r\\n\\r\\n1. สำนักงานเขตพระโขนง ตรวจสถานบริการร้านค้า บริเวณถนนสุขุมวิทในพื้นที่ (ขาเข้า – ขาออก) จำนวน 7 ร้าน ไม่พบร้านฝ่าฝืน\\r\\n\\r\\n2. สำนักงานเขตสาทร ตรวจเข้มมาตรการ ห้ามจำหน่ายสุราและเครื่องดื่มแอลกอฮอล์ทุกชนิด ทั้งขายปลีกและขายส่ง ตั้งแต่วันที่ 10-20 เม.ย.63 ณ บริเวณพื้นที่ร้านค้าย่าน ซอยสาทร 11 ถนนสวนพลู ถนนจันทน์ ถนนเย็นจิต\\r\\n\\r\\n3. สำนักงานเขตบางนา ตรวจสอบการปฏิบัติตามประกาศกรุงเทพมหานคร เรื่อง สั่งปิดสถานที่เป็นการชั่วคราว ในกลุ่มเป้าหมายสถานบริการและสถานประกอบการที่คล้ายสถานบริการ สถานประกอบการ อาบ อบ นวด ประกอบกิจการสถานที่ออกกำลังกาย และประชาสัมพันธ์ร้านค้าสะดวกซื้อห้ามขายสุรา ในพื้นที่เขตบางนา                                                                                                                                                                                                                                                                                                                                                                                                                                                                                                                                                                                                                                                                                                                                                                                                                                                                                                                                                                                                                                                                                                                                                                                                                                                                                                                                                                                                             0.002516\n",
            "                                                                                                                                                                                                                                                                                                                                                                                                                                                                                                                                                                                                                                                                                                                                                                                                                                                                                                                                                                                                                                                                                                                                                                                                                                                                                                                                                                                                                                                                                                                                                                                                                                                                                                                                                                                                                                                                                                                                                                                                                                                                                                                                                                                                                                                                                                                                                                                                                                                                                                                                                                                                               ...   \n",
            "ตามที่มีการเผยแพร่ข้อมูลในสื่อออนไลน์เรื่อง อุจจาระผิดปกติวันละ 3-4 ครั้ง เสี่ยงสมองส่วนรับรู้เสียหาย ทางศูนย์ต่อต้านข่าวปลอมได้ดำเนินการตรวจสอบโดยโรงพยาบาลราชวิถี กรมการแพทย์ กระทรวงสาธารณสุข พบว่าประเด็นดังกล่าวนั้น เป็นข้อมูลเท็จ\\r\\nจากที่มีผู้โพสต์ให้คำแนะนำสุขภาพว่า อุจจาระผิดปกติวันละ 3-4 ครั้ง เสี่ยงสมองส่วนรับรู้เสียหายนั้น ทางโรงพยาบาลราชวิถี กรมการแพทย์ กระทรวงสาธารณสุข ได้ตรวจสอบข้อมูลและชี้แจงว่า ไม่มีข้อมูลทางวิชาการแพทย์แผนปัจจุบันใดที่อธิบายความสัมพันธ์ของอาการอุจจาระผิดปกติกับการเสียหายของสมองว่าไม่มีความสัมพันธ์เชื่อมต่อกัน                                                                                                                                                                                                                                                                                                                                                                                                                                                                                                                                                                                                                                                                                                                                                                                                                                                                                                                                                                                                                                                                                                                                                                                                                                                                                                                                                                                                                                                                                                                                                                                                                                                                                                                                                                                                                                                                                                                                                                                                                                           0.001258\n",
            "ตามที่ได้มีข้อมูลปรากฏในสื่อออนไลน์ต่าง ๆ เกี่ยวกับเรื่องดื่มน้ำอุ่นแช่มะนาวฝานช่วยรักษามะเร็ง ทางศูนย์ต่อต้านข่าวปลอมได้ตรวจสอบข้อเท็จจริงกับสถาบันมะเร็งแห่งชาติ กรมการแพทย์ กระทรวงสาธารณสุข พบว่าข้อมูลดังกล่าว เป็นข้อมูลเท็จ\\r\\n\\r\\nหลังจากที่มีการแนะนำโดยระบุว่า ดื่มน้ำอุ่นแช่มะนาวฝานช่วยรักษามะเร็ง ทางสถาบันมะเร็งแห่งชาติ กรมการแพทย์ กระทรวงสาธารณสุข ได้ตรวจสอบข้อมูลและชี้แจงว่า ดื่มน้ำอุ่นแช่มะนาวฝานไม่ได้มีคุณสมบัติในการที่จะไปยังยั้งหรือฆ่าเซลล์มะเร็งแต่อย่างใด และจากข่าวที่บอกว่า น้ำอุ่นแช่มะนาวฝานจะเป็นด่าง จากการทดลองโดยใช้เครื่องวัดความเป็นกรดด่างพบว่า น้ำมะนาวในน้ำต้มสุกมีค่า PH 3.17 ไม่ได้เป็นด่างอย่างที่กล่าว                                                                                                                                                                                                                                                                                                                                                                                                                                                                                                                                                                                                                                                                                                                                                                                                                                                                                                                                                                                                                                                                                                                                                                                                                                                                                                                                                                                                                                                                                                                                                                                                                                                                                                                                                                                                                                                                                                                                                        0.001258\n",
            "ตามที่มีข่าวสารในประเด็นเรื่อง ก.ล.ต. ชวนลงทุนหุ้นทองคำให้ผลตอบแทนสูง เปิดพอร์ตเริ่มต้น 1,000 บาท ทางศูนย์ต่อต้านข่าวปลอมได้ดำเนินการตรวจสอบข้อเท็จจริงกับทางสำนักงานคณะกรรมการกำกับหลักทรัพย์และตลาดหลักทรัพย์ (ก.ล.ต.) พบว่าข้อมูลดังกล่าว เป็นข้อมูลเท็จ\\r\\n\\r\\nจากที่มีผู้โพสต์โฆษณาเชิญชวนว่า เพจเฟซบุ๊กชักชวนลงทุนโดยบริษัทที่เกี่ยวข้องในตลาดทุน เริ่มต้นลงทุนน้อย และให้ผลตอบแทนสูง เปิดพอร์ตเริ่มต้น 1,000 บาท ทางสำนักงานคณะกรรมการกำกับหลักทรัพย์และตลาดหลักทรัพย์ (ก.ล.ต.) ได้ตรวจสอบข้อมูลและชี้แจงว่า เป็นการให้ข้อมูลลงทุนโดยแอบอ้างใช้ชื่อบริษัทที่เกี่ยวข้องในตลาดทุนและโลโก ก.ล.ต. โดยไม่ได้รับอนุญาต                                                                                                                                                                                                                                                                                                                                                                                                                                                                                                                                                                                                                                                                                                                                                                                                                                                                                                                                                                                                                                                                                                                                                                                                                                                                                                                                                                                                                                                                                                                                                                                                                                                                                                                                                                                                                                                                                                                                                                                      0.001258\n",
            "จากที่มีการปรากฏข้อมูลบนสื่อออนไลน์เรื่องตลาดหลักทรัพย์ฯ ร่วมกับ LGT เปิดลงทุนราคาต่ำปันผล 5-35% ต่อวัน ทางศูนย์ต่อต้านข่าวปลอมได้ดำเนินการตรวจสอบข้อเท็จจริงโดยตลาดหลักทรัพย์แห่งประเทศไทย พบว่าเพจดังกล่าว เป็นข้อมูลเท็จ\\r\\nจากที่มีการโพสต์เชิญชวนโดยระบุว่า ตลาดหลักทรัพย์ฯ ร่วมกับ LGT เปิดโอกาสให้ลงทุน เริ่มต้นเพียง 1,030 บาท ปันผล 5-35% ต่อวัน ทางตลาดหลักทรัพย์แห่งประเทศไทย ได้ตรวจสอบข้อมูลและชี้แจงว่า เพจดังกล่าวเป็นเพจปลอมที่มีการแอบอ้างชื่อ และโลโกตลาดหลักทรัพย์แห่งประเทศไทย (SET)                                                                                                                                                                                                                                                                                                                                                                                                                                                                                                                                                                                                                                                                                                                                                                                                                                                                                                                                                                                                                                                                                                                                                                                                                                                                                                                                                                                                                                                                                                                                                                                                                                                                                                                                                                                                                                                                                                                                                                                                                                                                                                     0.001258\n",
            "ภายหลังจากที่การรถไฟแห่งประเทศไทย ร่วมกับสถาบันเทคโนโลยีพระจอมเกล้าเจ้าคุณทหารลาดกระบัง (สจล.) และบริษัท พลังงานบริสุทธิ์ จำกัด (มหาชน) หรือ EA จัดทดสอบการใช้งานรถจักรพลังงานไฟฟ้าจากแบตเตอรี่ รถต้นแบบคันแรกในการพัฒนารถไฟระบบ EV on Train ปรากฏว่า นอกจากจะได้รับความสนใจ และเสียงตอบรับที่ดีจากประชาชนคนไทยแล้ว รถจักรคันดังกล่าวยังโด่งดังไปไกลถึงประเทศเพื่อนบ้านในอาเซียน โดยเฉพาะในประเทศเวียดนามที่มีการแชร์เรื่องราวของรถจักรพลังงานไฟฟ้าลงในกลุ่มเกี่ยวกับการพัฒนาประเทศของเวียดนาม ซึ่งมีการแสดงความชื่นชมยินดีกับประเทศไทย และพูดคุยแลกเปลี่ยนแสดงความคิดเห็นกันอย่างหลากหลาย\\r\\n\\r\\nปัจจุบันรถจักรพลังงานไฟฟ้าจากแบตเตอรี่ ได้ดำเนินการทดสอบเดินรถในเส้นทางต่าง ๆ แล้ว รวมถึงการทดสอบลากจูงขบวนรถโดยสารขึ้นมาบนสถานีกลางกรุงเทพอภิวัฒน์ ถือว่าประสบความสำเร็จเรียบร้อยดี ซึ่งหลังจากนี้การรถไฟฯ จะพิจารณานำไปลากจูงรถโดยสาร และรถสินค้าในโอกาสต่อไป โดยในระยะแรกจะนำรถจักรดังกล่าวมาใช้ลากเป็นรถสับเปลี่ยน (Shunting) ณ สถานีกลางกรุงเทพอภิวัฒน์ เพื่อลดมลพิษในอาคารสถานีชั้นที่ 2 ซึ่งจากผลการทดสอบ ของการรถไฟฯ สามารถลากขบวนรถจากย่านสถานีกลางกรุงเทพอภิวัฒน์ ไปที่ชานชาลาสถานีที่ชั้น 2 ได้จำนวน 12 เที่ยว ต่อการชาร์จ 1 ครั้ง ระยะเวลาการชาร์จจนแบตเตอรี่เต็มประมาณ 1 ชั่วโมง\\r\\n\\r\\nอย่างไรก็ตาม ขณะนี้การรถไฟฯ อยู่ระหว่างเตรียมดำเนินการจัดหารถจักร EV อีกประมาณ 50 คัน ทยอยมาให้บริการประชาชนภายในปี 66 ตามข้อสั่งการของกระทรวงคมนาคม เพื่อยกระดับการให้บริการรถไฟแก่ประชาชน ลดมลพิษทางอากาศ ซึ่งหัวรถจักร EV สามารถลดต้นทุนได้ 40 – 60% หากเทียบกับการใช้หัวรถจักรดีเซลในปัจจุบัน\\r\\n\\r                                                                                                                                                                                                                                                                                                                                                                                                                                                                                                                                                                                                                                                                                                                                                                                                                                                                                                                                                                                                                                                                                               0.001258\n",
            "Name: count, Length: 780, dtype: float64\n"
          ]
        }
      ]
    },
    {
      "cell_type": "code",
      "source": [
        "#dependent variables\n",
        "y_train = train_df[\"category\"]\n",
        "y_valid = valid_df[\"body\"]"
      ],
      "metadata": {
        "id": "jU1WAtvQ2NOf"
      },
      "execution_count": 89,
      "outputs": []
    },
    {
      "cell_type": "code",
      "source": [
        "#text faetures\n",
        "from sklearn.feature_extraction.text import TfidfVectorizer\n",
        "from sklearn.linear_model import LogisticRegression\n",
        "\n",
        "tfidf = TfidfVectorizer(tokenizer=process_thai, ngram_range=(1,2), min_df=20, sublinear_tf=True)\n",
        "tfidf_fit = tfidf.fit(all_df[\"texts\"])\n",
        "text_train = tfidf_fit.transform(train_df[\"texts\"])\n",
        "text_valid = tfidf_fit.transform(valid_df[\"body\"])\n",
        "text_test = tfidf_fit.transform(test_df[\"texts\"])\n",
        "text_train.shape, text_valid.shape"
      ],
      "metadata": {
        "colab": {
          "base_uri": "https://localhost:8080/"
        },
        "id": "Gm1t7IM02l0Z",
        "outputId": "a73da21f-73c3-44f6-cf85-f629203e2b5c"
      },
      "execution_count": 116,
      "outputs": [
        {
          "output_type": "stream",
          "name": "stderr",
          "text": [
            "/usr/local/lib/python3.10/dist-packages/sklearn/feature_extraction/text.py:528: UserWarning: The parameter 'token_pattern' will not be used since 'tokenizer' is not None'\n",
            "  warnings.warn(\n"
          ]
        },
        {
          "output_type": "execute_result",
          "data": {
            "text/plain": [
              "((24063, 4288), (795, 4288))"
            ]
          },
          "metadata": {},
          "execution_count": 116
        }
      ]
    },
    {
      "cell_type": "code",
      "source": [
        "#visualize texts\n",
        "!pip install --upgrade visualize\n",
        "from visualize import top_feats_all, plot_top_feats\n",
        "features = tfidf_fit.get_feature_names()\n",
        "%time ts = top_feats_all(text_train.toarray(), y_train, features)\n",
        "print(ts[0].shape)\n",
        "ts[0].head()"
      ],
      "metadata": {
        "colab": {
          "base_uri": "https://localhost:8080/",
          "height": 636
        },
        "id": "S9-cYaWh2yhM",
        "outputId": "85e1f41e-9826-4aba-f562-72c838effe06"
      },
      "execution_count": 124,
      "outputs": [
        {
          "output_type": "stream",
          "name": "stdout",
          "text": [
            "Requirement already satisfied: visualize in /usr/local/lib/python3.10/dist-packages (0.5.1)\n",
            "Requirement already satisfied: numpy in /usr/local/lib/python3.10/dist-packages (from visualize) (1.25.2)\n",
            "Requirement already satisfied: opencv-python in /usr/local/lib/python3.10/dist-packages (from visualize) (4.8.0.76)\n",
            "Requirement already satisfied: matplotlib in /usr/local/lib/python3.10/dist-packages (from visualize) (3.7.1)\n",
            "Requirement already satisfied: Pillow in /usr/local/lib/python3.10/dist-packages (from visualize) (9.4.0)\n",
            "Requirement already satisfied: contourpy>=1.0.1 in /usr/local/lib/python3.10/dist-packages (from matplotlib->visualize) (1.2.1)\n",
            "Requirement already satisfied: cycler>=0.10 in /usr/local/lib/python3.10/dist-packages (from matplotlib->visualize) (0.12.1)\n",
            "Requirement already satisfied: fonttools>=4.22.0 in /usr/local/lib/python3.10/dist-packages (from matplotlib->visualize) (4.51.0)\n",
            "Requirement already satisfied: kiwisolver>=1.0.1 in /usr/local/lib/python3.10/dist-packages (from matplotlib->visualize) (1.4.5)\n",
            "Requirement already satisfied: packaging>=20.0 in /usr/local/lib/python3.10/dist-packages (from matplotlib->visualize) (24.0)\n",
            "Requirement already satisfied: pyparsing>=2.3.1 in /usr/local/lib/python3.10/dist-packages (from matplotlib->visualize) (3.1.2)\n",
            "Requirement already satisfied: python-dateutil>=2.7 in /usr/local/lib/python3.10/dist-packages (from matplotlib->visualize) (2.8.2)\n",
            "Requirement already satisfied: six>=1.5 in /usr/local/lib/python3.10/dist-packages (from python-dateutil>=2.7->matplotlib->visualize) (1.16.0)\n"
          ]
        },
        {
          "output_type": "error",
          "ename": "ImportError",
          "evalue": "cannot import name 'top_feats_all' from 'visualize' (/usr/local/lib/python3.10/dist-packages/visualize/__init__.py)",
          "traceback": [
            "\u001b[0;31m---------------------------------------------------------------------------\u001b[0m",
            "\u001b[0;31mImportError\u001b[0m                               Traceback (most recent call last)",
            "\u001b[0;32m<ipython-input-124-ab58038e4a53>\u001b[0m in \u001b[0;36m<cell line: 3>\u001b[0;34m()\u001b[0m\n\u001b[1;32m      1\u001b[0m \u001b[0;31m#visualize texts\u001b[0m\u001b[0;34m\u001b[0m\u001b[0;34m\u001b[0m\u001b[0m\n\u001b[1;32m      2\u001b[0m \u001b[0mget_ipython\u001b[0m\u001b[0;34m(\u001b[0m\u001b[0;34m)\u001b[0m\u001b[0;34m.\u001b[0m\u001b[0msystem\u001b[0m\u001b[0;34m(\u001b[0m\u001b[0;34m'pip install --upgrade visualize'\u001b[0m\u001b[0;34m)\u001b[0m\u001b[0;34m\u001b[0m\u001b[0;34m\u001b[0m\u001b[0m\n\u001b[0;32m----> 3\u001b[0;31m \u001b[0;32mfrom\u001b[0m \u001b[0mvisualize\u001b[0m \u001b[0;32mimport\u001b[0m \u001b[0mtop_feats_all\u001b[0m\u001b[0;34m,\u001b[0m \u001b[0mplot_top_feats\u001b[0m\u001b[0;34m\u001b[0m\u001b[0;34m\u001b[0m\u001b[0m\n\u001b[0m\u001b[1;32m      4\u001b[0m \u001b[0mfeatures\u001b[0m \u001b[0;34m=\u001b[0m \u001b[0mtfidf_fit\u001b[0m\u001b[0;34m.\u001b[0m\u001b[0mget_feature_names\u001b[0m\u001b[0;34m(\u001b[0m\u001b[0;34m)\u001b[0m\u001b[0;34m\u001b[0m\u001b[0;34m\u001b[0m\u001b[0m\n\u001b[1;32m      5\u001b[0m \u001b[0mget_ipython\u001b[0m\u001b[0;34m(\u001b[0m\u001b[0;34m)\u001b[0m\u001b[0;34m.\u001b[0m\u001b[0mrun_line_magic\u001b[0m\u001b[0;34m(\u001b[0m\u001b[0;34m'time'\u001b[0m\u001b[0;34m,\u001b[0m \u001b[0;34m'ts = top_feats_all(text_train.toarray(), y_train, features)'\u001b[0m\u001b[0;34m)\u001b[0m\u001b[0;34m\u001b[0m\u001b[0;34m\u001b[0m\u001b[0m\n",
            "\u001b[0;31mImportError\u001b[0m: cannot import name 'top_feats_all' from 'visualize' (/usr/local/lib/python3.10/dist-packages/visualize/__init__.py)",
            "",
            "\u001b[0;31m---------------------------------------------------------------------------\u001b[0;32m\nNOTE: If your import is failing due to a missing package, you can\nmanually install dependencies using either !pip or !apt.\n\nTo view examples of installing some common dependencies, click the\n\"Open Examples\" button below.\n\u001b[0;31m---------------------------------------------------------------------------\u001b[0m\n"
          ],
          "errorDetails": {
            "actions": [
              {
                "action": "open_url",
                "actionText": "Open Examples",
                "url": "/notebooks/snippets/importing_libraries.ipynb"
              }
            ]
          }
        }
      ]
    },
    {
      "cell_type": "code",
      "source": [
        "#word count and unique word counts; actually might not be so useful\n",
        "from sklearn.preprocessing import StandardScaler\n",
        "\n",
        "scaler = StandardScaler()\n",
        "scaler_fit = scaler.fit(all_df[[\"wc\",\"uwc\"]].astype(float))\n",
        "scaler_fit1 = scaler.fit(valid_df[[\"body\"]].astype(str))\n",
        "print(scaler_fit.mean_, scaler_fit.var_)\n",
        "num_train = scaler_fit.transform(train_df[[\"wc\",\"uwc\"]].astype(float))\n",
        "num_valid = scaler_fit.transform(valid_df[[\"body\"]].astype(str))\n",
        "num_test = scaler_fit.transform(test_df[[\"wc\",\"uwc\"]].astype(float))\n",
        "num_valid.shape, num_train.shape"
      ],
      "metadata": {
        "colab": {
          "base_uri": "https://localhost:8080/",
          "height": 503
        },
        "id": "k6dw2mpH-RTm",
        "outputId": "7dbf65a5-df54-4c5d-ee69-2a970f7e29fc"
      },
      "execution_count": 131,
      "outputs": [
        {
          "output_type": "error",
          "ename": "ValueError",
          "evalue": "could not convert string to float: 'ตามที่มีผู้พบเห็นเว็บไซต์ www.gsb-th-online.com ธนาคารออมสิน ปล่อยสินเชื่อส่วนบุคคล ทางศูนย์ต่อต้านข่าวปลอมได้ดำเนินการตรวจสอบข้อเท็จจริงกับทางธนาคารออมสิน กระทรวงการคลัง พบว่าประเด็นดังกล่าวนั้น เป็นข้อมูลเท็จ\\nจากกรณีที่มีเว็บไซต์ www.gsb-th-online.com ธนาคารออมสิน ปล่อยสินเชื่อส่วนบุคคล ทางธนาคารออมสิน กระทรวงการคลัง ได้ตรวจสอบข้อมูลและชี้แจงว่า เว็บไซต์ดังกล่าวไม่ใช่ของธนาคารออมสิน ธนาคารไม่มีส่วนเกี่ยวข้องกับการเผยแพร่ข้อมูลและปล่อยสินเชื่อดังกล่าว อีกทั้งธนาคารออมสินไม่มีนโยบายให้เงินกู้ผ่านเฟซบุ๊ก แอปพลิเคชันไลน์ และ Messenger เว็บไซต์ดังกล่าวแอบอ้างนำชื่อและตราสัญลักษณ์ธนาคารออมสินไปใช้ทำรูปโปรไฟล์โดยไม่ได้รับอนุญาต และยังเผยแพร่ข้อมูลที่ไม่ตรงกับความเป็นจริง อันแสดงเจตนาจงใจหลอกลวงประชาชนและกระทบต่อชื่อเสียงภาพลักษณ์ของธนาคาร ซึ่งจะดำเนินการเอาผิดทางกฎหมายต่อไป\\nธนาคารจึงขอแจ้งให้ประชาชนที่พบเห็นเว็บไซต์หรือสื่อออนไลน์อื่นๆ ใช้ชื่อและโลโก้ตลอดทั้งนำชื่อผลิตภัณฑ์หรือสีอัตลักษณ์ของธนาคารออมสินไปตั้งโปรไฟล์ โพสต์เชิญชวนให้กู้เงินลักษณะนี้ผ่านสื่อใด ๆ ถือว่าเป็นข้อมูลปลอมทั้งสิ้น\\nหากถูกหลอกให้โอนเงินโปรดเก็บหลักฐานการสนทนา ลิงก์ไลน์ ชื่อ-หมายเลขโทรศัพท์ผู้ที่ให้โอนเงิน และเลขที่บัญชีธนาคารปลายทาง แจ้งศูนย์รับแจ้งเหตุภัยมิจฉาชีพทางการเงิน โทร.1115 กด 6 หรือ แจ้งความร้องทุกข์ต่อเจ้าหน้าที่ตำรวจท้องที่ทันที เพื่อให้เจ้าหน้าที่ตำรวจสามารถประสานงานไปยังธนาคารที่เกี่ยวข้องระงับความเสียหายโดยเร็วที่สุด'",
          "traceback": [
            "\u001b[0;31m---------------------------------------------------------------------------\u001b[0m",
            "\u001b[0;31mValueError\u001b[0m                                Traceback (most recent call last)",
            "\u001b[0;32m<ipython-input-131-2525c923b6f9>\u001b[0m in \u001b[0;36m<cell line: 6>\u001b[0;34m()\u001b[0m\n\u001b[1;32m      4\u001b[0m \u001b[0mscaler\u001b[0m \u001b[0;34m=\u001b[0m \u001b[0mStandardScaler\u001b[0m\u001b[0;34m(\u001b[0m\u001b[0;34m)\u001b[0m\u001b[0;34m\u001b[0m\u001b[0;34m\u001b[0m\u001b[0m\n\u001b[1;32m      5\u001b[0m \u001b[0mscaler_fit\u001b[0m \u001b[0;34m=\u001b[0m \u001b[0mscaler\u001b[0m\u001b[0;34m.\u001b[0m\u001b[0mfit\u001b[0m\u001b[0;34m(\u001b[0m\u001b[0mall_df\u001b[0m\u001b[0;34m[\u001b[0m\u001b[0;34m[\u001b[0m\u001b[0;34m\"wc\"\u001b[0m\u001b[0;34m,\u001b[0m\u001b[0;34m\"uwc\"\u001b[0m\u001b[0;34m]\u001b[0m\u001b[0;34m]\u001b[0m\u001b[0;34m.\u001b[0m\u001b[0mastype\u001b[0m\u001b[0;34m(\u001b[0m\u001b[0mfloat\u001b[0m\u001b[0;34m)\u001b[0m\u001b[0;34m)\u001b[0m\u001b[0;34m\u001b[0m\u001b[0;34m\u001b[0m\u001b[0m\n\u001b[0;32m----> 6\u001b[0;31m \u001b[0mscaler_fit1\u001b[0m \u001b[0;34m=\u001b[0m \u001b[0mscaler\u001b[0m\u001b[0;34m.\u001b[0m\u001b[0mfit\u001b[0m\u001b[0;34m(\u001b[0m\u001b[0mvalid_df\u001b[0m\u001b[0;34m[\u001b[0m\u001b[0;34m[\u001b[0m\u001b[0;34m\"body\"\u001b[0m\u001b[0;34m]\u001b[0m\u001b[0;34m]\u001b[0m\u001b[0;34m.\u001b[0m\u001b[0mastype\u001b[0m\u001b[0;34m(\u001b[0m\u001b[0mstr\u001b[0m\u001b[0;34m)\u001b[0m\u001b[0;34m)\u001b[0m\u001b[0;34m\u001b[0m\u001b[0;34m\u001b[0m\u001b[0m\n\u001b[0m\u001b[1;32m      7\u001b[0m \u001b[0mprint\u001b[0m\u001b[0;34m(\u001b[0m\u001b[0mscaler_fit\u001b[0m\u001b[0;34m.\u001b[0m\u001b[0mmean_\u001b[0m\u001b[0;34m,\u001b[0m \u001b[0mscaler_fit\u001b[0m\u001b[0;34m.\u001b[0m\u001b[0mvar_\u001b[0m\u001b[0;34m)\u001b[0m\u001b[0;34m\u001b[0m\u001b[0;34m\u001b[0m\u001b[0m\n\u001b[1;32m      8\u001b[0m \u001b[0mnum_train\u001b[0m \u001b[0;34m=\u001b[0m \u001b[0mscaler_fit\u001b[0m\u001b[0;34m.\u001b[0m\u001b[0mtransform\u001b[0m\u001b[0;34m(\u001b[0m\u001b[0mtrain_df\u001b[0m\u001b[0;34m[\u001b[0m\u001b[0;34m[\u001b[0m\u001b[0;34m\"wc\"\u001b[0m\u001b[0;34m,\u001b[0m\u001b[0;34m\"uwc\"\u001b[0m\u001b[0;34m]\u001b[0m\u001b[0;34m]\u001b[0m\u001b[0;34m.\u001b[0m\u001b[0mastype\u001b[0m\u001b[0;34m(\u001b[0m\u001b[0mfloat\u001b[0m\u001b[0;34m)\u001b[0m\u001b[0;34m)\u001b[0m\u001b[0;34m\u001b[0m\u001b[0;34m\u001b[0m\u001b[0m\n",
            "\u001b[0;32m/usr/local/lib/python3.10/dist-packages/sklearn/preprocessing/_data.py\u001b[0m in \u001b[0;36mfit\u001b[0;34m(self, X, y, sample_weight)\u001b[0m\n\u001b[1;32m    822\u001b[0m         \u001b[0;31m# Reset internal state before fitting\u001b[0m\u001b[0;34m\u001b[0m\u001b[0;34m\u001b[0m\u001b[0m\n\u001b[1;32m    823\u001b[0m         \u001b[0mself\u001b[0m\u001b[0;34m.\u001b[0m\u001b[0m_reset\u001b[0m\u001b[0;34m(\u001b[0m\u001b[0;34m)\u001b[0m\u001b[0;34m\u001b[0m\u001b[0;34m\u001b[0m\u001b[0m\n\u001b[0;32m--> 824\u001b[0;31m         \u001b[0;32mreturn\u001b[0m \u001b[0mself\u001b[0m\u001b[0;34m.\u001b[0m\u001b[0mpartial_fit\u001b[0m\u001b[0;34m(\u001b[0m\u001b[0mX\u001b[0m\u001b[0;34m,\u001b[0m \u001b[0my\u001b[0m\u001b[0;34m,\u001b[0m \u001b[0msample_weight\u001b[0m\u001b[0;34m)\u001b[0m\u001b[0;34m\u001b[0m\u001b[0;34m\u001b[0m\u001b[0m\n\u001b[0m\u001b[1;32m    825\u001b[0m \u001b[0;34m\u001b[0m\u001b[0m\n\u001b[1;32m    826\u001b[0m     \u001b[0;32mdef\u001b[0m \u001b[0mpartial_fit\u001b[0m\u001b[0;34m(\u001b[0m\u001b[0mself\u001b[0m\u001b[0;34m,\u001b[0m \u001b[0mX\u001b[0m\u001b[0;34m,\u001b[0m \u001b[0my\u001b[0m\u001b[0;34m=\u001b[0m\u001b[0;32mNone\u001b[0m\u001b[0;34m,\u001b[0m \u001b[0msample_weight\u001b[0m\u001b[0;34m=\u001b[0m\u001b[0;32mNone\u001b[0m\u001b[0;34m)\u001b[0m\u001b[0;34m:\u001b[0m\u001b[0;34m\u001b[0m\u001b[0;34m\u001b[0m\u001b[0m\n",
            "\u001b[0;32m/usr/local/lib/python3.10/dist-packages/sklearn/preprocessing/_data.py\u001b[0m in \u001b[0;36mpartial_fit\u001b[0;34m(self, X, y, sample_weight)\u001b[0m\n\u001b[1;32m    859\u001b[0m \u001b[0;34m\u001b[0m\u001b[0m\n\u001b[1;32m    860\u001b[0m         \u001b[0mfirst_call\u001b[0m \u001b[0;34m=\u001b[0m \u001b[0;32mnot\u001b[0m \u001b[0mhasattr\u001b[0m\u001b[0;34m(\u001b[0m\u001b[0mself\u001b[0m\u001b[0;34m,\u001b[0m \u001b[0;34m\"n_samples_seen_\"\u001b[0m\u001b[0;34m)\u001b[0m\u001b[0;34m\u001b[0m\u001b[0;34m\u001b[0m\u001b[0m\n\u001b[0;32m--> 861\u001b[0;31m         X = self._validate_data(\n\u001b[0m\u001b[1;32m    862\u001b[0m             \u001b[0mX\u001b[0m\u001b[0;34m,\u001b[0m\u001b[0;34m\u001b[0m\u001b[0;34m\u001b[0m\u001b[0m\n\u001b[1;32m    863\u001b[0m             \u001b[0maccept_sparse\u001b[0m\u001b[0;34m=\u001b[0m\u001b[0;34m(\u001b[0m\u001b[0;34m\"csr\"\u001b[0m\u001b[0;34m,\u001b[0m \u001b[0;34m\"csc\"\u001b[0m\u001b[0;34m)\u001b[0m\u001b[0;34m,\u001b[0m\u001b[0;34m\u001b[0m\u001b[0;34m\u001b[0m\u001b[0m\n",
            "\u001b[0;32m/usr/local/lib/python3.10/dist-packages/sklearn/base.py\u001b[0m in \u001b[0;36m_validate_data\u001b[0;34m(self, X, y, reset, validate_separately, **check_params)\u001b[0m\n\u001b[1;32m    563\u001b[0m             \u001b[0;32mraise\u001b[0m \u001b[0mValueError\u001b[0m\u001b[0;34m(\u001b[0m\u001b[0;34m\"Validation should be done on X, y or both.\"\u001b[0m\u001b[0;34m)\u001b[0m\u001b[0;34m\u001b[0m\u001b[0;34m\u001b[0m\u001b[0m\n\u001b[1;32m    564\u001b[0m         \u001b[0;32melif\u001b[0m \u001b[0;32mnot\u001b[0m \u001b[0mno_val_X\u001b[0m \u001b[0;32mand\u001b[0m \u001b[0mno_val_y\u001b[0m\u001b[0;34m:\u001b[0m\u001b[0;34m\u001b[0m\u001b[0;34m\u001b[0m\u001b[0m\n\u001b[0;32m--> 565\u001b[0;31m             \u001b[0mX\u001b[0m \u001b[0;34m=\u001b[0m \u001b[0mcheck_array\u001b[0m\u001b[0;34m(\u001b[0m\u001b[0mX\u001b[0m\u001b[0;34m,\u001b[0m \u001b[0minput_name\u001b[0m\u001b[0;34m=\u001b[0m\u001b[0;34m\"X\"\u001b[0m\u001b[0;34m,\u001b[0m \u001b[0;34m**\u001b[0m\u001b[0mcheck_params\u001b[0m\u001b[0;34m)\u001b[0m\u001b[0;34m\u001b[0m\u001b[0;34m\u001b[0m\u001b[0m\n\u001b[0m\u001b[1;32m    566\u001b[0m             \u001b[0mout\u001b[0m \u001b[0;34m=\u001b[0m \u001b[0mX\u001b[0m\u001b[0;34m\u001b[0m\u001b[0;34m\u001b[0m\u001b[0m\n\u001b[1;32m    567\u001b[0m         \u001b[0;32melif\u001b[0m \u001b[0mno_val_X\u001b[0m \u001b[0;32mand\u001b[0m \u001b[0;32mnot\u001b[0m \u001b[0mno_val_y\u001b[0m\u001b[0;34m:\u001b[0m\u001b[0;34m\u001b[0m\u001b[0;34m\u001b[0m\u001b[0m\n",
            "\u001b[0;32m/usr/local/lib/python3.10/dist-packages/sklearn/utils/validation.py\u001b[0m in \u001b[0;36mcheck_array\u001b[0;34m(array, accept_sparse, accept_large_sparse, dtype, order, copy, force_all_finite, ensure_2d, allow_nd, ensure_min_samples, ensure_min_features, estimator, input_name)\u001b[0m\n\u001b[1;32m    877\u001b[0m                     \u001b[0marray\u001b[0m \u001b[0;34m=\u001b[0m \u001b[0mxp\u001b[0m\u001b[0;34m.\u001b[0m\u001b[0mastype\u001b[0m\u001b[0;34m(\u001b[0m\u001b[0marray\u001b[0m\u001b[0;34m,\u001b[0m \u001b[0mdtype\u001b[0m\u001b[0;34m,\u001b[0m \u001b[0mcopy\u001b[0m\u001b[0;34m=\u001b[0m\u001b[0;32mFalse\u001b[0m\u001b[0;34m)\u001b[0m\u001b[0;34m\u001b[0m\u001b[0;34m\u001b[0m\u001b[0m\n\u001b[1;32m    878\u001b[0m                 \u001b[0;32melse\u001b[0m\u001b[0;34m:\u001b[0m\u001b[0;34m\u001b[0m\u001b[0;34m\u001b[0m\u001b[0m\n\u001b[0;32m--> 879\u001b[0;31m                     \u001b[0marray\u001b[0m \u001b[0;34m=\u001b[0m \u001b[0m_asarray_with_order\u001b[0m\u001b[0;34m(\u001b[0m\u001b[0marray\u001b[0m\u001b[0;34m,\u001b[0m \u001b[0morder\u001b[0m\u001b[0;34m=\u001b[0m\u001b[0morder\u001b[0m\u001b[0;34m,\u001b[0m \u001b[0mdtype\u001b[0m\u001b[0;34m=\u001b[0m\u001b[0mdtype\u001b[0m\u001b[0;34m,\u001b[0m \u001b[0mxp\u001b[0m\u001b[0;34m=\u001b[0m\u001b[0mxp\u001b[0m\u001b[0;34m)\u001b[0m\u001b[0;34m\u001b[0m\u001b[0;34m\u001b[0m\u001b[0m\n\u001b[0m\u001b[1;32m    880\u001b[0m             \u001b[0;32mexcept\u001b[0m \u001b[0mComplexWarning\u001b[0m \u001b[0;32mas\u001b[0m \u001b[0mcomplex_warning\u001b[0m\u001b[0;34m:\u001b[0m\u001b[0;34m\u001b[0m\u001b[0;34m\u001b[0m\u001b[0m\n\u001b[1;32m    881\u001b[0m                 raise ValueError(\n",
            "\u001b[0;32m/usr/local/lib/python3.10/dist-packages/sklearn/utils/_array_api.py\u001b[0m in \u001b[0;36m_asarray_with_order\u001b[0;34m(array, dtype, order, copy, xp)\u001b[0m\n\u001b[1;32m    183\u001b[0m     \u001b[0;32mif\u001b[0m \u001b[0mxp\u001b[0m\u001b[0;34m.\u001b[0m\u001b[0m__name__\u001b[0m \u001b[0;32min\u001b[0m \u001b[0;34m{\u001b[0m\u001b[0;34m\"numpy\"\u001b[0m\u001b[0;34m,\u001b[0m \u001b[0;34m\"numpy.array_api\"\u001b[0m\u001b[0;34m}\u001b[0m\u001b[0;34m:\u001b[0m\u001b[0;34m\u001b[0m\u001b[0;34m\u001b[0m\u001b[0m\n\u001b[1;32m    184\u001b[0m         \u001b[0;31m# Use NumPy API to support order\u001b[0m\u001b[0;34m\u001b[0m\u001b[0;34m\u001b[0m\u001b[0m\n\u001b[0;32m--> 185\u001b[0;31m         \u001b[0marray\u001b[0m \u001b[0;34m=\u001b[0m \u001b[0mnumpy\u001b[0m\u001b[0;34m.\u001b[0m\u001b[0masarray\u001b[0m\u001b[0;34m(\u001b[0m\u001b[0marray\u001b[0m\u001b[0;34m,\u001b[0m \u001b[0morder\u001b[0m\u001b[0;34m=\u001b[0m\u001b[0morder\u001b[0m\u001b[0;34m,\u001b[0m \u001b[0mdtype\u001b[0m\u001b[0;34m=\u001b[0m\u001b[0mdtype\u001b[0m\u001b[0;34m)\u001b[0m\u001b[0;34m\u001b[0m\u001b[0;34m\u001b[0m\u001b[0m\n\u001b[0m\u001b[1;32m    186\u001b[0m         \u001b[0;32mreturn\u001b[0m \u001b[0mxp\u001b[0m\u001b[0;34m.\u001b[0m\u001b[0masarray\u001b[0m\u001b[0;34m(\u001b[0m\u001b[0marray\u001b[0m\u001b[0;34m,\u001b[0m \u001b[0mcopy\u001b[0m\u001b[0;34m=\u001b[0m\u001b[0mcopy\u001b[0m\u001b[0;34m)\u001b[0m\u001b[0;34m\u001b[0m\u001b[0;34m\u001b[0m\u001b[0m\n\u001b[1;32m    187\u001b[0m     \u001b[0;32melse\u001b[0m\u001b[0;34m:\u001b[0m\u001b[0;34m\u001b[0m\u001b[0;34m\u001b[0m\u001b[0m\n",
            "\u001b[0;32m/usr/local/lib/python3.10/dist-packages/pandas/core/generic.py\u001b[0m in \u001b[0;36m__array__\u001b[0;34m(self, dtype)\u001b[0m\n\u001b[1;32m   1996\u001b[0m     \u001b[0;32mdef\u001b[0m \u001b[0m__array__\u001b[0m\u001b[0;34m(\u001b[0m\u001b[0mself\u001b[0m\u001b[0;34m,\u001b[0m \u001b[0mdtype\u001b[0m\u001b[0;34m:\u001b[0m \u001b[0mnpt\u001b[0m\u001b[0;34m.\u001b[0m\u001b[0mDTypeLike\u001b[0m \u001b[0;34m|\u001b[0m \u001b[0;32mNone\u001b[0m \u001b[0;34m=\u001b[0m \u001b[0;32mNone\u001b[0m\u001b[0;34m)\u001b[0m \u001b[0;34m->\u001b[0m \u001b[0mnp\u001b[0m\u001b[0;34m.\u001b[0m\u001b[0mndarray\u001b[0m\u001b[0;34m:\u001b[0m\u001b[0;34m\u001b[0m\u001b[0;34m\u001b[0m\u001b[0m\n\u001b[1;32m   1997\u001b[0m         \u001b[0mvalues\u001b[0m \u001b[0;34m=\u001b[0m \u001b[0mself\u001b[0m\u001b[0;34m.\u001b[0m\u001b[0m_values\u001b[0m\u001b[0;34m\u001b[0m\u001b[0;34m\u001b[0m\u001b[0m\n\u001b[0;32m-> 1998\u001b[0;31m         \u001b[0marr\u001b[0m \u001b[0;34m=\u001b[0m \u001b[0mnp\u001b[0m\u001b[0;34m.\u001b[0m\u001b[0masarray\u001b[0m\u001b[0;34m(\u001b[0m\u001b[0mvalues\u001b[0m\u001b[0;34m,\u001b[0m \u001b[0mdtype\u001b[0m\u001b[0;34m=\u001b[0m\u001b[0mdtype\u001b[0m\u001b[0;34m)\u001b[0m\u001b[0;34m\u001b[0m\u001b[0;34m\u001b[0m\u001b[0m\n\u001b[0m\u001b[1;32m   1999\u001b[0m         if (\n\u001b[1;32m   2000\u001b[0m             \u001b[0mastype_is_view\u001b[0m\u001b[0;34m(\u001b[0m\u001b[0mvalues\u001b[0m\u001b[0;34m.\u001b[0m\u001b[0mdtype\u001b[0m\u001b[0;34m,\u001b[0m \u001b[0marr\u001b[0m\u001b[0;34m.\u001b[0m\u001b[0mdtype\u001b[0m\u001b[0;34m)\u001b[0m\u001b[0;34m\u001b[0m\u001b[0;34m\u001b[0m\u001b[0m\n",
            "\u001b[0;31mValueError\u001b[0m: could not convert string to float: 'ตามที่มีผู้พบเห็นเว็บไซต์ www.gsb-th-online.com ธนาคารออมสิน ปล่อยสินเชื่อส่วนบุคคล ทางศูนย์ต่อต้านข่าวปลอมได้ดำเนินการตรวจสอบข้อเท็จจริงกับทางธนาคารออมสิน กระทรวงการคลัง พบว่าประเด็นดังกล่าวนั้น เป็นข้อมูลเท็จ\\nจากกรณีที่มีเว็บไซต์ www.gsb-th-online.com ธนาคารออมสิน ปล่อยสินเชื่อส่วนบุคคล ทางธนาคารออมสิน กระทรวงการคลัง ได้ตรวจสอบข้อมูลและชี้แจงว่า เว็บไซต์ดังกล่าวไม่ใช่ของธนาคารออมสิน ธนาคารไม่มีส่วนเกี่ยวข้องกับการเผยแพร่ข้อมูลและปล่อยสินเชื่อดังกล่าว อีกทั้งธนาคารออมสินไม่มีนโยบายให้เงินกู้ผ่านเฟซบุ๊ก แอปพลิเคชันไลน์ และ Messenger เว็บไซต์ดังกล่าวแอบอ้างนำชื่อและตราสัญลักษณ์ธนาคารออมสินไปใช้ทำรูปโปรไฟล์โดยไม่ได้รับอนุญาต และยังเผยแพร่ข้อมูลที่ไม่ตรงกับความเป็นจริง อันแสดงเจตนาจงใจหลอกลวงประชาชนและกระทบต่อชื่อเสียงภาพลักษณ์ของธนาคาร ซึ่งจะดำเนินการเอาผิดทางกฎหมายต่อไป\\nธนาคารจึงขอแจ้งให้ประชาชนที่พบเห็นเว็บไซต์หรือสื่อออนไลน์อื่นๆ ใช้ชื่อและโลโก้ตลอดทั้งนำชื่อผลิตภัณฑ์หรือสีอัตลักษณ์ของธนาคารออมสินไปตั้งโปรไฟล์ โพสต์เชิญชวนให้กู้เงินลักษณะนี้ผ่านสื่อใด ๆ ถือว่าเป็นข้อมูลปลอมทั้งสิ้น\\nหากถูกหลอกให้โอนเงินโปรดเก็บหลักฐานการสนทนา ลิงก์ไลน์ ชื่อ-หมายเลขโทรศัพท์ผู้ที่ให้โอนเงิน และเลขที่บัญชีธนาคารปลายทาง แจ้งศูนย์รับแจ้งเหตุภัยมิจฉาชีพทางการเงิน โทร.1115 กด 6 หรือ แจ้งความร้องทุกข์ต่อเจ้าหน้าที่ตำรวจท้องที่ทันที เพื่อให้เจ้าหน้าที่ตำรวจสามารถประสานงานไปยังธนาคารที่เกี่ยวข้องระงับความเสียหายโดยเร็วที่สุด'"
          ]
        }
      ]
    },
    {
      "cell_type": "code",
      "source": [
        "#concatenate text and word count features\n",
        "X_train = np.concatenate([num_train,text_train.toarray()],axis=1)\n",
        "X_valid = np.concatenate([num_valid,text_valid.toarray()],axis=1)\n",
        "X_test = np.concatenate([num_test,text_test.toarray()],axis=1)\n",
        "X_train.shape, X_valid.shape"
      ],
      "metadata": {
        "colab": {
          "base_uri": "https://localhost:8080/",
          "height": 207
        },
        "id": "A-fdLquu_FO8",
        "outputId": "c3be1001-c615-4093-aa79-be5f58ac2964"
      },
      "execution_count": 133,
      "outputs": [
        {
          "output_type": "error",
          "ename": "NameError",
          "evalue": "name 'num_valid' is not defined",
          "traceback": [
            "\u001b[0;31m---------------------------------------------------------------------------\u001b[0m",
            "\u001b[0;31mNameError\u001b[0m                                 Traceback (most recent call last)",
            "\u001b[0;32m<ipython-input-133-a19b9d0d9a0b>\u001b[0m in \u001b[0;36m<cell line: 3>\u001b[0;34m()\u001b[0m\n\u001b[1;32m      1\u001b[0m \u001b[0;31m#concatenate text and word count features\u001b[0m\u001b[0;34m\u001b[0m\u001b[0;34m\u001b[0m\u001b[0m\n\u001b[1;32m      2\u001b[0m \u001b[0mX_train\u001b[0m \u001b[0;34m=\u001b[0m \u001b[0mnp\u001b[0m\u001b[0;34m.\u001b[0m\u001b[0mconcatenate\u001b[0m\u001b[0;34m(\u001b[0m\u001b[0;34m[\u001b[0m\u001b[0mnum_train\u001b[0m\u001b[0;34m,\u001b[0m\u001b[0mtext_train\u001b[0m\u001b[0;34m.\u001b[0m\u001b[0mtoarray\u001b[0m\u001b[0;34m(\u001b[0m\u001b[0;34m)\u001b[0m\u001b[0;34m]\u001b[0m\u001b[0;34m,\u001b[0m\u001b[0maxis\u001b[0m\u001b[0;34m=\u001b[0m\u001b[0;36m1\u001b[0m\u001b[0;34m)\u001b[0m\u001b[0;34m\u001b[0m\u001b[0;34m\u001b[0m\u001b[0m\n\u001b[0;32m----> 3\u001b[0;31m \u001b[0mX_valid\u001b[0m \u001b[0;34m=\u001b[0m \u001b[0mnp\u001b[0m\u001b[0;34m.\u001b[0m\u001b[0mconcatenate\u001b[0m\u001b[0;34m(\u001b[0m\u001b[0;34m[\u001b[0m\u001b[0mnum_valid\u001b[0m\u001b[0;34m,\u001b[0m\u001b[0mtext_valid\u001b[0m\u001b[0;34m.\u001b[0m\u001b[0mtoarray\u001b[0m\u001b[0;34m(\u001b[0m\u001b[0;34m)\u001b[0m\u001b[0;34m]\u001b[0m\u001b[0;34m,\u001b[0m\u001b[0maxis\u001b[0m\u001b[0;34m=\u001b[0m\u001b[0;36m1\u001b[0m\u001b[0;34m)\u001b[0m\u001b[0;34m\u001b[0m\u001b[0;34m\u001b[0m\u001b[0m\n\u001b[0m\u001b[1;32m      4\u001b[0m \u001b[0mX_test\u001b[0m \u001b[0;34m=\u001b[0m \u001b[0mnp\u001b[0m\u001b[0;34m.\u001b[0m\u001b[0mconcatenate\u001b[0m\u001b[0;34m(\u001b[0m\u001b[0;34m[\u001b[0m\u001b[0mnum_test\u001b[0m\u001b[0;34m,\u001b[0m\u001b[0mtext_test\u001b[0m\u001b[0;34m.\u001b[0m\u001b[0mtoarray\u001b[0m\u001b[0;34m(\u001b[0m\u001b[0;34m)\u001b[0m\u001b[0;34m]\u001b[0m\u001b[0;34m,\u001b[0m\u001b[0maxis\u001b[0m\u001b[0;34m=\u001b[0m\u001b[0;36m1\u001b[0m\u001b[0;34m)\u001b[0m\u001b[0;34m\u001b[0m\u001b[0;34m\u001b[0m\u001b[0m\n\u001b[1;32m      5\u001b[0m \u001b[0mX_train\u001b[0m\u001b[0;34m.\u001b[0m\u001b[0mshape\u001b[0m\u001b[0;34m,\u001b[0m \u001b[0mX_valid\u001b[0m\u001b[0;34m.\u001b[0m\u001b[0mshape\u001b[0m\u001b[0;34m\u001b[0m\u001b[0;34m\u001b[0m\u001b[0m\n",
            "\u001b[0;31mNameError\u001b[0m: name 'num_valid' is not defined"
          ]
        }
      ]
    },
    {
      "cell_type": "code",
      "source": [
        "!git clone https://github.com/SPBNO1/fake-new.git"
      ],
      "metadata": {
        "colab": {
          "base_uri": "https://localhost:8080/"
        },
        "id": "2BfYxVJ1Bl_T",
        "outputId": "443834e5-137b-4d12-bd01-5394af5e863d"
      },
      "execution_count": 134,
      "outputs": [
        {
          "output_type": "stream",
          "name": "stdout",
          "text": [
            "Cloning into 'fake-new'...\n",
            "warning: You appear to have cloned an empty repository.\n"
          ]
        }
      ]
    },
    {
      "cell_type": "code",
      "source": [],
      "metadata": {
        "id": "7gRE_SluUbZh"
      },
      "execution_count": null,
      "outputs": []
    }
  ]
}