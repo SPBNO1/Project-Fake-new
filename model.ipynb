{
 "cells": [
  {
   "cell_type": "code",
   "execution_count": 1,
   "id": "1bb85980-6194-4827-8de7-0b0f389b9257",
   "metadata": {},
   "outputs": [
    {
     "name": "stdout",
     "output_type": "stream",
     "text": [
      "Collecting fasttext\n",
      "  Downloading fasttext-0.9.3.tar.gz (73 kB)\n",
      "\u001b[2K     \u001b[90m━━━━━━━━━━━━━━━━━━━━━━━━━━━━━━━━━━━━━━━━\u001b[0m \u001b[32m73.4/73.4 kB\u001b[0m \u001b[31m2.2 MB/s\u001b[0m eta \u001b[36m0:00:00\u001b[0m\n",
      "\u001b[?25h  Installing build dependencies ... \u001b[?25ldone\n",
      "\u001b[?25h  Getting requirements to build wheel ... \u001b[?25ldone\n",
      "\u001b[?25h  Preparing metadata (pyproject.toml) ... \u001b[?25ldone\n",
      "\u001b[?25hCollecting pybind11>=2.2 (from fasttext)\n",
      "  Using cached pybind11-2.13.5-py3-none-any.whl.metadata (9.5 kB)\n",
      "Requirement already satisfied: setuptools>=0.7.0 in /opt/conda/lib/python3.11/site-packages (from fasttext) (68.2.2)\n",
      "Requirement already satisfied: numpy in /opt/conda/lib/python3.11/site-packages (from fasttext) (1.24.4)\n",
      "Using cached pybind11-2.13.5-py3-none-any.whl (240 kB)\n",
      "Building wheels for collected packages: fasttext\n",
      "  Building wheel for fasttext (pyproject.toml) ... \u001b[?25ldone\n",
      "\u001b[?25h  Created wheel for fasttext: filename=fasttext-0.9.3-cp311-cp311-linux_aarch64.whl size=326839 sha256=ae4b2200a0a24fdb74eaabf86351cffbdd09f9231fd8c991c42967ddb2967e2a\n",
      "  Stored in directory: /home/jovyan/.cache/pip/wheels/65/4f/35/5057db0249224e9ab55a513fa6b79451473ceb7713017823c3\n",
      "Successfully built fasttext\n",
      "Installing collected packages: pybind11, fasttext\n",
      "Successfully installed fasttext-0.9.3 pybind11-2.13.5\n"
     ]
    }
   ],
   "source": [
    "!pip install fasttext"
   ]
  },
  {
   "cell_type": "code",
   "execution_count": 4,
   "id": "06fb4290-3e4e-44f9-8eef-92e2900da149",
   "metadata": {},
   "outputs": [],
   "source": [
    "import pandas as pd\n",
    "\n",
    "# Load your preprocessed CSV file\n",
    "df = pd.read_csv('merged_data.csv')\n",
    "\n",
    "# Combine the label and text into the fastText format\n",
    "df['fasttext_format'] = df['body'] + ' ' + df['cleaned_text']\n",
    "\n",
    "# Save the new file in fastText format\n",
    "df['fasttext_format'].to_csv('train.txt', index=False, header=False)\n"
   ]
  },
  {
   "cell_type": "code",
   "execution_count": 5,
   "id": "07eedccb-f591-4dcf-a7c7-149afb9d1b84",
   "metadata": {},
   "outputs": [
    {
     "name": "stderr",
     "output_type": "stream",
     "text": [
      "Read 0M words\n",
      "Number of words:  31020\n",
      "Number of labels: 0\n",
      "Progress: 100.0% words/sec/thread: 5212090 lr:  0.000000 avg.loss:       nan ETA:   0h 0m 0s\n"
     ]
    }
   ],
   "source": [
    "import fasttext\n",
    "\n",
    "# Train the model\n",
    "model = fasttext.train_supervised('train.txt', epoch=25, lr=1.0, wordNgrams=2, verbose=2, minCount=1)\n",
    "\n",
    "# Save the model\n",
    "model.save_model('thai_text_classification_model.bin')\n"
   ]
  },
  {
   "cell_type": "code",
   "execution_count": 7,
   "id": "13eabb71-46ff-49f4-9490-fa1831c99774",
   "metadata": {},
   "outputs": [
    {
     "data": {
      "text/plain": [
       "(0, nan, nan)"
      ]
     },
     "execution_count": 7,
     "metadata": {},
     "output_type": "execute_result"
    }
   ],
   "source": [
    "model.test('train.txt')"
   ]
  },
  {
   "cell_type": "code",
   "execution_count": 10,
   "id": "a4e7fa1a-5303-45c2-b842-35c303e59f4f",
   "metadata": {},
   "outputs": [
    {
     "name": "stdout",
     "output_type": "stream",
     "text": [
      "([[], []], [array([], dtype=float32), array([], dtype=float32)])\n"
     ]
    }
   ],
   "source": [
    "texts = [\"ผู้พบเห็น\", \"มีโปรโมชั่นไหมคะ\"]\n",
    "labels = model.predict(texts)\n",
    "print(labels)"
   ]
  },
  {
   "cell_type": "code",
   "execution_count": 1,
   "id": "4cd37fe1-c7fd-4286-960b-57129cb3cd83",
   "metadata": {},
   "outputs": [
    {
     "name": "stdout",
     "output_type": "stream",
     "text": [
      "fatal: destination path 'Project-Fake-new' already exists and is not an empty directory.\n"
     ]
    }
   ],
   "source": [
    "!git clone https://github.com/SPBNO1/Project-Fake-new.git"
   ]
  },
  {
   "cell_type": "code",
   "execution_count": 2,
   "id": "e0ea064a-e35b-4430-a204-b92716202a42",
   "metadata": {},
   "outputs": [
    {
     "name": "stdout",
     "output_type": "stream",
     "text": [
      "all_df.csv\t       test_file.csv\n",
      "cleaned_text_data.csv  test.ipynb\n",
      "data\t\t       testpro\n",
      "datatest\t       thai_text_classification_model.bin\n",
      "df_drop.csv\t       thsarabunnew-webfont.ttf\n",
      "__MACOSX\t       thsarabunnew-webfont.ttf.1\n",
      "manual_testing.csv     thsarabunnew-webfont.ttf.2\n",
      "master.zip\t       thsarabunnew-webfont.ttf.3\n",
      "master.zip.1\t       thsarabunnew-webfont.ttf.4\n",
      "master.zip.2\t       thsarabunnew-webfont.ttf.5\n",
      "merged_data.csv        thsarabunnew-webfont.ttf.6\n",
      "model.ipynb\t       thsarabunnew-webfont.ttf.7\n",
      "prepare.ipynb\t       train.txt\n",
      "Project-Fake-new       wisesight_data\n",
      "project.ipynb\t       wisesight-sentiment-master\n",
      "review_dataset.zip     wongnai_data\n",
      "review_dataset.zip.1   w_review_train.csv\n",
      "sample_submission.csv  xxx.ipynb\n",
      "test\n"
     ]
    }
   ],
   "source": [
    "!ls"
   ]
  },
  {
   "cell_type": "code",
   "execution_count": 4,
   "id": "4b3ca4de-0581-4076-bb17-fbfc15f67897",
   "metadata": {},
   "outputs": [
    {
     "name": "stdout",
     "output_type": "stream",
     "text": [
      "fatal: not a git repository (or any parent up to mount point /home/jovyan)\n",
      "Stopping at filesystem boundary (GIT_DISCOVERY_ACROSS_FILESYSTEM not set).\n"
     ]
    }
   ],
   "source": [
    "!git push https://github.com/SPBNO1/Project-Fake-new.git"
   ]
  },
  {
   "cell_type": "code",
   "execution_count": null,
   "id": "c2835def-49f2-4f51-8ab0-93f4ffb50ef0",
   "metadata": {},
   "outputs": [],
   "source": []
  }
 ],
 "metadata": {
  "kernelspec": {
   "display_name": "Python 3 (ipykernel)",
   "language": "python",
   "name": "python3"
  },
  "language_info": {
   "codemirror_mode": {
    "name": "ipython",
    "version": 3
   },
   "file_extension": ".py",
   "mimetype": "text/x-python",
   "name": "python",
   "nbconvert_exporter": "python",
   "pygments_lexer": "ipython3",
   "version": "3.11.6"
  }
 },
 "nbformat": 4,
 "nbformat_minor": 5
}
